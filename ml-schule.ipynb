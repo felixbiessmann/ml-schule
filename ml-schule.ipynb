{
 "cells": [
  {
   "cell_type": "markdown",
   "metadata": {},
   "source": [
    "## Laden der Text Daten "
   ]
  },
  {
   "cell_type": "code",
   "execution_count": 1,
   "metadata": {},
   "outputs": [
    {
     "name": "stdout",
     "output_type": "stream",
     "text": [
      "43679 Reden wurden geladen\n",
      "\n",
      "****************************\n",
      "Beispiele von Partei cducsu:\n",
      "****************************\n",
      "\n",
      "\n",
      "*******************************\n",
      "Sprecher Dr. Stefan Kaufmann:\n",
      "\n",
      "Bezüglich der Fusionsforschung stehen wir in dieser Woche an einem Scheideweg. Ich möchte nicht falsch verstanden werden: Selbstverständlich bekennen wir uns nach wie vor zur Fusionsforschung, weil wir die darin liegenden immensen Chancen zur Sicherung unserer Energieversorgung über das Jahr 2050 hinaus sehen. Funktioniert die Kernfusion wie geplant, können wir unseren Energiebedarf ab der zweiten Hälfte des Jahrhunderts einfach und sauber decken. Bis dahin ist es jedoch ein weiter Weg. Dieser Weg darf für die Beteiligten nicht zu einem Drahtseilakt werden, zumal uns ein Auffangnetz derzeit fehlt.\n",
      "\n",
      "Auf die Chancen für die Hightechindustrie in Deutschland und die positiven Wechselwirkungen von ITER und der Fusionsforschung in Garching und Greifswald habe ich in meiner letzten Rede bereits hingewiesen. Nochmals: Wir sind gewillt, das Projekt ITER weiterzuführen, allerdings nur dann, wenn wir die feste Überzeugung haben, dass das Management den Aufgaben gewachsen ist und die technischen Probleme in den Griff zu bekommen sind. Auch hier sind noch einige Fragen offen, zum Beispiel hinsichtlich ungeklärter Materialfragen beim Bau des Reaktors.\n",
      "\n",
      "Liebe Kolleginnen und Kollegen von den Grünen - Sie haben den Antrag gestellt -, ganz ohne Risiko kommen wir nicht zu neuer Spitzentechnologie. Schließlich setzen wir ganz bewusst auf deutliche Mehrausgaben in den Bereichen Bildung und Forschung. Ich erinnere an unsere lebhafte Diskussion heute Morgen. Bei der harten internationalen Konkurrenz liegt die Zukunft Deutschlands als Innovationsstandort in der Forschung. Die Fortführung von ITER hat also nichts damit zu tun, die Förderung erneuerbarer Energien oder Forschungsausgaben in diesem Bereich zurückzufahren, wie das die Grünen gerne unterstellen. Dieser Vorwurf ist unredlich, entsprechende Befürchtungen sind offensichtlich unbegründet, und das wissen auch Sie.\n",
      "\n",
      "*******************************\n",
      "Sprecher Franz Obermeier:\n",
      "\n",
      "Wenn sie klug waren, dann haben sie in der Vergangenheit schon einiges dafür unternommen, dass dieser Kostenfaktor so klein wie möglich bleibt. Ich weiß von vielen Unternehmen, dass sie aufgrund der aktuellen Entwicklung und dessen, was noch alles auf uns zukommt, zum Beispiel beim Netzausbau, alles Mögliche unternehmen, um den absoluten Energieverbrauch, speziell den Stromverbrauch, so gering wie möglich zu halten.\n",
      "\n",
      "Ich will Ihnen auch sagen: Im internationalen Vergleich der Produktivität – schauen Sie sich die Studien an – ist die deutsche Wirtschaft, insbesondere die energieverbrauchende Wirtschaft, an der Weltspitze. Wir sind weltweit die Besten, wenn es darum geht, wie viel Energie bezogen auf eine produktive Einheit verbraucht wird. Hier sind wir hervorragend. Hier können wir auch noch besser werden, das ist schon wahr, aber das Risiko, das wir eingehen würden, wenn wir solche Instrumente wie die einsetzen würden, die die Linken per Antrag eingebracht haben, wäre mir viel zu groß.\n",
      "\n",
      "Meine Damen und Herren, wir haben in Deutschland eine kumulative Belastung des Stroms, zum einen durch die Steuern, zum anderen durch den Emissionshandel, durch die EEG-Umlage und durch die KWK-Umlage. Wir müssen aufpassen, dass wir uns alle miteinander nicht überfordern. Deswegen ist es unser Bestreben, das Bestreben der christlich-liberalen Koalition, dass wir diese Lasten beim Umstieg in der Energiepolitik für die Verbraucher insgesamt und für die deutsche Volkswirtschaft so gering wie möglich halten.\n",
      "\n",
      "Wir reden jetzt von einer Zusatzbelastung durch die EEG-Umlage in Höhe von 3,5 Cent pro Kilowattstunde, und in diesem Jahr wird es beispielsweise in der Photovoltaik wieder zu einem deutlichen Zubau kommen. Wir tun uns alle miteinander keinen Gefallen, wenn wir die gesamten Belastungen für die Kleinverbraucher, für die mittelständische Wirtschaft und für die Industrie ständig anwachsen lassen.\n",
      "\n",
      "****************************\n",
      "Beispiele von Partei fdp:\n",
      "****************************\n",
      "\n",
      "\n",
      "*******************************\n",
      "Sprecher Dr. Martin Neumann:\n",
      "\n",
      "Sehr geehrter Herr Präsident! Liebe Kolleginnen und Kollegen! Bei meinem gestrigen Besuch auf der Internationalen Luft- und Raumfahrtausstellung am Flughafen Berlin-Schönefeld kam ich mit einem Vertreter eines der bedeutendsten Hersteller für Flugzeugtriebwerke ins Gespräch. Jetzt fragen Sie natürlich, was das mit dem Thema ITER und vor allen Dingen mit dessen Zukunftsperspektiven zu tun hat. Ich fragte, als mir ein Triebwerk einer neuen Generation gezeigt wurde, wie hoch in etwa die Entwicklungskosten für ein solches Hightechprodukt sind. Die Antwort, die ich erhalten habe, hat mich nachdenklich gemacht. Vom Anfang der Entwicklung bis zum fertigen Triebwerk muss circa 1 Milliarde Euro investiert werden.\n",
      "\n",
      "Zurück zum ITER. Wir sprechen hier über die Kostensteigerung und den europäischen Anteil bei der Finanzierung des größten Fusionsforschungsprojektes der Welt. Der europäische Anteil für diese Energiemaschine soll 7,2 Milliarden Euro betragen. Dieser Betrag wird gedeckelt. Im Gegensatz zu dem genannten Triebwerksbau betreten wir an dieser Stelle völliges Neuland. Mit ITER schaffen wir das Triebwerk für die Energieversorgung von morgen. Mit der Kernfusionsforschung versucht man, eine unerschöpfliche Quelle kostengünstiger und umweltfreundlicher Energie zu entwickeln, bei der kaum Abfallprodukte entstehen.\n",
      "\n",
      "*******************************\n",
      "Sprecher Dr. Heinrich L. Kolb:\n",
      "\n",
      "Das Bild, das ich hier gezeichnet habe, gilt für ausnahmslos alle Bundesländer und, wie gesagt, für beide Rechtskreise. Auch die Langzeitarbeitslosen – das ist uns ganz wichtig – sind in diesen Trend eingebunden.\n",
      "\n",
      "Dass wir im europäischen Vergleich einen der größten Rückgänge bei der Erwerbsarbeitslosigkeit zu verzeichnen haben, will ich der Vollständigkeit halber erwähnen. Ich bitte Sie, sich die entsprechenden Grafiken einmal anzuschauen. Dann erkennen Sie nämlich, dass die europäischen Länder bis zur Finanz- und Wirtschaftskrise im Jahr 2009 annähernd im Gleichklang waren. Sie erkennen ferner, dass die Arbeitslosigkeit nach 2009 in den Ländern der EU-27 und in den 17 Ländern der Euro-Zone gestiegen ist, nur nicht in Deutschland. In Deutschland ist diese Zahl erfreulicherweise im Sinken begriffen. Das zeigt, dass die Maßnahmen, die wir hier teilweise gegen heftigste Kritik der Opposition durchgesetzt haben, gegriffen haben. Sie haben dazu geführt, dass mehr Menschen in Beschäftigung gekommen sind.\n",
      "\n",
      "****************************\n",
      "Beispiele von Partei gruene:\n",
      "****************************\n",
      "\n",
      "\n",
      "*******************************\n",
      "Sprecher Peter Meiwald:\n",
      "\n",
      "Ein anderes Beispiel, das ich noch kurz erwähnen möchte – es wird immer wieder vorgebracht –, ist die Frage der Krankenversicherung; es ist von den Kolleginnen Stamm-Fibich und Wöllert schon angesprochen worden. Da gibt es einen enormen Handlungsbedarf. Unser zweigliedriges Krankenversicherungssystem ist überholt, vorgestrig, bürokratisch, im Einzelfall oftmals ungerecht. Zu dieser Einschätzung kommen wir oft gemeinsam. Wir schlagen immer wieder vor, die Petition der Bundesregierung als Material zu überweisen, um eine Bürgerversicherung einzuführen. Das Ministerium könnte mit Vorschlägen dieser Art wahrscheinlich schon heute seine Bürowände pflastern. Aber die Überweisungsvorschläge, die wir machen, bringen die Petition nicht in das Ministerium, weil sie im Ausschuss blockiert werden. Ich sage das, um zu unterstreichen, was Kollegin Rüffer meinte. Es gibt da viele Dinge, wo wir noch Verbesserungsbedarf haben.\n",
      "\n",
      "Auch wenn das Petitionswesen als solches noch Reformen vertragen könnte – das ist schon angesprochen worden –: Wenn wir das, was wir schon können, nutzen würden, könnten wir für die Bürgergesellschaft einiges mehr tun, als wir bisher getan haben. Ich freue mich darauf, daran in den nächsten Jahren konstruktiv weiterzuarbeiten, auch im Ringen um die besten Lösungen. Natürlich gibt es in einer Demokratie Mehrheitsverhältnisse; das ist völlig klar. Aber ich glaube, wir sollten gemeinsam daran weiterarbeiten.\n",
      "\n",
      "Herzlichen Dank.\n",
      "\n",
      "*******************************\n",
      "Sprecher Wolfgang Wieland:\n",
      "\n",
      "– Ich habe mich schon vorbeugend entschuldigt, sollte ich ihn übersehen haben. Es war so: Ich habe ihn übersehen.\n",
      "\n",
      "Herr Staatssekretär Schröder, da Sie vor Ort waren, haben Sie genauso wie ich gehört, dass sich der BKA-Chef unter Beifall der gesamten CDU/CSU-Bank darüber beklagt hat, dass er gemäß BKA-Gesetz, also nach Polizeirecht, abhören bzw. eine Quellen-TKÜ durchführen darf. Wenn er aber den Fall auf Weisung der Bundesjustizministerin an den Generalbundesanwalt abgeben muss, dann muss die Maßnahme abgebrochen werden.\n",
      "\n",
      "Sie behaupten, dass zwischen den Kollegen Stadler und Sie kein Stück Löschpapier passe. Ich frage Sie: Wie wollen Sie die Diskrepanz denn benennen, wenn Sie doch so übereinstimmen? Die einen sagen, man dürfe nicht. Der BKA-Präsident hat sogar gesagt, er verzögere deswegen die Abgabe; was rechtlich sehr kritisch ist. Hören Sie auf, uns die heile Welt im Hinblick auf die Übereinstimmung der Bundesregierung vorzuspielen! Nicht umsonst hat Ihr Koalitionspartner ein Moratorium für den Einsatz von Trojanern gefordert. Haben Sie es umgesetzt? Gibt es ein Moratorium? Werden sie zurzeit nicht eingesetzt, wie es die Kollegin Piltz beispielsweise gefordert hat? Wie sieht es wirklich aus zwischen Schwarz und Gelb?\n",
      "\n",
      "****************************\n",
      "Beispiele von Partei linke:\n",
      "****************************\n",
      "\n",
      "\n",
      "*******************************\n",
      "Sprecher Heidrun Dittrich:\n",
      "\n",
      "Sie haben soeben eine Lanze für die Referatsleiterin bei der Ministerin gebrochen, die dort als alleinerziehende Mutter arbeitet. Sie haben sich in diesem Zusammenhang auf die Alleinerziehenden bezogen, die im Arbeitsleben stehen. Ich möchte mich auf die arbeitenden und armen Alleinerziehenden beziehen.\n",
      "\n",
      "Wissen Sie eigentlich, wie viel Geld eine Alleinerziehende mit drei Kindern mindestens braucht, um aus Hartz IV herauszukommen? Nehmen wir an, sie verdient 8 Euro pro Stunde. Ein Stundenlohn von 8 Euro reicht nicht aus; denn bei einer 40-Stunden-Woche kommt sie auf 1 280 Euro. Rechnet man das Kindergeld für die drei Kinder dazu, dann ergibt das einen Betrag von ungefähr 1 830 Euro. Wenn sie Arbeitslosengeld II erhält – dies umfasst den Regelsatz für den Haushaltsvorstand; sie bekommt je nach Alter der Kinder unterschiedliche Regelsätze; je kleiner die Kinder, desto geringer sind die Regelsätze –, kommt die Frau unter Berücksichtigung des Mehrbedarfs einer Alleinerziehenden über diesen Betrag. Das heißt, sie müsste ungefähr 1 800 Euro netto verdienen, damit es sich für sie überhaupt lohnt, arbeiten zu gehen. Was für ein Bruttogehalt müsste sie dann bekommen? Um die 3 000 Euro. Was passiert mit dem Betreuungsgeld für diese aufstockende Mutter? Bekommt sie es, oder bekommt sie es nicht?\n",
      "\n",
      "*******************************\n",
      "Sprecher Dr. Diether Dehm:\n",
      "\n",
      "Am 22. Januar in Davos erlaubten Sie sich, Herr Gabriel, TTIP-Kritiker als hysterisch zu beschimpfen. Sie verzauberten die skeptische SPD-Basis mit dem Satz, alles habe Recht und Ordnung. Dazu nur zwei Urteile: Erstens. Am 17. November entschied der Europäische Gerichtshof, dass die öffentliche Hand die Vergabe von Aufträgen von der Zahlung eines Mindestlohns abhängig machen darf. CETA jedoch, das Gesellenstück für TTIP, würde das alles außer Kraft setzen, schützt also nicht einmal europäisches Recht. Es ist ein Leichtes für US-Konzerne, in Kanada einen Briefkasten anzumelden und dann in Europa Armutslöhne zu zahlen.\n",
      "\n",
      "Zweitens. Anfang November wurde Ecuador vom Schiedsgericht der Weltbank zur Zahlung von 1,1 Milliarden Dollar an den US-amerikanischen Ölkonzern Oxy verurteilt. Zwar erkannte das Gericht an, Oxy habe gegen ecuadorianisches Recht verstoßen, ging aber davon aus, dass die Firma durch den Staat benachteiligt wurde. Schöne neue Welt für Finanzhaie! Es ist diskriminierend, wenn mit TTIP und CETA Konzerne Staaten verklagen dürfen, aber demokratisch gewählte Regierungen niemals einen Konzern.\n",
      "\n",
      "****************************\n",
      "Beispiele von Partei spd:\n",
      "****************************\n",
      "\n",
      "\n",
      "*******************************\n",
      "Sprecher Dr. Sascha Raabe:\n",
      "\n",
      "Sehr geehrter Herr Kollege Koppelin, die Unruhe, die Sie bemängeln, kommt daher, dass Sie in Ihrer Rede so viele Unwahrheiten gesagt haben, dass ich sie in dieser Zwischenfrage gar nicht alle aufzählen kann. Ich will nur drei nennen:\n",
      "\n",
      "Erstens. Sie haben behauptet, Deutschlands ODA-Quote für 2009 liege bei 0,36. Sie müssten wissen, dass die ODA-Quote im Nachhinein errechnet wird: Der entsprechende Ausschuss der OECD, der DAC, muss erst feststellen, was 2009 tatsächlich ausgegeben worden ist. Vorher kann die ODA-Quote nicht ermittelt werden. Sie können also noch gar nicht wissen, wie hoch die ODA-Quote für 2009 ist.\n",
      "\n",
      "Zweitens ist es so, dass wir erwarten, dass die ODA-Quote für 2009 bei 0,41 liegt. Bevor Helmut Kohl regiert hat, lag die ODA-Quote bei 0,47. Das ist heruntergewirtschaftet worden auf 0,26 im Jahr 1998. Unter Heidi Wieczorek-Zeul haben wir die ODA-Quote von 0,26 wieder auf fast 0,41 gesteigert. Wir hätten es gern weitergemacht; aber nun haben Sie uns mit Ihrem Haushaltsentwurf etwas vorgelegt, mit dem Sie das Versprechen brechen.\n",
      "\n",
      "Zweiter Punkt: Sie sagten, das Bundesministerium habe bei uns nicht Bundesministerium für wirtschaftliche Zusammenarbeit geheißen, sondern nur Bundesministerium für Entwicklung. Sie können nicht so tun, als heiße es jetzt durch die FDP auf einmal Bundesministerium für wirtschaftliche Zusammenarbeit. Dies war auch bei uns schon so.\n",
      "\n",
      "Dritter Punkt: Wir sind natürlich verwundert, wenn Sie sagen, sie wollen die Budgethilfe einstellen, weil der Bundesrechnungshof fordere, dass sie eingestellt werden müsse. Das ist schlicht gelogen. Der Bundesrechnungshof sagt nicht, dass überall, wo sich Deutschland an Budgethilfe beteiligt – multilateral, auf EU-Ebene, auf UN-Ebene –, die Budgethilfe eingestellt werden müsse. Sie können hier doch nicht eine Rede halten, in der Sie dem Bundesrechnungshof etwas unterstellen, was er nicht gesagt hat.\n",
      "\n",
      "Ich muss übrigens keine Frage stellen. Sie sollten sich einmal die Geschäftsordnung anschauen. Dann werden Sie sehen, dass ich hier auch Lügen richtigstellen darf. Wenn Sie hier einen solchen Unsinn erzählen, dann kann es einen nicht mehr auf dem Platz halten.\n",
      "\n",
      "*******************************\n",
      "Sprecher Klaus Hagemann:\n",
      "\n",
      "Da ist Irland das beste Beispiel.\n",
      "\n",
      "Bei der Haushaltsberatung im Frühjahr zum laufenden Haushalt hatten wir die Griechenland-Krise. Jetzt, bei den Beratungen für 2011, haben wir die Irland-Krise. Dazwischen hatten wir noch den Rettungsschirm mit 750 Milliarden Euro zu beschließen. Außerdem war noch ein Stresstest der Banken zu machen. 91 Banken wurden dem Stresstest unterzogen. Er hat keine Wirkung gezeigt, und auch die Entscheidungen haben keine Wirkung gezeigt.\n",
      "\n",
      "Schwarz-Gelb und auch der Bundesfinanzminister verfahren immer nach einem bestimmten Muster: Erst machen Gerüchte die Runde. Anschließend wird von der Bundesregierung und von Schwarz-Gelb abgewiegelt. Gewisse Entwicklungen werden geleugnet. Wenn man Fragen stellt, bekommt man laue Antworten. Im Parlament werden keine Antworten gegeben. Das können wir im Haushaltsauschuss oder auch im Unterausschuss zu Fragen der Europäischen Union immer wieder feststellen. Und plötzlich, ganz plötzlich, fällt es vom Himmel: Dann werden durch den Bundesfinanzminister und durch die Bundeskanzlerin hektische Notrunden eingeläutet. Es werden kurzerhand Fakten geschaffen, und das Parlament wird überhaupt nicht beteiligt. Das ist die Kritik.\n"
     ]
    }
   ],
   "source": [
    "import os, gzip\n",
    "import pandas as pd\n",
    "import numpy as np\n",
    "import urllib.request\n",
    "\n",
    "DATADIR = \"data\"\n",
    "\n",
    "if not os.path.exists(DATADIR): \n",
    "    os.mkdir(DATADIR)\n",
    "\n",
    "file_name = os.path.join(DATADIR, 'bundestags_parlamentsprotokolle.csv.gzip')\n",
    "if not os.path.exists(file_name):\n",
    "    url_data = 'https://www.dropbox.com/s/1nlbfehnrwwa2zj/bundestags_parlamentsprotokolle.csv.gzip?dl=1'\n",
    "    urllib.request.urlretrieve(url_data, file_name)\n",
    "\n",
    "df = pd.read_csv(gzip.open(file_name)).sample(frac=1)\n",
    "\n",
    "alle_sprecher = df.sprecher.unique()\n",
    "parteien = df.partei.unique()\n",
    "partei_farben = {'cducsu':'black', 'linke':'purple', 'spd':'red', 'gruene':'green', 'fdp':'yellow'}\n",
    "\n",
    "print(\"{} Reden wurden geladen\".format(len(df)))\n",
    "\n",
    "# Zeige einige Reden von Parteien\n",
    "for party in np.unique(df['partei']):\n",
    "    print(\"\\n****************************\\nBeispiele von Partei {}:\\n****************************\\n\".format(party))\n",
    "    for _, speech in df[df['partei']==party].sample(2).iterrows():\n",
    "        print(\"\\n*******************************\\nSprecher {}:\\n\\n{}\".format(speech['sprecher'], speech['text']))\n"
   ]
  },
  {
   "cell_type": "code",
   "execution_count": 2,
   "metadata": {
    "collapsed": true
   },
   "outputs": [],
   "source": [
    "from sklearn.metrics import confusion_matrix, classification_report\n",
    "from sklearn.feature_extraction.text import CountVectorizer, TfidfVectorizer\n",
    "from sklearn.model_selection import train_test_split, GridSearchCV\n",
    "from sklearn.naive_bayes import MultinomialNB\n",
    "from sklearn.linear_model import SGDClassifier\n",
    "from sklearn.pipeline import Pipeline\n",
    "import warnings\n",
    "\n",
    "def train(texts, party):\n",
    "    '''\n",
    "    Eine Funktion, die gegeben Texte und Labels einen Klassifier trainiert\n",
    "    '''\n",
    "    stopwords = [w.strip() for w in open(\"data/stopwords.txt\").readlines()]\n",
    "    with warnings.catch_warnings():\n",
    "        warnings.simplefilter(\"ignore\")\n",
    "        # Eine Machine Learning Pipeline um Bag-of-Words Vectors zu erstellen aus Texten\n",
    "        text_clf = Pipeline([('vect', TfidfVectorizer(stop_words=stopwords)),\n",
    "                            ('clf', SGDClassifier(loss='log', class_weight='balanced'))])\n",
    "        # some hyperparameters\n",
    "        parameters = {\n",
    "            'vect__ngram_range': [(1, 1), (1, 2)],\n",
    "            'vect__max_df': [0.8],\n",
    "            'clf__alpha': (np.logspace(-6, -4, 2)).tolist()\n",
    "        }\n",
    "        # perform gridsearch to get the best regularizer\n",
    "        clf = GridSearchCV(text_clf, parameters, cv=2, n_jobs=-1,verbose=4)\n",
    "        clf.fit(texts, party)\n",
    "\n",
    "    return clf\n"
   ]
  },
  {
   "cell_type": "markdown",
   "metadata": {},
   "source": [
    "## Trainieren eines linearen Klassifiers"
   ]
  },
  {
   "cell_type": "code",
   "execution_count": 3,
   "metadata": {
    "scrolled": true
   },
   "outputs": [
    {
     "name": "stdout",
     "output_type": "stream",
     "text": [
      "Fitting 2 folds for each of 4 candidates, totalling 8 fits\n",
      "[CV] clf__alpha=1e-06, vect__max_df=0.8, vect__ngram_range=(1, 1) ....\n",
      "[CV] clf__alpha=1e-06, vect__max_df=0.8, vect__ngram_range=(1, 1) ....\n",
      "[CV] clf__alpha=1e-06, vect__max_df=0.8, vect__ngram_range=(1, 2) ....\n",
      "[CV] clf__alpha=1e-06, vect__max_df=0.8, vect__ngram_range=(1, 2) ....\n",
      "[CV]  clf__alpha=1e-06, vect__max_df=0.8, vect__ngram_range=(1, 1), score=0.4829228092665507, total=  11.0s\n",
      "[CV]  clf__alpha=1e-06, vect__max_df=0.8, vect__ngram_range=(1, 1), score=0.4817732185381938, total=  11.1s\n",
      "[CV] clf__alpha=0.0001, vect__max_df=0.8, vect__ngram_range=(1, 1) ...\n",
      "[CV] clf__alpha=0.0001, vect__max_df=0.8, vect__ngram_range=(1, 1) ...\n",
      "[CV]  clf__alpha=0.0001, vect__max_df=0.8, vect__ngram_range=(1, 1), score=0.4962915483930043, total=  13.3s\n",
      "[CV]  clf__alpha=0.0001, vect__max_df=0.8, vect__ngram_range=(1, 1), score=0.49844293826708186, total=  13.0s\n",
      "[CV] clf__alpha=0.0001, vect__max_df=0.8, vect__ngram_range=(1, 2) ...\n"
     ]
    },
    {
     "name": "stderr",
     "output_type": "stream",
     "text": [
      "[Parallel(n_jobs=-1)]: Done   4 out of   8 | elapsed:   37.8s remaining:   37.8s\n"
     ]
    },
    {
     "name": "stdout",
     "output_type": "stream",
     "text": [
      "[CV] clf__alpha=0.0001, vect__max_df=0.8, vect__ngram_range=(1, 2) ...\n",
      "[CV]  clf__alpha=1e-06, vect__max_df=0.8, vect__ngram_range=(1, 2), score=0.5069132863290907, total=  29.0s\n",
      "[CV]  clf__alpha=1e-06, vect__max_df=0.8, vect__ngram_range=(1, 2), score=0.5043048177321854, total=  28.9s\n",
      "[CV]  clf__alpha=0.0001, vect__max_df=0.8, vect__ngram_range=(1, 2), score=0.494643347678784, total=  17.9s\n",
      "[CV]  clf__alpha=0.0001, vect__max_df=0.8, vect__ngram_range=(1, 2), score=0.49267265066862065, total=  17.4s\n"
     ]
    },
    {
     "name": "stderr",
     "output_type": "stream",
     "text": [
      "[Parallel(n_jobs=-1)]: Done   8 out of   8 | elapsed:  1.0min finished\n"
     ]
    }
   ],
   "source": [
    "# Erst nehmen wir einige Daten beiseite, um das Model darauf spaeter testen zu koennen\n",
    "train_data, test_data, train_labels, test_labels = train_test_split(df['text'], df['partei'], test_size=0.5)\n",
    "\n",
    "# Jetzt trainieren wir den Klassifier\n",
    "clf = train(train_data, train_labels)"
   ]
  },
  {
   "cell_type": "markdown",
   "metadata": {},
   "source": [
    "# Vorhersage auf Trainings Daten"
   ]
  },
  {
   "cell_type": "code",
   "execution_count": 4,
   "metadata": {},
   "outputs": [
    {
     "name": "stdout",
     "output_type": "stream",
     "text": [
      "             precision    recall  f1-score   support\n",
      "\n",
      "     cducsu       1.00      1.00      1.00      7985\n",
      "        fdp       1.00      1.00      1.00      1694\n",
      "     gruene       1.00      1.00      1.00      3148\n",
      "      linke       1.00      1.00      1.00      3055\n",
      "        spd       1.00      1.00      1.00      5957\n",
      "\n",
      "avg / total       1.00      1.00      1.00     21839\n",
      "\n"
     ]
    }
   ],
   "source": [
    "train_predictions = clf.predict(train_data)\n",
    "report = classification_report(train_predictions, train_labels)\n",
    "print(report)"
   ]
  },
  {
   "cell_type": "markdown",
   "metadata": {},
   "source": [
    "# Vorhersage auf Test Daten"
   ]
  },
  {
   "cell_type": "code",
   "execution_count": 5,
   "metadata": {},
   "outputs": [
    {
     "name": "stdout",
     "output_type": "stream",
     "text": [
      "             precision    recall  f1-score   support\n",
      "\n",
      "     cducsu       0.81      0.58      0.68     11189\n",
      "        fdp       0.21      0.48      0.29       716\n",
      "     gruene       0.27      0.53      0.36      1554\n",
      "      linke       0.47      0.60      0.53      2403\n",
      "        spd       0.49      0.49      0.49      5978\n",
      "\n",
      "avg / total       0.63      0.55      0.57     21840\n",
      "\n"
     ]
    }
   ],
   "source": [
    "test_predictions = clf.predict(test_data)\n",
    "report = classification_report(test_predictions, test_labels)\n",
    "print(report)"
   ]
  },
  {
   "cell_type": "markdown",
   "metadata": {},
   "source": [
    "## Confusion Matrix"
   ]
  },
  {
   "cell_type": "code",
   "execution_count": 6,
   "metadata": {},
   "outputs": [
    {
     "name": "stdout",
     "output_type": "stream",
     "text": [
      "[[6500  176  148  176 1051]\n",
      " [ 944  344   49   54  285]\n",
      " [ 846   54  830  401  989]\n",
      " [ 575   35  267 1444  724]\n",
      " [2324  107  260  328 2929]]\n"
     ]
    }
   ],
   "source": [
    "print(confusion_matrix(test_labels, test_predictions))"
   ]
  },
  {
   "cell_type": "markdown",
   "metadata": {},
   "source": [
    "# Bist du besser als das ML Modell? "
   ]
  },
  {
   "cell_type": "code",
   "execution_count": 12,
   "metadata": {},
   "outputs": [
    {
     "name": "stdout",
     "output_type": "stream",
     "text": [
      "================================\n",
      "Angesichts dessen muss es in unserem ureigenen Interesse liegen, erfolgreichen Außenhandel voranzutreiben. Mit ausgewogenen Freihandelsabkommen verbessern wir die Marktzugangsmöglichkeiten, schaffen Rechtssicherheit in den internationalen Handelsbeziehungen und ermöglichen es auch, die Gestaltung internationaler Handelsregeln zu prägen.\n",
      "\n",
      "Die Entwicklungen in der Welt deuten aktuell aber in eine andere, in eine besorgniserregende Richtung. Wir beobachten einen zunehmenden Rückzug ins Nationale. Freihandel gerät unter Druck. Was vor kurzem noch undenkbar schien: Sowohl in den USA als auch in Großbritannien sind anstelle von grenzüberschreitendem Handel und offenen Märkten Protektionismus und Abschottung auf dem Vormarsch, und das – wie wir feststellen, wenn wir die Berichterstattung in den letzten Tagen verfolgen – offensichtlich in atemberaubendem Tempo.\n",
      "\n",
      "Der Ausstieg der USA aus dem transpazifischen Freihandelsabkommen hat zwei Dinge verdeutlicht:\n",
      "\n",
      "Erstens. Der neue US-Präsident macht Ernst, all das umzusetzen, was er im Wahlkampf angekündigt hat. Er ist fest entschlossen, sich auf das Nationale zurückzuziehen und den freihandelspolitischen Rückzug der USA anzutreten.\n",
      "\n",
      "Zweitens. China ist fest entschlossen, das dadurch entstehende Vakuum zu seinen Gunsten zu nutzen.\n",
      "\n",
      "Wie reagieren wir auf diese Situation? Wir müssen verdeutlichen, dass Protektionismus die falsche Antwort auf die Herausforderungen der Globalisierung ist. Er ist die scheinbar einfache Antwort auf Sorgen und Ängste derer, die fürchten, im weltweiten Wettbewerb nicht mehr mithalten zu können. Protektionistische Maßnahmen – etwa Strafzölle und die damit verbundene Verteuerung von Importen –, das klingt für viele offensichtlich verführerisch und mag kurzfristig vielleicht sogar Effekte erzielen. Mittel- bis langfristig wird die Wirtschaft, werden die Arbeitnehmer bis ins Mark getroffen. Gleiches gilt für die Aufkündigung von geplanten oder bestehenden Handels- und Investitionsabkommen. Es ist geradezu ein Paradoxon unserer Zeit, dass vor allem jene Menschen in den traditionellen Industriestaaten der USA einen Präsidenten ins Amt gewählt haben, dessen erste Amtshandlung massive Auswirkungen auf ihre soziale Sicherheit entfalten könnte und wahrscheinlich auch entfalten wird.\n",
      "\n",
      "Und selbstverständlich hätten Zölle auf Autos in Höhe von 35 Prozent auch beträchtliche Folgen für die hiesige Automobilindustrie, für unsere Wirtschaft insgesamt. Es ist der Weg in den Verlust von Arbeitsplätzen.\n",
      "\n",
      "Protektionismus kennt nur Verlierer. Protektionismus ist die falsche Antwort auf die Herausforderungen der Globalisierung.\n",
      "------------------------------------\n",
      "Von welcher Partei ist dieser Text? Wähle aus ['cducsu' 'fdp' 'gruene' 'linke' 'spd']\n",
      "cducsu\n",
      "*****************************\n",
      "Deine Vorhersage: cducsu\n",
      "ML Vorhersage: spd\n",
      "Tatsächliche Partei: cducsu\n",
      "================================\n",
      "================================\n",
      "Herr Funk, Sie haben uns in Ihrem Schreiben zu Wochenbeginn mitgeteilt, dass es in der Bereinigungssitzung gelungen ist, die Mittel für die Deutsche Stiftung für internationale rechtliche Zusammenarbeit um 364 000 Euro auf 4,1 Millionen Euro zu erhöhen. Das ist eine gute Nachricht. Diese gute Nachricht müssen wir laut verkünden; denn die Stiftung für internationale rechtliche Zusammenarbeit hat die Aufgabe, unser deutsches Rechtssystem bzw. unser Verständnis vom Recht in anderen Ländern bekannt zu machen. Die Stiftung soll sogar dazu beitragen, dass die Rechtssysteme, die jetzt in den Ländern des arabischen Frühlings mit neuen Demokratien entstehen, den Charakter des deutschen Rechtssystems annehmen. Das wäre von großem Vorteil. -Natürlich wäre das von Vorteil für die deutschen Investoren, für die Produzenten, überhaupt für all diejenigen, die in diesen Ländern geschäftlich tätig sind.\n",
      "\n",
      "Ich weiß aber nicht, ob das gelingen wird, insbesondere in den Ländern, die vom Islam beherrscht werden.\n",
      "------------------------------------\n",
      "Von welcher Partei ist dieser Text? Wähle aus ['cducsu' 'fdp' 'gruene' 'linke' 'spd']\n",
      "gruene\n",
      "*****************************\n",
      "Deine Vorhersage: gruene\n",
      "ML Vorhersage: cducsu\n",
      "Tatsächliche Partei: cducsu\n",
      "================================\n",
      "================================\n",
      "Es gibt auch viele kleine Unternehmen, die genauso auf die Belange der Arbeitnehmer eingehen wie große. Wissen Sie, wir haben ein anderes Verständnis vom Verhältnis zwischen Arbeitgeber- und Arbeitnehmerseite. Wir sind nicht so dogmatisch eingeengt wie Sie und Ihre Partei. Wir sagen: Jawohl, der Arbeitnehmer hat die Möglichkeit, zu sagen: Lieber Chef, ich brauche jetzt etwas Zeit, um in den nächsten sechs bis acht Monaten meine Angehörigen zu pflegen. Wie schaut es aus? Kann ich meine Zeit reduzieren? – Wenn der Arbeitgeber sagt: \"Das geht aber absolut nicht\", dann hat der Arbeitnehmer doch aufgrund des Fachkräftemangels, der mittlerweile in vielen Branchen herrscht – auch in denen, die von Ihnen schmählich als Krauterfirmen bezeichnet wurden –, die Möglichkeit, zu sagen: Gut, lieber Chef, wenn du mir das nicht gewährst, dann muss ich leider in ein Unternehmen gehen, wo ich diesen Anspruch habe. – Das heißt also, es wird in vielen Bereichen funktionieren. Schauen Sie sich die Realität an. Wie gesagt, ich halte von dogmatischen, klassenkämpferischen Parolen in diesem Bereich sehr wenig. – Frau Zimmermann, bleiben Sie stehen. Ich bin noch nicht fertig.\n",
      "------------------------------------\n",
      "Von welcher Partei ist dieser Text? Wähle aus ['cducsu' 'fdp' 'gruene' 'linke' 'spd']\n",
      "fdp\n",
      "*****************************\n",
      "Deine Vorhersage: fdp\n",
      "ML Vorhersage: cducsu\n",
      "Tatsächliche Partei: cducsu\n",
      "================================\n",
      "================================\n",
      "Ich glaube, es ist manchmal leicht, von hier aus gegenüber dem einen oder anderen Ressort Kritik an einer schleppenden internationalen Aufbauhilfe zu äußern. Dennoch glaube ich, dass man auch daran erinnern muss, dass die Vereinten Nationen schreckliche Verluste an Menschenleben, an Mitarbeiterinnen und Mitarbeitern – es sind mindestens 50, wahrscheinlich sogar bis zu 300 – erlitten haben. Die Vereinten Nationen sind jene Organisation, die nach meinem Dafürhalten wieder die internationale Aufbauarbeit wird leisten müssen. Natürlich können die USA das zum jetzigen Zeitpunkt schaffen, aber es wäre gut, wenn wir uns auch vonseiten Europas darauf konzentrierten, dass insbesondere die Vereinten Nationen als internationale Hilfsorganisation daran mitwirken müssen, den notwendigen Aufbau Haitis zu unterstützen. Deswegen noch einmal: Herr Außenminister, auch wir haben großen Respekt vor den Mitarbeiterinnen und Mitarbeitern der Botschaft, vor ihrem unermüdlichen Einsatz vor Ort, gerade angesichts der schrecklichen Bilder, die sie unmittelbar erlebt haben.\n",
      "\n",
      "Umso mehr ist – wenn wir uns den außenpolitischen Problemen stellen – ein Unterschied zu Haiti zu benennen. Wir haben viele internationale Probleme zu lösen. Aber wir können diese internationalen Probleme mit kluger Politik und Vernunft regeln. Naturkatastrophen, wie Haiti sie erlebt hat, sind nicht beherrschbar. Aber wir können die internationalen Probleme mit einer klugen Politik lösen. Wir vonseiten der sozialdemokratischen Bundestagsfraktion, vonseiten der Opposition, wollen daran mitwirken. Dies ist gar keine Frage.\n",
      "\n",
      "Wo Kritik notwendig ist, wollen wir sie üben. Deswegen würde ich gerne an dieser Stelle ein paar Punkte ansprechen. Herr Außenminister, Sie haben es erwähnt: In der nächsten Woche werden wir im Deutschen Bundestag noch einmal eine wichtige Afghanistan-Debatte führen. Ich bin dankbar, dass die Bundeskanzlerin für die Bundesregierung etwas zur Afghanistan-Politik und zur Konferenz in London sagen will. Es hat nach meinem Dafürhalten lange gedauert, bis sie sich dazu bereit erklärt hat. Ich glaube, das hat auch etwas damit zu tun, dass das gesamte Haus an die Bundesregierung appelliert hat, vor der Konferenz in London sehr deutlich zu machen, in welche Richtung die Bundesregierung gehen will. Vielleicht hat sie etwas zu lange gezögert, aber immerhin macht sie es.\n",
      "\n",
      "Dennoch will ich zwei Punkte ansprechen, die aus meiner Sicht notwendig sind. Wir vonseiten der SPD haben sehr frühzeitig über die Afghanistan-Politik gesprochen, nicht nur in der Regierung, sondern auch während des Wahlkampfes. Frank-Walter Steinmeier hat als Kandidat für den 27. September ein sehr umfassendes Programm vorgestellt. Wir werden am Freitag in einer hochrangigen Afghanistan-Konferenz noch einmal darüber beraten, wie notwendig dieser Weg ist.\n",
      "\n",
      "Dennoch stellen sich aus meiner Sicht, wenn wir nächste Woche darüber beraten, bereits heute zwei Fragen. Der Verteidigungsminister hat uns in den vergangenen Tagen und Wochen immer wieder über Veröffentlichungen in Medien mitgeteilt, dass aus seiner Sicht die internationale Rechtssicherheit für das Afghanistan-Mandat nicht hergestellt ist. Er hat ausgeführt, dass wir darüber befinden müssen, dass es dort einen nichtinternationalen bewaffneten Konflikt gibt. Angeblich hat er zweimal versucht, das im Kabinett unterzubringen. Es ist ihm offensichtlich nicht gelungen. Deswegen meine Fragen – ich bitte Sie, das in die Debatte über den Einzelplan 14 aufzunehmen –: Haben wir in diesem Zusammenhang Rechtssicherheit? Hat die Bundesregierung im Dezember einen Antrag vorgelegt, der rechtssicher ist, damit der Bundestag möglicherweise zustimmt? Oder ist das nicht der Fall?\n",
      "\n",
      "Ich glaube, diese Diskussion trägt eher zur Verunsicherung bei, insbesondere das, was in den letzten Wochen immer wieder von Sprechern der einzelnen Ressorts gesagt worden ist. Frank-Walter Steinmeier hat für unsere Seite erklärt, dass auch wir als Opposition die Verantwortung für Afghanistan übernehmen, zwar nicht bedingungslos, aber wir haben Kriterien formuliert, die wir in der nächsten Woche zur Diskussion stellen.\n",
      "\n",
      "Umso mehr war es gut, dass Frau Käßmann vonseiten der Evangelischen Kirche diese Debatte unterstützt hat. Ich habe manche Kritik vonseiten des Deutschen Bundestages überhaupt nicht verstanden und auch bestimmte Vergleiche nicht; das muss ich sagen.\n",
      "------------------------------------\n",
      "Von welcher Partei ist dieser Text? Wähle aus ['cducsu' 'fdp' 'gruene' 'linke' 'spd']\n"
     ]
    },
    {
     "name": "stdout",
     "output_type": "stream",
     "text": [
      "spd\n",
      "*****************************\n",
      "Deine Vorhersage: spd\n",
      "ML Vorhersage: spd\n",
      "Tatsächliche Partei: spd\n",
      "================================\n",
      "================================\n",
      "Dass Sie seit der Aigner'schen Kuhschwanz-Prämie keinen Finger mehr für die Milchbauern krumm gemacht und den Bäuerinnen und Bauern zum Ende der Milchquote am 1. April nicht mehr als marktradikale Plattitüden anzubieten haben? Beispielhaft zitiere ich den CDU-Kollegen Kees de Vries: Wer für 32 Cent nicht melken kann, sollte Beamter werden. – Herr Minister Schmidt empfiehlt den Milchbauern – ich zitiere –:\n",
      "\n",
      "Hilfreich wird es sein, die Produktion am Markt zu orientieren.\n",
      "\n",
      "Schönen Dank, Herr Minister; das tun wir Bauern bereits seit vielen Jahren und Jahrzehnten. Das haben Bäuerinnen und Bauern immer getan. Unsere Höfe machen aber trotzdem reihenweise zu.\n",
      "\n",
      "Meine Damen und Herren, Herr Minister, hilfreich wäre es, wenn Sie endlich zur Kenntnis nehmen würden, dass in den letzten zehn Jahren fast die Hälfte der Milchviehbetriebe und zwei Drittel der Schweinehalter aufgegeben haben und dass wir auf dem besten Wege sind, die bäuerliche Landwirtschaft insgesamt zu verlieren. Hilfreich, Herr Minister, meine Damen und Herren von der CDU/CSU, wäre es aber auch, wenn Sie die Instrumente der Gemeinsamen Agrarpolitik zur Stärkung bäuerlicher Betriebe endlich nutzen würden.\n",
      "------------------------------------\n",
      "Von welcher Partei ist dieser Text? Wähle aus ['cducsu' 'fdp' 'gruene' 'linke' 'spd']\n",
      "gruenee\n",
      "*****************************\n",
      "Deine Vorhersage: gruenee\n",
      "ML Vorhersage: gruene\n",
      "Tatsächliche Partei: gruene\n",
      "================================\n",
      "Deine Vorhersage Metriken:\n",
      "             precision    recall  f1-score   support\n",
      "\n",
      "     cducsu       0.33      1.00      0.50         1\n",
      "        fdp       0.00      0.00      0.00         1\n",
      "     gruene       0.00      0.00      0.00         1\n",
      "    gruenee       0.00      0.00      0.00         1\n",
      "        spd       1.00      1.00      1.00         1\n",
      "\n",
      "avg / total       0.27      0.40      0.30         5\n",
      "\n",
      "Die Vorhersage Metriken des ML Modells:\n",
      "             precision    recall  f1-score   support\n",
      "\n",
      "     cducsu       0.67      1.00      0.80         2\n",
      "     gruene       1.00      1.00      1.00         1\n",
      "        spd       1.00      0.50      0.67         2\n",
      "\n",
      "avg / total       0.87      0.80      0.79         5\n",
      "\n"
     ]
    },
    {
     "name": "stderr",
     "output_type": "stream",
     "text": [
      "/Users/biessman/Development/pol/ml-schule/venv/lib/python3.6/site-packages/sklearn/metrics/classification.py:1135: UndefinedMetricWarning: Precision and F-score are ill-defined and being set to 0.0 in labels with no predicted samples.\n",
      "  'precision', 'predicted', average, warn_for)\n"
     ]
    }
   ],
   "source": [
    "# Wir ziehen 5 zufaellige Beispiele\n",
    "samples = df.sample(5)\n",
    "vorhersage_mensch = []\n",
    "vorhersage_maschine = clf.predict(samples.text)\n",
    "tatsaechliche_partei = samples.partei.tolist()\n",
    "\n",
    "for idx, text in enumerate(samples.text):\n",
    "    print(\"================================\")\n",
    "    print(text)\n",
    "    print('------------------------------------')\n",
    "    print(\"Von welcher Partei ist dieser Text? Wähle aus {}\".format(clf.classes_))\n",
    "    vorhersage_mensch.append(input())\n",
    "    print(\"*****************************\")\n",
    "    print(\"Deine Vorhersage: {}\".format(vorhersage_mensch[-1]))\n",
    "    print(\"ML Vorhersage: {}\".format(vorhersage_maschine[idx]))\n",
    "    print(\"Tatsächliche Partei: {}\".format(tatsaechliche_partei[idx]))\n",
    "    print(\"================================\")\n",
    "    \n",
    "print(\"Deine Vorhersage Metriken:\")\n",
    "print(classification_report(vorhersage_mensch, tatsaechliche_partei))\n",
    "\n",
    "print(\"Die Vorhersage Metriken des ML Modells:\")\n",
    "print(classification_report(vorhersage_maschine, tatsaechliche_partei))"
   ]
  },
  {
   "cell_type": "markdown",
   "metadata": {},
   "source": [
    "## Download eines Zeitungsartikels"
   ]
  },
  {
   "cell_type": "code",
   "execution_count": 11,
   "metadata": {
    "collapsed": true
   },
   "outputs": [],
   "source": [
    "import urllib.request\n",
    "from readability.readability import Document\n",
    "\n",
    "url = \"http://www.spiegel.de/politik/ausland/muss-deutschland-jetzt-milliarden-an-polen-zahlen-a-1167144.html\"\n",
    "html = urllib.request.urlopen(url).read()\n",
    "readable_article = Document(html).summary()\n",
    "readable_title = Document(html).short_title()\n"
   ]
  },
  {
   "cell_type": "markdown",
   "metadata": {},
   "source": [
    "## Klassifizierung des Zeitungsartikels"
   ]
  },
  {
   "cell_type": "code",
   "execution_count": 16,
   "metadata": {
    "scrolled": true
   },
   "outputs": [
    {
     "name": "stdout",
     "output_type": "stream",
     "text": [
      "Zeitungsartikel: Muss Deutschland jetzt Milliarden an Polen zahlen?\n"
     ]
    },
    {
     "data": {
      "text/plain": [
       "<matplotlib.axes._subplots.AxesSubplot at 0x1248adef0>"
      ]
     },
     "execution_count": 16,
     "metadata": {},
     "output_type": "execute_result"
    },
    {
     "data": {
      "image/png": "[encoded data removed]",
      "text/plain": [
       "<matplotlib.figure.Figure at 0x1294676a0>"
      ]
     },
     "metadata": {},
     "output_type": "display_data"
    }
   ],
   "source": [
    "prediction = clf.predict_proba([readable_article])\n",
    "\n",
    "print(\"Zeitungsartikel: {}\".format(readable_title))\n",
    "\n",
    "import seaborn as sns\n",
    "%matplotlib inline\n",
    "sns.barplot(clf.best_estimator_.steps[1][1].classes_, prediction.flatten(), palette=[partei_farben[p] for p in clf.classes_])"
   ]
  },
  {
   "cell_type": "code",
   "execution_count": 18,
   "metadata": {},
   "outputs": [
    {
     "name": "stdout",
     "output_type": "stream",
     "text": [
      "*********************\n",
      "Partei cducsu benutzt haeufig:\n",
      "christlich, wettbewerbsfähigkeit, liberale koalition, christlich liberale, kernenergie, christlich liberalen, liberalen koalition, asylbewerber, währung, christen, richtigen, flüchtlingskrise, ukraine, wolfgang schäuble, stabilität, dankeschön, wohlstand, eigenverantwortung, russlands, vernetzten\n",
      "*********************\n",
      "Partei fdp benutzt haeufig:\n",
      "fdp bundestagsfraktion, fdp fraktion, sicht fdp, liberaler, zuwanderungssteuerung, energieeffizienzstandards, lehnt fdp, freien demokraten, liberaler sicht, sharma, bafög modernisierung, hefen, unimog, verbrechen deutschen, schuldenbergen kinder, verwaltungsmodernisierung, justice gesetz, fdp begrüßt, kollege schneider, waffensteuer\n",
      "*********************\n",
      "Partei gruene benutzt haeufig:\n",
      "garantierente, klimakrise, leiharbeitskräfte, finanzaufsichtsbehörde, tisa, immigranten, staaten regelung, grüner sicht, einwanderinnen, wehrbericht, dualplus, mindestniveau, finanzplanperiode, sozialen kosten, bankschulden, adoptionsmöglichkeiten, schuldenbremse banken, friedensmission vereinten, frage zulassen, anfechtungsrecht\n",
      "*********************\n",
      "Partei linke benutzt haeufig:\n",
      "südens, erwerbslosen, erwerbslose, profite, ländern südens, waffenexporte, jüdinnen, sozialabbau, jüdinnen juden, kurdinnen, palästinenserinnen, deutsche bank, palästinenserinnen palästinenser, kurdinnen kurden, langzeiterwerbslose, globalen süden, vermögensmillionäre, banken hedgefonds, sozialökologischen, profitinteressen\n",
      "*********************\n",
      "Partei spd benutzt haeufig:\n",
      "frank steinmeier, bundestagsfraktion, frank, sozialdemokratische, andrea nahles, heiko maas, heiko, andrea, atomenergie, barbara hendricks, zeit leiharbeit, büssemaker, sigmar gabriel, dat, familienarbeitszeit, barbara, sigmar, rüstungskontrolle, abrüstung rüstungskontrolle, ganztagsschulen\n"
     ]
    }
   ],
   "source": [
    "bow_vectors = clf.best_estimator_.steps[0][1].transform(df.text)\n",
    "idx2words = {k:v for v,k in clf.best_estimator_.steps[0][1].vocabulary_.items()}\n",
    "for party in np.unique(df['partei']):\n",
    "    this_party = (df['partei'] == party).values * 2 - 1\n",
    "    word_covariance = bow_vectors.T.dot(this_party).argsort()\n",
    "    top_words = [idx2words[widx] for widx in word_covariance[-20:][::-1]]\n",
    "    print(\"*********************\\nPartei {} benutzt haeufig:\\n{}\".format(party, \", \".join(top_words)))"
   ]
  },
  {
   "cell_type": "code",
   "execution_count": 42,
   "metadata": {},
   "outputs": [
    {
     "ename": "KeyboardInterrupt",
     "evalue": "",
     "output_type": "error",
     "traceback": [
      "\u001b[0;31m---------------------------------------------------------------------------\u001b[0m",
      "\u001b[0;31mKeyboardInterrupt\u001b[0m                         Traceback (most recent call last)",
      "\u001b[0;32m<ipython-input-42-ad3578ff977f>\u001b[0m in \u001b[0;36m<module>\u001b[0;34m()\u001b[0m\n\u001b[1;32m     16\u001b[0m     \u001b[0;32mif\u001b[0m \u001b[0;34m(\u001b[0m\u001b[0mlen\u001b[0m\u001b[0;34m(\u001b[0m\u001b[0mtraindf\u001b[0m\u001b[0;34m)\u001b[0m \u001b[0;34m>\u001b[0m \u001b[0;36m10\u001b[0m\u001b[0;34m)\u001b[0m \u001b[0;32mand\u001b[0m \u001b[0;34m(\u001b[0m\u001b[0mlen\u001b[0m\u001b[0;34m(\u001b[0m\u001b[0mtestdf\u001b[0m\u001b[0;34m)\u001b[0m \u001b[0;34m>\u001b[0m \u001b[0;36m10\u001b[0m\u001b[0;34m)\u001b[0m\u001b[0;34m:\u001b[0m\u001b[0;34m\u001b[0m\u001b[0m\n\u001b[1;32m     17\u001b[0m         \u001b[0mpartei\u001b[0m \u001b[0;34m=\u001b[0m \u001b[0mtestdf\u001b[0m\u001b[0;34m.\u001b[0m\u001b[0mpartei\u001b[0m\u001b[0;34m.\u001b[0m\u001b[0mvalues\u001b[0m\u001b[0;34m[\u001b[0m\u001b[0;36m0\u001b[0m\u001b[0;34m]\u001b[0m\u001b[0;34m\u001b[0m\u001b[0m\n\u001b[0;32m---> 18\u001b[0;31m         \u001b[0mtmpclf\u001b[0m \u001b[0;34m=\u001b[0m \u001b[0mclf\u001b[0m\u001b[0;34m.\u001b[0m\u001b[0mbest_estimator_\u001b[0m\u001b[0;34m.\u001b[0m\u001b[0mfit\u001b[0m\u001b[0;34m(\u001b[0m\u001b[0mtraindf\u001b[0m\u001b[0;34m.\u001b[0m\u001b[0mtext\u001b[0m\u001b[0;34m,\u001b[0m \u001b[0mtraindf\u001b[0m\u001b[0;34m.\u001b[0m\u001b[0mpartei\u001b[0m\u001b[0;34m)\u001b[0m\u001b[0;34m\u001b[0m\u001b[0m\n\u001b[0m\u001b[1;32m     19\u001b[0m         \u001b[0mpredictions\u001b[0m \u001b[0;34m=\u001b[0m \u001b[0mtmpclf\u001b[0m\u001b[0;34m.\u001b[0m\u001b[0mpredict_proba\u001b[0m\u001b[0;34m(\u001b[0m\u001b[0mtestdf\u001b[0m\u001b[0;34m.\u001b[0m\u001b[0mtext\u001b[0m\u001b[0;34m)\u001b[0m\u001b[0;34m\u001b[0m\u001b[0m\n\u001b[1;32m     20\u001b[0m         \u001b[0mplt\u001b[0m\u001b[0;34m.\u001b[0m\u001b[0mcla\u001b[0m\u001b[0;34m(\u001b[0m\u001b[0;34m)\u001b[0m\u001b[0;34m\u001b[0m\u001b[0m\n",
      "\u001b[0;32m~/Development/pol/ml-schule/venv/lib/python3.6/site-packages/sklearn/pipeline.py\u001b[0m in \u001b[0;36mfit\u001b[0;34m(self, X, y, **fit_params)\u001b[0m\n\u001b[1;32m    255\u001b[0m             \u001b[0mThis\u001b[0m \u001b[0mestimator\u001b[0m\u001b[0;34m\u001b[0m\u001b[0m\n\u001b[1;32m    256\u001b[0m         \"\"\"\n\u001b[0;32m--> 257\u001b[0;31m         \u001b[0mXt\u001b[0m\u001b[0;34m,\u001b[0m \u001b[0mfit_params\u001b[0m \u001b[0;34m=\u001b[0m \u001b[0mself\u001b[0m\u001b[0;34m.\u001b[0m\u001b[0m_fit\u001b[0m\u001b[0;34m(\u001b[0m\u001b[0mX\u001b[0m\u001b[0;34m,\u001b[0m \u001b[0my\u001b[0m\u001b[0;34m,\u001b[0m \u001b[0;34m**\u001b[0m\u001b[0mfit_params\u001b[0m\u001b[0;34m)\u001b[0m\u001b[0;34m\u001b[0m\u001b[0m\n\u001b[0m\u001b[1;32m    258\u001b[0m         \u001b[0;32mif\u001b[0m \u001b[0mself\u001b[0m\u001b[0;34m.\u001b[0m\u001b[0m_final_estimator\u001b[0m \u001b[0;32mis\u001b[0m \u001b[0;32mnot\u001b[0m \u001b[0;32mNone\u001b[0m\u001b[0;34m:\u001b[0m\u001b[0;34m\u001b[0m\u001b[0m\n\u001b[1;32m    259\u001b[0m             \u001b[0mself\u001b[0m\u001b[0;34m.\u001b[0m\u001b[0m_final_estimator\u001b[0m\u001b[0;34m.\u001b[0m\u001b[0mfit\u001b[0m\u001b[0;34m(\u001b[0m\u001b[0mXt\u001b[0m\u001b[0;34m,\u001b[0m \u001b[0my\u001b[0m\u001b[0;34m,\u001b[0m \u001b[0;34m**\u001b[0m\u001b[0mfit_params\u001b[0m\u001b[0;34m)\u001b[0m\u001b[0;34m\u001b[0m\u001b[0m\n",
      "\u001b[0;32m~/Development/pol/ml-schule/venv/lib/python3.6/site-packages/sklearn/pipeline.py\u001b[0m in \u001b[0;36m_fit\u001b[0;34m(self, X, y, **fit_params)\u001b[0m\n\u001b[1;32m    220\u001b[0m                 Xt, fitted_transformer = fit_transform_one_cached(\n\u001b[1;32m    221\u001b[0m                     \u001b[0mcloned_transformer\u001b[0m\u001b[0;34m,\u001b[0m \u001b[0;32mNone\u001b[0m\u001b[0;34m,\u001b[0m \u001b[0mXt\u001b[0m\u001b[0;34m,\u001b[0m \u001b[0my\u001b[0m\u001b[0;34m,\u001b[0m\u001b[0;34m\u001b[0m\u001b[0m\n\u001b[0;32m--> 222\u001b[0;31m                     **fit_params_steps[name])\n\u001b[0m\u001b[1;32m    223\u001b[0m                 \u001b[0;31m# Replace the transformer of the step with the fitted\u001b[0m\u001b[0;34m\u001b[0m\u001b[0;34m\u001b[0m\u001b[0m\n\u001b[1;32m    224\u001b[0m                 \u001b[0;31m# transformer. This is necessary when loading the transformer\u001b[0m\u001b[0;34m\u001b[0m\u001b[0;34m\u001b[0m\u001b[0m\n",
      "\u001b[0;32m~/Development/pol/ml-schule/venv/lib/python3.6/site-packages/sklearn/externals/joblib/memory.py\u001b[0m in \u001b[0;36m__call__\u001b[0;34m(self, *args, **kwargs)\u001b[0m\n\u001b[1;32m    360\u001b[0m \u001b[0;34m\u001b[0m\u001b[0m\n\u001b[1;32m    361\u001b[0m     \u001b[0;32mdef\u001b[0m \u001b[0m__call__\u001b[0m\u001b[0;34m(\u001b[0m\u001b[0mself\u001b[0m\u001b[0;34m,\u001b[0m \u001b[0;34m*\u001b[0m\u001b[0margs\u001b[0m\u001b[0;34m,\u001b[0m \u001b[0;34m**\u001b[0m\u001b[0mkwargs\u001b[0m\u001b[0;34m)\u001b[0m\u001b[0;34m:\u001b[0m\u001b[0;34m\u001b[0m\u001b[0m\n\u001b[0;32m--> 362\u001b[0;31m         \u001b[0;32mreturn\u001b[0m \u001b[0mself\u001b[0m\u001b[0;34m.\u001b[0m\u001b[0mfunc\u001b[0m\u001b[0;34m(\u001b[0m\u001b[0;34m*\u001b[0m\u001b[0margs\u001b[0m\u001b[0;34m,\u001b[0m \u001b[0;34m**\u001b[0m\u001b[0mkwargs\u001b[0m\u001b[0;34m)\u001b[0m\u001b[0;34m\u001b[0m\u001b[0m\n\u001b[0m\u001b[1;32m    363\u001b[0m \u001b[0;34m\u001b[0m\u001b[0m\n\u001b[1;32m    364\u001b[0m     \u001b[0;32mdef\u001b[0m \u001b[0mcall_and_shelve\u001b[0m\u001b[0;34m(\u001b[0m\u001b[0mself\u001b[0m\u001b[0;34m,\u001b[0m \u001b[0;34m*\u001b[0m\u001b[0margs\u001b[0m\u001b[0;34m,\u001b[0m \u001b[0;34m**\u001b[0m\u001b[0mkwargs\u001b[0m\u001b[0;34m)\u001b[0m\u001b[0;34m:\u001b[0m\u001b[0;34m\u001b[0m\u001b[0m\n",
      "\u001b[0;32m~/Development/pol/ml-schule/venv/lib/python3.6/site-packages/sklearn/pipeline.py\u001b[0m in \u001b[0;36m_fit_transform_one\u001b[0;34m(transformer, weight, X, y, **fit_params)\u001b[0m\n\u001b[1;32m    587\u001b[0m                        **fit_params):\n\u001b[1;32m    588\u001b[0m     \u001b[0;32mif\u001b[0m \u001b[0mhasattr\u001b[0m\u001b[0;34m(\u001b[0m\u001b[0mtransformer\u001b[0m\u001b[0;34m,\u001b[0m \u001b[0;34m'fit_transform'\u001b[0m\u001b[0;34m)\u001b[0m\u001b[0;34m:\u001b[0m\u001b[0;34m\u001b[0m\u001b[0m\n\u001b[0;32m--> 589\u001b[0;31m         \u001b[0mres\u001b[0m \u001b[0;34m=\u001b[0m \u001b[0mtransformer\u001b[0m\u001b[0;34m.\u001b[0m\u001b[0mfit_transform\u001b[0m\u001b[0;34m(\u001b[0m\u001b[0mX\u001b[0m\u001b[0;34m,\u001b[0m \u001b[0my\u001b[0m\u001b[0;34m,\u001b[0m \u001b[0;34m**\u001b[0m\u001b[0mfit_params\u001b[0m\u001b[0;34m)\u001b[0m\u001b[0;34m\u001b[0m\u001b[0m\n\u001b[0m\u001b[1;32m    590\u001b[0m     \u001b[0;32melse\u001b[0m\u001b[0;34m:\u001b[0m\u001b[0;34m\u001b[0m\u001b[0m\n\u001b[1;32m    591\u001b[0m         \u001b[0mres\u001b[0m \u001b[0;34m=\u001b[0m \u001b[0mtransformer\u001b[0m\u001b[0;34m.\u001b[0m\u001b[0mfit\u001b[0m\u001b[0;34m(\u001b[0m\u001b[0mX\u001b[0m\u001b[0;34m,\u001b[0m \u001b[0my\u001b[0m\u001b[0;34m,\u001b[0m \u001b[0;34m**\u001b[0m\u001b[0mfit_params\u001b[0m\u001b[0;34m)\u001b[0m\u001b[0;34m.\u001b[0m\u001b[0mtransform\u001b[0m\u001b[0;34m(\u001b[0m\u001b[0mX\u001b[0m\u001b[0;34m)\u001b[0m\u001b[0;34m\u001b[0m\u001b[0m\n",
      "\u001b[0;32m~/Development/pol/ml-schule/venv/lib/python3.6/site-packages/sklearn/feature_extraction/text.py\u001b[0m in \u001b[0;36mfit_transform\u001b[0;34m(self, raw_documents, y)\u001b[0m\n\u001b[1;32m   1379\u001b[0m             \u001b[0mTf\u001b[0m\u001b[0;34m-\u001b[0m\u001b[0midf\u001b[0m\u001b[0;34m-\u001b[0m\u001b[0mweighted\u001b[0m \u001b[0mdocument\u001b[0m\u001b[0;34m-\u001b[0m\u001b[0mterm\u001b[0m \u001b[0mmatrix\u001b[0m\u001b[0;34m.\u001b[0m\u001b[0;34m\u001b[0m\u001b[0m\n\u001b[1;32m   1380\u001b[0m         \"\"\"\n\u001b[0;32m-> 1381\u001b[0;31m         \u001b[0mX\u001b[0m \u001b[0;34m=\u001b[0m \u001b[0msuper\u001b[0m\u001b[0;34m(\u001b[0m\u001b[0mTfidfVectorizer\u001b[0m\u001b[0;34m,\u001b[0m \u001b[0mself\u001b[0m\u001b[0;34m)\u001b[0m\u001b[0;34m.\u001b[0m\u001b[0mfit_transform\u001b[0m\u001b[0;34m(\u001b[0m\u001b[0mraw_documents\u001b[0m\u001b[0;34m)\u001b[0m\u001b[0;34m\u001b[0m\u001b[0m\n\u001b[0m\u001b[1;32m   1382\u001b[0m         \u001b[0mself\u001b[0m\u001b[0;34m.\u001b[0m\u001b[0m_tfidf\u001b[0m\u001b[0;34m.\u001b[0m\u001b[0mfit\u001b[0m\u001b[0;34m(\u001b[0m\u001b[0mX\u001b[0m\u001b[0;34m)\u001b[0m\u001b[0;34m\u001b[0m\u001b[0m\n\u001b[1;32m   1383\u001b[0m         \u001b[0;31m# X is already a transformed view of raw_documents so\u001b[0m\u001b[0;34m\u001b[0m\u001b[0;34m\u001b[0m\u001b[0m\n",
      "\u001b[0;32m~/Development/pol/ml-schule/venv/lib/python3.6/site-packages/sklearn/feature_extraction/text.py\u001b[0m in \u001b[0;36mfit_transform\u001b[0;34m(self, raw_documents, y)\u001b[0m\n\u001b[1;32m    873\u001b[0m \u001b[0;34m\u001b[0m\u001b[0m\n\u001b[1;32m    874\u001b[0m         \u001b[0;32mif\u001b[0m \u001b[0;32mnot\u001b[0m \u001b[0mself\u001b[0m\u001b[0;34m.\u001b[0m\u001b[0mfixed_vocabulary_\u001b[0m\u001b[0;34m:\u001b[0m\u001b[0;34m\u001b[0m\u001b[0m\n\u001b[0;32m--> 875\u001b[0;31m             \u001b[0mX\u001b[0m \u001b[0;34m=\u001b[0m \u001b[0mself\u001b[0m\u001b[0;34m.\u001b[0m\u001b[0m_sort_features\u001b[0m\u001b[0;34m(\u001b[0m\u001b[0mX\u001b[0m\u001b[0;34m,\u001b[0m \u001b[0mvocabulary\u001b[0m\u001b[0;34m)\u001b[0m\u001b[0;34m\u001b[0m\u001b[0m\n\u001b[0m\u001b[1;32m    876\u001b[0m \u001b[0;34m\u001b[0m\u001b[0m\n\u001b[1;32m    877\u001b[0m             \u001b[0mn_doc\u001b[0m \u001b[0;34m=\u001b[0m \u001b[0mX\u001b[0m\u001b[0;34m.\u001b[0m\u001b[0mshape\u001b[0m\u001b[0;34m[\u001b[0m\u001b[0;36m0\u001b[0m\u001b[0;34m]\u001b[0m\u001b[0;34m\u001b[0m\u001b[0m\n",
      "\u001b[0;31mKeyboardInterrupt\u001b[0m: "
     ]
    },
    {
     "data": {
      "image/png": "[encoded data removed]",
      "text/plain": [
       "<matplotlib.figure.Figure at 0x1629ddc88>"
      ]
     },
     "metadata": {},
     "output_type": "display_data"
    }
   ],
   "source": [
    "import matplotlib\n",
    "matplotlib.style.use('ggplot')\n",
    "import pylab as plt\n",
    "\n",
    "# Wir betrachten nur die letzte Legislaturperiode\n",
    "wahlperiode = 17\n",
    "savepath = os.path.join(DATADIR,'sprecher-timeseries-{}'.format(wahlperiode))\n",
    "if not os.path.exists(savepath): \n",
    "    os.mkdir(savepath)\n",
    "\n",
    "for sprecher in alle_sprecher:\n",
    "\n",
    "    traindf = df[(df['sprecher']!=sprecher) & (df['wahlperiode']==wahlperiode)]\n",
    "    testdf = df[(df['sprecher']==sprecher) & (df['wahlperiode']==wahlperiode)].sort_values(['sitzung'])\n",
    "\n",
    "    if (len(traindf) > 10) and (len(testdf) > 10):\n",
    "        partei = testdf.partei.values[0]\n",
    "        tmpclf = clf.best_estimator_.fit(traindf.text, traindf.partei)\n",
    "        predictions = tmpclf.predict_proba(testdf.text)\n",
    "        plt.cla()\n",
    "        for partei_idx in range(predictions.shape[-1]):\n",
    "            color = partei_farben[tmpclf.classes_[partei_idx]]\n",
    "            plt.plot(testdf.sitzung, predictions[:, partei_idx],\"o\",color=color)\n",
    "            plt.title(\"{} ({})\".format(sprecher,partei))\n",
    "            plt.savefig(os.path.join(savepath, sprecher + \".pdf\"))\n"
   ]
  }
 ],
 "metadata": {
  "celltoolbar": "Raw Cell Format",
  "kernelspec": {
   "display_name": "Python 3",
   "language": "python",
   "name": "python3"
  },
  "language_info": {
   "codemirror_mode": {
    "name": "ipython",
    "version": 3
   },
   "file_extension": ".py",
   "mimetype": "text/x-python",
   "name": "python",
   "nbconvert_exporter": "python",
   "pygments_lexer": "ipython3",
   "version": "3.6.2"
  }
 },
 "nbformat": 4,
 "nbformat_minor": 1
}
