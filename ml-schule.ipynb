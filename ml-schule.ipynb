{
 "cells": [
  {
   "cell_type": "markdown",
   "metadata": {},
   "source": [
    "## Laden der Text Daten "
   ]
  },
  {
   "cell_type": "code",
   "execution_count": 20,
   "metadata": {},
   "outputs": [
    {
     "name": "stdout",
     "output_type": "stream",
     "text": [
      "57636 Reden wurden geladen\n",
      "\n",
      "****************************\n",
      "Beispiele von Partei cducsu:\n",
      "****************************\n",
      "\n",
      "\n",
      "*******************************\n",
      "Sprecher Peter Beyer:\n",
      "\n",
      "Ich freue mich, dass allen Unkenrufen zum Trotz - ich nenne das Unwort vom angeblichen Continental Drift - die Bemühungen für die Idee einer umfassenden transatlantischen Wirtschaftszone Unterstützung auf allerhöchster politischer Ebene erfahren. Die Weiterentwicklung der transatlantischen Wirtschaftsintegration verspricht den Wachstums- und Jobmotor in Europa und in den USA weiter zu befeuern.\n",
      "\n",
      "Es gibt Probleme, insbesondere im Bereich der nichttarifären Hemmnisse und bei den unterschiedlichen -Qualitäts- und Sicherheitsstandards bei Gütern, bei Dienstleistungen, beim Handel, bei Innovationen und Investitionen. Dies verursacht jedes Jahr beidseits des Atlantiks, in Europa wie in den USA, Kosten in mehrfacher Milliardenhöhe, die völlig unnötig sind. Die Verhandlungen zwischen der EU und Kanada über die Errichtung einer Freihandelszone sollen bis zum Ende des Jahres erfolgreich abgeschlossen werden. Diese könnte als Blaupause für eine transatlantische Freihandelszone dienen. Die Schwierigkeiten, die es hier noch zu überwinden gilt, müssen wir anpacken, damit es für eine Befeuerung des Wachstumsmotors eine Perspektive gibt.\n",
      "\n",
      "Meine Damen und Herren, ich komme zum Schluss: Die transatlantischen Beziehungen waren, wie ich eingangs erwähnte, nie wirklich ein Selbstläufer. Aber nie war die Ausgangssituation für eine gleichwertige Partnerschaft, für eine Partnerschaft auf Augenhöhe, so günstig wie heute. Nutzen wir sie für eine gemeinsame globale Strategie eines geschlossenen Westens im Wandel der Welt!\n",
      "\n",
      "Ich danke Ihnen.\n",
      "\n",
      "*******************************\n",
      "Sprecher Annette Widmann-Mauz:\n",
      "\n",
      "denn selten ist es die ganz bewusste Ablehnung der Organspende an sich. Vielmehr ist es allzu oft ein persönlicher Schutz als Reaktion auf Unbehagen, auf Unsicherheit, Ängste und Misstrauen, so etwas wie ein individueller Fluchtweg.\n",
      "\n",
      "Manchem gelingt es nicht, diesem Thema aus dem Weg zu gehen! Menschen, die als Schwerkranke selbst betroffen sind und auf ein Spendeorgan warten oder die als Angehörige konkret vor die Frage gestellt sind, Spender für einen nächsten Angehörigen zu sein oder den mutmaßlichen Willen eines verstorbenen Angehörigen zu erklären. Und wieder andere haben ein hörendes Herz für die Not anderer, ganz unabhängig von einer persön-lichen Betroffenheit.\n",
      "\n",
      "Allen Gruppen gegenüber stehen wir in der Verantwortung. Es ist unsere Aufgabe, durch umfassende und durch ergebnisoffene Information und Aufklärung in-formierte, selbstbestimmte Entscheidungen zu ermög-lichen und Vertrauen in den gesamten Organspende-prozess und in die daran Beteiligten zu schaffen. Genau das tun wir mit den beiden Gesetzentwürfen, über die wir heute abstimmen.\n",
      "\n",
      "Das Vertrauen der Bevölkerung ist ganz entscheidend, wenn die Anstrengungen für eine Erhöhung der Organspendebereitschaft Erfolg haben sollen. Das geltende Transplantationsgesetz gibt bereits einen sicheren gesetzlichen Rahmen für die Anforderungen an die Organisation und an den Ablauf einer Organspende. Mit den Änderungen zum Transplantationsgesetz, die wir jetzt vornehmen, wird dieser Rahmen ausgebaut und gestärkt, die Strukturen werden verbessert und die Transparenz erhöht.\n",
      "\n",
      "Die beauftragte Koordinierungsstelle nimmt in diesem Prozess eine ganz zentrale Aufgabe wahr, bis hinein in die einzelnen Krankenhäuser. Das hat sich - das möchte ich bei dieser Gelegenheit durchaus einmal erwähnen - in den vergangenen zehn Jahren grundsätzlich bewährt. Es ist aus meiner Sicht nicht von vornherein erkennbar und nachvollziehbar, dass für eine ordnungs-gemäße Aufgabenerfüllung im Bereich der Organtransplantation zwingend eine andere Organisationsstruktur oder gar eine Behörde erforderlich sein soll.\n",
      "\n",
      "Die zentrale Rolle der Koordinierungsstelle wird auch daran erkennbar, dass in der EU-Richtlinie wesentliche Aufgaben für sie festgelegt werden, und wir setzen diese Richtlinie ja um. Im Übrigen ist es allein dieser Umsetzung geschuldet, dass der Gesetzentwurf zusätzliche Kompetenzen für die Koordinierungsstelle vorsieht.\n",
      "\n",
      "Gerade wegen dieser grundsätzlichen Bedeutung der Koordinierungsstelle verstärken wir auch die Kontrolle. Bereits in dem von uns eingebrachten Regierungsentwurf haben wir die Überwachungskommission und die Auskunftspflicht der Koordinierungsstelle gegenüber der Überwachungskommission gesetzlich verankert. Stellt die Überwachungskommission in Zukunft Rechtsverstöße fest, ist sie verpflichtet, die zuständigen Behörden der Länder zu informieren, damit alle notwendigen Konsequenzen eingeleitet werden können.\n",
      "\n",
      "Auch im Hinblick auf die Geschäftsführung werden mit dem Gesetzentwurf die Kontrollrechte und Kontrollpflichten der Auftraggeber über die Koordinierungsstelle deutlich gestärkt. Neben der Kontrolle ist in diesem höchst sensiblen Bereich aber auch die Schaffung von mehr Transparenz wesentlich. Insbesondere möchte ich in diesem Zusammenhang auf die Vorlagepflicht der Koordinierungsstelle gegenüber ihren Auftraggebern zum Beispiel im Falle von grundsätzlichen finanziellen und organisatorischen Entscheidungen hinweisen, aber auch auf die Verpflichtung, in Zukunft den Geschäftsbericht zu veröffentlichen.\n",
      "\n",
      "Der Gesetzgeber hat also die Weichen in die richtige Richtung gestellt. Darüber hinaus ist es dennoch erforderlich, dass sich die Akteure, also diejenigen, die wir in die Verantwortung nehmen, auch zu ihrer Verantwortung bekennen und entsprechend handeln.\n",
      "\n",
      "Deshalb ist der sogenannte Masterplan des Stiftungsrats der DSO ein wichtiger und richtiger Schritt. Er war im Übrigen notwendig, und ich erwarte jetzt von den Beteiligten, dass die sich daraus ergebenden Maßnahmen von ihnen zügig umgesetzt und vor allen Dingen auch transparent gemacht werden. Aber ich plädiere an dieser Stelle auch dafür, dass wir dem Stiftungsrat die Chance geben, die von ihm selbst aufgezeigten Maßnahmen in die Tat umzusetzen, bevor wir über andere Alternativen oder Rechtsformen diskutieren.\n",
      "\n",
      "In dieser Debatte sind mehrere Aspekte angesprochen worden, in denen Zweifel geäußert wurden, zum Beispiel zum Stichwort Warteliste und zu der Frage, ob es dabei immer richtig zugeht. Die Richtlinien wurden und werden durch die Ständige Kommission Organtransplantation bei der Bundesärztekammer erstellt. Dort ist der medizinische Fachverstand vorhanden. Das ist die richtige Stelle, um diese weiter dem wissenschaftlichen Erkenntnisstand anzupassen, wenn es erforderlich ist. Sie werden veröffentlicht und sind damit transparent.\n",
      "\n",
      "Das ist der richtige Weg. Wegen der grundlegenden Bedeutung dieser Richtlinien haben wir zudem die Bundesärztekammer verpflichtet, klare Regeln für die Erarbeitung der Richtlinien und für ihre Beschlussfassung festzulegen.\n",
      "\n",
      "Auch die Geschäftsordnung wird in Zukunft Regelungen zu den Einzelheiten der personellen und der verfahrensmäßigen Anforderungen enthalten. Das ist wichtig und trägt zu mehr Vertrauen bei.\n",
      "\n",
      "Sie haben das Thema Hirntod angesprochen. Auch hierzu hat die Bundesärztekammer Richtlinien erarbeitet, die im Falle eines neuen wissenschaftlichen Erkenntnisstands entsprechend angepasst werden. Aber wir im Parlament sollten dieser wissenschaftlichen Debatte nicht vorgreifen; wir sollten vielmehr die Möglichkeit schaffen, dass sie stattfinden kann.\n",
      "\n",
      "Genauso verhält es sich bei der Frage des Transports der Organe. Auch hier ist es richtig, die wissenschaft-lichen und technischen Fragen durch die Fachleute klären zu lassen. Was die von Ihnen angesprochene Widersprüchlichkeit bei einer Patientenverfügung angeht: Wir werden sicherlich nicht jede persönliche Festlegung für verschiedene Lebenssituationen gesetzlich regeln können. Aber es kommt darauf an, dass die Menschen auf gute Art und Weise aufgeklärt und informiert werden, sie sich dieser Widersprüche bewusst sind und wissen, dass wir ihnen Hilfestellungen anbieten.\n",
      "\n",
      "Ich bin sehr froh, dass wir im Bereich der Lebendspende zu deutlichen Verbesserungen in den verschiedensten Sozialgesetzbüchern gekommen sind und es auch geschafft haben, eine Altfallregelung im Bereich der Unfallversicherung zu etablieren. Das sind wichtige Fortschritte, die helfen, die Organspendebereitschaft zu fördern. Eine Organspende ist ein Geschenk des Lebens. Niemand kann sie verlangen oder sie erzwingen. Und: Sie ist und bleibt eine Sache des Vertrauens.\n",
      "\n",
      "Ich bin sehr zufrieden, dass es in den Beratungen zwischen den Fraktionen, im Parlament und mit der Bundesregierung gelungen ist, diese beiden Grundsätze zu stärken und damit die Voraussetzungen dafür zu schaffen, dass mehr Menschen in unserem Land nicht Fluchtwege suchen müssen, sondern neue Wege in Richtung Nächstenliebe gehen können.\n",
      "\n",
      "Herzlichen Dank.\n",
      "\n",
      "****************************\n",
      "Beispiele von Partei fdp:\n",
      "****************************\n",
      "\n",
      "\n",
      "*******************************\n",
      "Sprecher Joachim Spatz:\n",
      "\n",
      "Das positive Beispiel - lassen Sie mich das zum Schluss noch sagen - ist der Sudan. Heute Vormittag ist viel über Afghanistan gesprochen worden. Im Sudan ist es gelungen, jedenfalls bis jetzt, einen schwierigen Prozess mit den Mitteln der zivilen Krisenprävention zu meistern. Experten behaupten, dass dieser Konflikt, wenn er militärisch ausgetragen würde, in den nächsten zehn Jahren Schäden in Höhe von Hunderten von Milliarden Euro verursachen würde, von den menschlichen Verlusten und den tragischen Schicksalen gar nicht zu reden.\n",
      "\n",
      "*******************************\n",
      "Sprecher Ulrike Flach:\n",
      "\n",
      "Wir tun das, und in den nächsten Jahren werden wir das fortführen.\n",
      "\n",
      "Der Technologieminister Rainer Brüderle wird die Programme straffen. Er hat gerade darauf hingewiesen: Es wird Zeit. Wir haben von der Großen Koalition und von der rot-grünen Koalition einen Bauchladen übernommen. Dieser Bauchladen wird nun zusammengeführt. Er wird zu einem effektiven, schlagkräftigen Instrument gemacht. Im nächsten Jahr werden wir darüber diskutieren, wie man Technologie in diesem Land mit einem stringenten Konzept durchgehend fördern kann. Das ist der große Unterschied zur Politik unserer Vorgängerregierungen.\n",
      "\n",
      "Ich wünsche uns allen eine gute Haushaltsberatung und dass wir den Haushalt so auf den Weg bringen können.\n",
      "\n",
      "****************************\n",
      "Beispiele von Partei gruene:\n",
      "****************************\n",
      "\n",
      "\n",
      "*******************************\n",
      "Sprecher Winfried Hermann:\n",
      "\n",
      "Herr Präsident! Meine sehr verehrten Damen und Herren! Der Herr Minister hat in einem Interview ganz stolz gesagt, dass er sich freue, dass er das größte Investitionsministerium in dieser Regierung habe. In der Tat werden in diesem Ministerium große Milliardensummen ausgegeben. Hier wird entschieden, wo und wie Deutschland Zukunft gewinnt. Hier wird entschieden, ob wir eine zukunftsfähige Infrastruktur bekommen oder ob wir in Vergangenheit, in Asphalt und Beton, investieren. Das ist die entscheidende Frage.\n",
      "\n",
      "Herr Kollege Ramsauer, wenn Sie in Ihrem Ministerium mit Ihren feschen jungen Staatssekretären\n",
      "\n",
      "*******************************\n",
      "Sprecher Birgitt Bender:\n",
      "\n",
      "Frau Präsidentin! Meine Damen und Herren! Zur Abstimmung steht heute ein sogenannter Omnibus; das heißt, auf ein zugrunde liegendes Gesetz werden mehrere Themen aufgesattelt. In dem zugrunde liegenden Gesetz geht es um Beitragsschulden. An dieser Stelle haben wir es - das muss man hier einmal deutlich sagen - mit einer Erblast der Großen Koalition zu tun; das will ich auch an die Freunde einer Neuauflage derselben richten. Die Große Koalition hat - das war verdienstvoll - eine Versicherungspflicht für alle eingeführt, die Regelungen aber so ausgestaltet, dass, wenn Leute nicht sofort in ihre Krankenversicherung zurückgekehrt sind oder sich die Beiträge nicht haben leisten können, durch Wucherzinsen irrwitzige Schulden entstanden, die diese Leute nie begleichen konnten. Dieses Problem wird erst heute hier bearbeitet; das war überfällig.\n",
      "\n",
      "****************************\n",
      "Beispiele von Partei linke:\n",
      "****************************\n",
      "\n",
      "\n",
      "*******************************\n",
      "Sprecher Heike Hänsel:\n",
      "\n",
      "Ich möchte, dass wir ein Europa der Menschen entwickeln und nicht ein Europa der Banken. Dieses Signal muss von diesem Parlament ausgehen. Die Krise können wir nur überwinden, wenn das Finanzkasino - anders kann man es gar nicht mehr nennen - endlich geschlossen wird und die Staaten sich unabhängig von Kapitalmärkten finanzieren können. Deshalb ist die Schaffung einer Bank für öffentliche Anleihen so wichtig. Ich sage Ihnen: Früher oder später wird es eine solche Bank geben. Wir haben letztes Jahr vor so vielen Dingen gewarnt, und vieles ist mittlerweile eingetreten. Ich betone: Diese Entwicklung wird so stattfinden.\n",
      "\n",
      "*******************************\n",
      "Sprecher Halina Wawzyniak:\n",
      "\n",
      "Zum Einwand, der regionale Proporz würde in unserem Gesetzentwurf nicht ausreichend berücksichtigt: Er wird in der Tat nicht vollständig hergestellt, aber das ist in Ihrem Gesetzentwurf auch nicht der Fall. Ich verweise auf die Beispiele der CDU in Sachsen-Anhalt und der SPD in Mecklenburg-Vorpommern.\n",
      "\n",
      "Unser Gesetzentwurf hat aber Vorteile. Es gibt kein negatives Stimmgewicht. Das Problem der Überhangmandate wird gelöst, und es kommt nicht zu einer zahlenmäßigen Vergrößerung des Bundestages. Das sind drei Vorteile auf einmal. Das gibt es tatsächlich - bei der Linken.\n",
      "\n",
      "****************************\n",
      "Beispiele von Partei spd:\n",
      "****************************\n",
      "\n",
      "\n",
      "*******************************\n",
      "Sprecher Joachim Poß:\n",
      "\n",
      "zumindest getäuscht oder angetäuscht. Das ist Ihre Methode. Aber damit scheitern Sie. Ihre Täuschung führt auch zu großen Orientierungsproblemen in den Reihen von Schwarz-Gelb. Gelegentlich war auch geistige Verwirrung festzustellen. Deswegen hat sich der Kollege Schäuble - zumindest hatte ich den Eindruck - heute Morgen bei seiner Berichterstattung in der SPD-Bundestagsfraktion durchaus wohlgefühlt, wegen der sachlichen Debatte. Ich glaube, er hatte mehr Sorgen, als er zu Ihnen in die Fraktion kam, um die Ergebnisse von gestern Nacht zu erklären, die nun weiß Gott nicht berühmt waren.\n",
      "\n",
      "*******************************\n",
      "Sprecher Manfred Zöllmer:\n",
      "\n",
      "Herzlichen Dank, Herr Präsident. - Frau Staatssekretärin, Sie haben eben ausgeführt, dass Eignung und Befähigung zu den Kriterien der Einstellung gehören. Es handelt sich hier ja um eine ehemalige Oberbürgermeisterin der Stadt Ettlingen, die Mitglied der FDP ist und sich auch in mehreren Interviews öffentlich zu bestimmten Fragen geäußert hat.\n",
      "\n",
      "Ich habe hier einen Artikel in nordbaden.business-on.de vom 12. November 2010. Dort hatte Frau Büssemaker erklärt, dass Sie nicht zur nächsten OB-Wahl antreten wird. Wörtlich sagte sie - ich zitierte -:\n",
      "\n",
      "Ich bin aus der Wirtschaft in dieses Amt gekommen\n",
      "\n",
      "- also Oberbürgermeisterin von Ettlingen -\n",
      "\n",
      "und möchte nun wieder zurück in die freie Wirtschaft.\n"
     ]
    }
   ],
   "source": [
    "import os\n",
    "import pandas as pd\n",
    "import numpy as np\n",
    "import urllib.request\n",
    "\n",
    "DATADIR = \"data\"\n",
    "\n",
    "if not os.path.exists(DATADIR): \n",
    "    os.mkdir(DATADIR)\n",
    "\n",
    "file_name = os.path.join(DATADIR, \"17-Bundestag.csv\")\n",
    "if not os.path.exists(file_name):\n",
    "    url_data = 'https://www.dropbox.com/s/i4lp1fidpbo3k1w/17-Bundestag.csv'\n",
    "    urllib.request.urlretrieve(url_data, file_name)\n",
    "\n",
    "df = pd.read_csv(file_name)\n",
    "\n",
    "print(\"{} Reden wurden geladen\".format(len(df)))\n",
    "\n",
    "# Zeige einige Reden von Parteien\n",
    "for party in np.unique(df['partei']):\n",
    "    print(\"\\n****************************\\nBeispiele von Partei {}:\\n****************************\\n\".format(party))\n",
    "    for _, speech in df[df['partei']==party].sample(2).iterrows():\n",
    "        print(\"\\n*******************************\\nSprecher {}:\\n\\n{}\".format(speech['sprecher'], speech['text']))\n"
   ]
  },
  {
   "cell_type": "code",
   "execution_count": 76,
   "metadata": {},
   "outputs": [],
   "source": [
    "from sklearn.metrics import confusion_matrix, classification_report\n",
    "from sklearn.feature_extraction.text import CountVectorizer, TfidfVectorizer\n",
    "from sklearn.model_selection import train_test_split\n",
    "from sklearn.linear_model import SGDClassifier\n",
    "from sklearn.pipeline import Pipeline\n",
    "\n",
    "def train(texts, party):\n",
    "    '''\n",
    "    Eine Funktion, die gegeben Texte und Labels einen Klassifier trainiert\n",
    "    '''\n",
    "\n",
    "    # Eine Machine Learning Pipeline um Bag-of-Words Vectors zu erstellen aus Texten\n",
    "    text_clf = Pipeline([('vect', CountVectorizer(ngram_range=(1,1), max_df=0.5)),\n",
    "                        ('clf', SGDClassifier())])\n",
    "\n",
    "    text_clf.fit(texts,party)\n",
    "\n",
    "    return text_clf\n"
   ]
  },
  {
   "cell_type": "markdown",
   "metadata": {},
   "source": [
    "## Trainieren eines linearen Klassifiers"
   ]
  },
  {
   "cell_type": "code",
   "execution_count": 77,
   "metadata": {
    "scrolled": true
   },
   "outputs": [
    {
     "name": "stderr",
     "output_type": "stream",
     "text": [
      "/Users/felix/Code/Python/erlebe-it-ml/venv/lib/python3.6/site-packages/sklearn/linear_model/stochastic_gradient.py:84: FutureWarning: max_iter and tol parameters have been added in <class 'sklearn.linear_model.stochastic_gradient.SGDClassifier'> in 0.19. If both are left unset, they default to max_iter=5 and tol=None. If tol is not None, max_iter defaults to max_iter=1000. From 0.21, default max_iter will be 1000, and default tol will be 1e-3.\n",
      "  \"and default tol will be 1e-3.\" % type(self), FutureWarning)\n"
     ]
    }
   ],
   "source": [
    "# Erst nehmen wir einige Daten beiseite, um das Model darauf spaeter testen zu koennen\n",
    "train_data, test_data, train_labels, test_labels = train_test_split(df['text'], df['partei'], test_size=0.2)\n",
    "\n",
    "# Jetzt trainieren wir den Klassifier\n",
    "clf = train(df['text'], df['partei'])"
   ]
  },
  {
   "cell_type": "markdown",
   "metadata": {},
   "source": [
    "## Performance auf Test Daten"
   ]
  },
  {
   "cell_type": "code",
   "execution_count": 78,
   "metadata": {},
   "outputs": [
    {
     "name": "stdout",
     "output_type": "stream",
     "text": [
      "             precision    recall  f1-score   support\n",
      "\n",
      "     cducsu       0.85      0.75      0.80      3718\n",
      "        fdp       0.61      0.80      0.70      1311\n",
      "     gruene       0.57      0.84      0.68      1278\n",
      "      linke       0.83      0.70      0.76      2098\n",
      "        spd       0.78      0.72      0.75      3123\n",
      "\n",
      "avg / total       0.77      0.75      0.75     11528\n",
      "\n"
     ]
    }
   ],
   "source": [
    "test_predictions = clf.predict(test_data)\n",
    "report = classification_report(test_predictions, test_labels)\n",
    "print(report)"
   ]
  },
  {
   "cell_type": "markdown",
   "metadata": {},
   "source": [
    "## Confusion Matrix"
   ]
  },
  {
   "cell_type": "code",
   "execution_count": 79,
   "metadata": {},
   "outputs": [
    {
     "name": "stdout",
     "output_type": "stream",
     "text": [
      "[[2796  121   39  125  217]\n",
      " [ 376 1051   43   96  147]\n",
      " [ 186   48 1069  206  353]\n",
      " [  76   23   44 1473  155]\n",
      " [ 284   68   83  198 2251]]\n"
     ]
    }
   ],
   "source": [
    "print(confusion_matrix(test_labels, test_predictions))"
   ]
  },
  {
   "cell_type": "markdown",
   "metadata": {},
   "source": [
    "## Download eines Zeitungsartikels"
   ]
  },
  {
   "cell_type": "code",
   "execution_count": 80,
   "metadata": {},
   "outputs": [],
   "source": [
    "import urllib.request\n",
    "from readability.readability import Document\n",
    "\n",
    "url = \"http://www.spiegel.de/politik/ausland/muss-deutschland-jetzt-milliarden-an-polen-zahlen-a-1167144.html\"\n",
    "html = urllib.request.urlopen(url).read()\n",
    "readable_article = Document(html).summary()\n",
    "readable_title = Document(html).short_title()\n"
   ]
  },
  {
   "cell_type": "markdown",
   "metadata": {},
   "source": [
    "## Klassifizierung des Zeitungsartikels"
   ]
  },
  {
   "cell_type": "code",
   "execution_count": 81,
   "metadata": {},
   "outputs": [
    {
     "name": "stdout",
     "output_type": "stream",
     "text": [
      "Zeitungsartikel: Muss Deutschland jetzt Milliarden an Polen zahlen?\n",
      "Partei Klassifikation: ['linke']\n"
     ]
    }
   ],
   "source": [
    "prediction = clf.predict([readable_article])\n",
    "\n",
    "print(\"Zeitungsartikel: {}\".format(readable_title))\n",
    "print(\"Partei Klassifikation: {}\".format(prediction))"
   ]
  },
  {
   "cell_type": "code",
   "execution_count": 83,
   "metadata": {},
   "outputs": [
    {
     "name": "stdout",
     "output_type": "stream",
     "text": [
      "*********************\n",
      "Partei cducsu benutzt haeufig:\n",
      "christlich, verehrten, kernenergie, dankbar, christen, wettbewerbsfähigkeit, währung, mitbürger, unionsgeführte, wiedervereinigung\n",
      "*********************\n",
      "Partei fdp benutzt haeufig:\n",
      "liberaler, zuwanderer, zuwanderungssteuerung, zuwanderungspolitik, pflanzenzüchtung, zeitarbeiter, bereicherten, willkommens, beschäftigungsformen, geschätzter\n",
      "*********************\n",
      "Partei gruene benutzt haeufig:\n",
      "garantierente, leiharbeitskräfte, baustoffe, bäuerliche, einwanderinnen, agrarindustrie, immigranten, einwanderer, menschenrechtskriterien, bündnisgrüne\n",
      "*********************\n",
      "Partei linke benutzt haeufig:\n",
      "linke, erwerbslosen, profite, konzerne, südens, krieg, erwerbslose, waffenexporte, vermögensmillionäre, neoliberalen\n",
      "*********************\n",
      "Partei spd benutzt haeufig:\n",
      "sozialdemokraten, sozialdemokratinnen, bundestagsfraktion, olaf, dat, michelbach, seehofer, entwicklungsminister, ganztagsschulen, steuersenkungen\n"
     ]
    }
   ],
   "source": [
    "bow_vectors = clf.steps[0][1].transform(df.text)\n",
    "idx2words = {k:v for v,k in clf.steps[0][1].vocabulary_.items()}\n",
    "for party in np.unique(df['partei']):\n",
    "    this_party = (df['partei'] == party).values * 2 - 1\n",
    "    word_covariance = bow_vectors.T.dot(this_party).argsort()\n",
    "    top_words = [idx2words[widx] for widx in word_covariance[-20:][::-1]]\n",
    "    print(\"*********************\\nPartei {} benutzt haeufig:\\n{}\".format(party, \", \".join(top_words)))"
   ]
  }
 ],
 "metadata": {
  "celltoolbar": "Raw Cell Format",
  "kernelspec": {
   "display_name": "Python 3",
   "language": "python",
   "name": "python3"
  },
  "language_info": {
   "codemirror_mode": {
    "name": "ipython",
    "version": 3
   },
   "file_extension": ".py",
   "mimetype": "text/x-python",
   "name": "python",
   "nbconvert_exporter": "python",
   "pygments_lexer": "ipython3",
   "version": "3.6.2"
  }
 },
 "nbformat": 4,
 "nbformat_minor": 1
}
