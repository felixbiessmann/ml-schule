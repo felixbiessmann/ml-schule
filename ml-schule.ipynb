{
 "cells": [
  {
   "cell_type": "markdown",
   "metadata": {},
   "source": [
    "## Laden der Text Daten "
   ]
  },
  {
   "cell_type": "code",
   "execution_count": 1,
   "metadata": {},
   "outputs": [
    {
     "name": "stdout",
     "output_type": "stream",
     "text": [
      "43679 Reden wurden geladen\n",
      "\n",
      "****************************\n",
      "Beispiele von Partei cducsu:\n",
      "****************************\n",
      "\n",
      "\n",
      "*******************************\n",
      "Sprecher Dr. Stefan Kaufmann:\n",
      "\n",
      "Bezüglich der Fusionsforschung stehen wir in dieser Woche an einem Scheideweg. Ich möchte nicht falsch verstanden werden: Selbstverständlich bekennen wir uns nach wie vor zur Fusionsforschung, weil wir die darin liegenden immensen Chancen zur Sicherung unserer Energieversorgung über das Jahr 2050 hinaus sehen. Funktioniert die Kernfusion wie geplant, können wir unseren Energiebedarf ab der zweiten Hälfte des Jahrhunderts einfach und sauber decken. Bis dahin ist es jedoch ein weiter Weg. Dieser Weg darf für die Beteiligten nicht zu einem Drahtseilakt werden, zumal uns ein Auffangnetz derzeit fehlt.\n",
      "\n",
      "Auf die Chancen für die Hightechindustrie in Deutschland und die positiven Wechselwirkungen von ITER und der Fusionsforschung in Garching und Greifswald habe ich in meiner letzten Rede bereits hingewiesen. Nochmals: Wir sind gewillt, das Projekt ITER weiterzuführen, allerdings nur dann, wenn wir die feste Überzeugung haben, dass das Management den Aufgaben gewachsen ist und die technischen Probleme in den Griff zu bekommen sind. Auch hier sind noch einige Fragen offen, zum Beispiel hinsichtlich ungeklärter Materialfragen beim Bau des Reaktors.\n",
      "\n",
      "Liebe Kolleginnen und Kollegen von den Grünen - Sie haben den Antrag gestellt -, ganz ohne Risiko kommen wir nicht zu neuer Spitzentechnologie. Schließlich setzen wir ganz bewusst auf deutliche Mehrausgaben in den Bereichen Bildung und Forschung. Ich erinnere an unsere lebhafte Diskussion heute Morgen. Bei der harten internationalen Konkurrenz liegt die Zukunft Deutschlands als Innovationsstandort in der Forschung. Die Fortführung von ITER hat also nichts damit zu tun, die Förderung erneuerbarer Energien oder Forschungsausgaben in diesem Bereich zurückzufahren, wie das die Grünen gerne unterstellen. Dieser Vorwurf ist unredlich, entsprechende Befürchtungen sind offensichtlich unbegründet, und das wissen auch Sie.\n",
      "\n",
      "*******************************\n",
      "Sprecher Franz Obermeier:\n",
      "\n",
      "Wenn sie klug waren, dann haben sie in der Vergangenheit schon einiges dafür unternommen, dass dieser Kostenfaktor so klein wie möglich bleibt. Ich weiß von vielen Unternehmen, dass sie aufgrund der aktuellen Entwicklung und dessen, was noch alles auf uns zukommt, zum Beispiel beim Netzausbau, alles Mögliche unternehmen, um den absoluten Energieverbrauch, speziell den Stromverbrauch, so gering wie möglich zu halten.\n",
      "\n",
      "Ich will Ihnen auch sagen: Im internationalen Vergleich der Produktivität – schauen Sie sich die Studien an – ist die deutsche Wirtschaft, insbesondere die energieverbrauchende Wirtschaft, an der Weltspitze. Wir sind weltweit die Besten, wenn es darum geht, wie viel Energie bezogen auf eine produktive Einheit verbraucht wird. Hier sind wir hervorragend. Hier können wir auch noch besser werden, das ist schon wahr, aber das Risiko, das wir eingehen würden, wenn wir solche Instrumente wie die einsetzen würden, die die Linken per Antrag eingebracht haben, wäre mir viel zu groß.\n",
      "\n",
      "Meine Damen und Herren, wir haben in Deutschland eine kumulative Belastung des Stroms, zum einen durch die Steuern, zum anderen durch den Emissionshandel, durch die EEG-Umlage und durch die KWK-Umlage. Wir müssen aufpassen, dass wir uns alle miteinander nicht überfordern. Deswegen ist es unser Bestreben, das Bestreben der christlich-liberalen Koalition, dass wir diese Lasten beim Umstieg in der Energiepolitik für die Verbraucher insgesamt und für die deutsche Volkswirtschaft so gering wie möglich halten.\n",
      "\n",
      "Wir reden jetzt von einer Zusatzbelastung durch die EEG-Umlage in Höhe von 3,5 Cent pro Kilowattstunde, und in diesem Jahr wird es beispielsweise in der Photovoltaik wieder zu einem deutlichen Zubau kommen. Wir tun uns alle miteinander keinen Gefallen, wenn wir die gesamten Belastungen für die Kleinverbraucher, für die mittelständische Wirtschaft und für die Industrie ständig anwachsen lassen.\n",
      "\n",
      "****************************\n",
      "Beispiele von Partei fdp:\n",
      "****************************\n",
      "\n",
      "\n",
      "*******************************\n",
      "Sprecher Dr. Martin Neumann:\n",
      "\n",
      "Sehr geehrter Herr Präsident! Liebe Kolleginnen und Kollegen! Bei meinem gestrigen Besuch auf der Internationalen Luft- und Raumfahrtausstellung am Flughafen Berlin-Schönefeld kam ich mit einem Vertreter eines der bedeutendsten Hersteller für Flugzeugtriebwerke ins Gespräch. Jetzt fragen Sie natürlich, was das mit dem Thema ITER und vor allen Dingen mit dessen Zukunftsperspektiven zu tun hat. Ich fragte, als mir ein Triebwerk einer neuen Generation gezeigt wurde, wie hoch in etwa die Entwicklungskosten für ein solches Hightechprodukt sind. Die Antwort, die ich erhalten habe, hat mich nachdenklich gemacht. Vom Anfang der Entwicklung bis zum fertigen Triebwerk muss circa 1 Milliarde Euro investiert werden.\n",
      "\n",
      "Zurück zum ITER. Wir sprechen hier über die Kostensteigerung und den europäischen Anteil bei der Finanzierung des größten Fusionsforschungsprojektes der Welt. Der europäische Anteil für diese Energiemaschine soll 7,2 Milliarden Euro betragen. Dieser Betrag wird gedeckelt. Im Gegensatz zu dem genannten Triebwerksbau betreten wir an dieser Stelle völliges Neuland. Mit ITER schaffen wir das Triebwerk für die Energieversorgung von morgen. Mit der Kernfusionsforschung versucht man, eine unerschöpfliche Quelle kostengünstiger und umweltfreundlicher Energie zu entwickeln, bei der kaum Abfallprodukte entstehen.\n",
      "\n",
      "*******************************\n",
      "Sprecher Dr. Heinrich L. Kolb:\n",
      "\n",
      "Das Bild, das ich hier gezeichnet habe, gilt für ausnahmslos alle Bundesländer und, wie gesagt, für beide Rechtskreise. Auch die Langzeitarbeitslosen – das ist uns ganz wichtig – sind in diesen Trend eingebunden.\n",
      "\n",
      "Dass wir im europäischen Vergleich einen der größten Rückgänge bei der Erwerbsarbeitslosigkeit zu verzeichnen haben, will ich der Vollständigkeit halber erwähnen. Ich bitte Sie, sich die entsprechenden Grafiken einmal anzuschauen. Dann erkennen Sie nämlich, dass die europäischen Länder bis zur Finanz- und Wirtschaftskrise im Jahr 2009 annähernd im Gleichklang waren. Sie erkennen ferner, dass die Arbeitslosigkeit nach 2009 in den Ländern der EU-27 und in den 17 Ländern der Euro-Zone gestiegen ist, nur nicht in Deutschland. In Deutschland ist diese Zahl erfreulicherweise im Sinken begriffen. Das zeigt, dass die Maßnahmen, die wir hier teilweise gegen heftigste Kritik der Opposition durchgesetzt haben, gegriffen haben. Sie haben dazu geführt, dass mehr Menschen in Beschäftigung gekommen sind.\n",
      "\n",
      "****************************\n",
      "Beispiele von Partei gruene:\n",
      "****************************\n",
      "\n",
      "\n",
      "*******************************\n",
      "Sprecher Peter Meiwald:\n",
      "\n",
      "Ein anderes Beispiel, das ich noch kurz erwähnen möchte – es wird immer wieder vorgebracht –, ist die Frage der Krankenversicherung; es ist von den Kolleginnen Stamm-Fibich und Wöllert schon angesprochen worden. Da gibt es einen enormen Handlungsbedarf. Unser zweigliedriges Krankenversicherungssystem ist überholt, vorgestrig, bürokratisch, im Einzelfall oftmals ungerecht. Zu dieser Einschätzung kommen wir oft gemeinsam. Wir schlagen immer wieder vor, die Petition der Bundesregierung als Material zu überweisen, um eine Bürgerversicherung einzuführen. Das Ministerium könnte mit Vorschlägen dieser Art wahrscheinlich schon heute seine Bürowände pflastern. Aber die Überweisungsvorschläge, die wir machen, bringen die Petition nicht in das Ministerium, weil sie im Ausschuss blockiert werden. Ich sage das, um zu unterstreichen, was Kollegin Rüffer meinte. Es gibt da viele Dinge, wo wir noch Verbesserungsbedarf haben.\n",
      "\n",
      "Auch wenn das Petitionswesen als solches noch Reformen vertragen könnte – das ist schon angesprochen worden –: Wenn wir das, was wir schon können, nutzen würden, könnten wir für die Bürgergesellschaft einiges mehr tun, als wir bisher getan haben. Ich freue mich darauf, daran in den nächsten Jahren konstruktiv weiterzuarbeiten, auch im Ringen um die besten Lösungen. Natürlich gibt es in einer Demokratie Mehrheitsverhältnisse; das ist völlig klar. Aber ich glaube, wir sollten gemeinsam daran weiterarbeiten.\n",
      "\n",
      "Herzlichen Dank.\n",
      "\n",
      "*******************************\n",
      "Sprecher Wolfgang Wieland:\n",
      "\n",
      "– Ich habe mich schon vorbeugend entschuldigt, sollte ich ihn übersehen haben. Es war so: Ich habe ihn übersehen.\n",
      "\n",
      "Herr Staatssekretär Schröder, da Sie vor Ort waren, haben Sie genauso wie ich gehört, dass sich der BKA-Chef unter Beifall der gesamten CDU/CSU-Bank darüber beklagt hat, dass er gemäß BKA-Gesetz, also nach Polizeirecht, abhören bzw. eine Quellen-TKÜ durchführen darf. Wenn er aber den Fall auf Weisung der Bundesjustizministerin an den Generalbundesanwalt abgeben muss, dann muss die Maßnahme abgebrochen werden.\n",
      "\n",
      "Sie behaupten, dass zwischen den Kollegen Stadler und Sie kein Stück Löschpapier passe. Ich frage Sie: Wie wollen Sie die Diskrepanz denn benennen, wenn Sie doch so übereinstimmen? Die einen sagen, man dürfe nicht. Der BKA-Präsident hat sogar gesagt, er verzögere deswegen die Abgabe; was rechtlich sehr kritisch ist. Hören Sie auf, uns die heile Welt im Hinblick auf die Übereinstimmung der Bundesregierung vorzuspielen! Nicht umsonst hat Ihr Koalitionspartner ein Moratorium für den Einsatz von Trojanern gefordert. Haben Sie es umgesetzt? Gibt es ein Moratorium? Werden sie zurzeit nicht eingesetzt, wie es die Kollegin Piltz beispielsweise gefordert hat? Wie sieht es wirklich aus zwischen Schwarz und Gelb?\n",
      "\n",
      "****************************\n",
      "Beispiele von Partei linke:\n",
      "****************************\n",
      "\n",
      "\n",
      "*******************************\n",
      "Sprecher Heidrun Dittrich:\n",
      "\n",
      "Sie haben soeben eine Lanze für die Referatsleiterin bei der Ministerin gebrochen, die dort als alleinerziehende Mutter arbeitet. Sie haben sich in diesem Zusammenhang auf die Alleinerziehenden bezogen, die im Arbeitsleben stehen. Ich möchte mich auf die arbeitenden und armen Alleinerziehenden beziehen.\n",
      "\n",
      "Wissen Sie eigentlich, wie viel Geld eine Alleinerziehende mit drei Kindern mindestens braucht, um aus Hartz IV herauszukommen? Nehmen wir an, sie verdient 8 Euro pro Stunde. Ein Stundenlohn von 8 Euro reicht nicht aus; denn bei einer 40-Stunden-Woche kommt sie auf 1 280 Euro. Rechnet man das Kindergeld für die drei Kinder dazu, dann ergibt das einen Betrag von ungefähr 1 830 Euro. Wenn sie Arbeitslosengeld II erhält – dies umfasst den Regelsatz für den Haushaltsvorstand; sie bekommt je nach Alter der Kinder unterschiedliche Regelsätze; je kleiner die Kinder, desto geringer sind die Regelsätze –, kommt die Frau unter Berücksichtigung des Mehrbedarfs einer Alleinerziehenden über diesen Betrag. Das heißt, sie müsste ungefähr 1 800 Euro netto verdienen, damit es sich für sie überhaupt lohnt, arbeiten zu gehen. Was für ein Bruttogehalt müsste sie dann bekommen? Um die 3 000 Euro. Was passiert mit dem Betreuungsgeld für diese aufstockende Mutter? Bekommt sie es, oder bekommt sie es nicht?\n",
      "\n",
      "*******************************\n",
      "Sprecher Dr. Diether Dehm:\n",
      "\n",
      "Am 22. Januar in Davos erlaubten Sie sich, Herr Gabriel, TTIP-Kritiker als hysterisch zu beschimpfen. Sie verzauberten die skeptische SPD-Basis mit dem Satz, alles habe Recht und Ordnung. Dazu nur zwei Urteile: Erstens. Am 17. November entschied der Europäische Gerichtshof, dass die öffentliche Hand die Vergabe von Aufträgen von der Zahlung eines Mindestlohns abhängig machen darf. CETA jedoch, das Gesellenstück für TTIP, würde das alles außer Kraft setzen, schützt also nicht einmal europäisches Recht. Es ist ein Leichtes für US-Konzerne, in Kanada einen Briefkasten anzumelden und dann in Europa Armutslöhne zu zahlen.\n",
      "\n",
      "Zweitens. Anfang November wurde Ecuador vom Schiedsgericht der Weltbank zur Zahlung von 1,1 Milliarden Dollar an den US-amerikanischen Ölkonzern Oxy verurteilt. Zwar erkannte das Gericht an, Oxy habe gegen ecuadorianisches Recht verstoßen, ging aber davon aus, dass die Firma durch den Staat benachteiligt wurde. Schöne neue Welt für Finanzhaie! Es ist diskriminierend, wenn mit TTIP und CETA Konzerne Staaten verklagen dürfen, aber demokratisch gewählte Regierungen niemals einen Konzern.\n",
      "\n",
      "****************************\n",
      "Beispiele von Partei spd:\n",
      "****************************\n",
      "\n",
      "\n",
      "*******************************\n",
      "Sprecher Dr. Sascha Raabe:\n",
      "\n",
      "Sehr geehrter Herr Kollege Koppelin, die Unruhe, die Sie bemängeln, kommt daher, dass Sie in Ihrer Rede so viele Unwahrheiten gesagt haben, dass ich sie in dieser Zwischenfrage gar nicht alle aufzählen kann. Ich will nur drei nennen:\n",
      "\n",
      "Erstens. Sie haben behauptet, Deutschlands ODA-Quote für 2009 liege bei 0,36. Sie müssten wissen, dass die ODA-Quote im Nachhinein errechnet wird: Der entsprechende Ausschuss der OECD, der DAC, muss erst feststellen, was 2009 tatsächlich ausgegeben worden ist. Vorher kann die ODA-Quote nicht ermittelt werden. Sie können also noch gar nicht wissen, wie hoch die ODA-Quote für 2009 ist.\n",
      "\n",
      "Zweitens ist es so, dass wir erwarten, dass die ODA-Quote für 2009 bei 0,41 liegt. Bevor Helmut Kohl regiert hat, lag die ODA-Quote bei 0,47. Das ist heruntergewirtschaftet worden auf 0,26 im Jahr 1998. Unter Heidi Wieczorek-Zeul haben wir die ODA-Quote von 0,26 wieder auf fast 0,41 gesteigert. Wir hätten es gern weitergemacht; aber nun haben Sie uns mit Ihrem Haushaltsentwurf etwas vorgelegt, mit dem Sie das Versprechen brechen.\n",
      "\n",
      "Zweiter Punkt: Sie sagten, das Bundesministerium habe bei uns nicht Bundesministerium für wirtschaftliche Zusammenarbeit geheißen, sondern nur Bundesministerium für Entwicklung. Sie können nicht so tun, als heiße es jetzt durch die FDP auf einmal Bundesministerium für wirtschaftliche Zusammenarbeit. Dies war auch bei uns schon so.\n",
      "\n",
      "Dritter Punkt: Wir sind natürlich verwundert, wenn Sie sagen, sie wollen die Budgethilfe einstellen, weil der Bundesrechnungshof fordere, dass sie eingestellt werden müsse. Das ist schlicht gelogen. Der Bundesrechnungshof sagt nicht, dass überall, wo sich Deutschland an Budgethilfe beteiligt – multilateral, auf EU-Ebene, auf UN-Ebene –, die Budgethilfe eingestellt werden müsse. Sie können hier doch nicht eine Rede halten, in der Sie dem Bundesrechnungshof etwas unterstellen, was er nicht gesagt hat.\n",
      "\n",
      "Ich muss übrigens keine Frage stellen. Sie sollten sich einmal die Geschäftsordnung anschauen. Dann werden Sie sehen, dass ich hier auch Lügen richtigstellen darf. Wenn Sie hier einen solchen Unsinn erzählen, dann kann es einen nicht mehr auf dem Platz halten.\n",
      "\n",
      "*******************************\n",
      "Sprecher Klaus Hagemann:\n",
      "\n",
      "Da ist Irland das beste Beispiel.\n",
      "\n",
      "Bei der Haushaltsberatung im Frühjahr zum laufenden Haushalt hatten wir die Griechenland-Krise. Jetzt, bei den Beratungen für 2011, haben wir die Irland-Krise. Dazwischen hatten wir noch den Rettungsschirm mit 750 Milliarden Euro zu beschließen. Außerdem war noch ein Stresstest der Banken zu machen. 91 Banken wurden dem Stresstest unterzogen. Er hat keine Wirkung gezeigt, und auch die Entscheidungen haben keine Wirkung gezeigt.\n",
      "\n",
      "Schwarz-Gelb und auch der Bundesfinanzminister verfahren immer nach einem bestimmten Muster: Erst machen Gerüchte die Runde. Anschließend wird von der Bundesregierung und von Schwarz-Gelb abgewiegelt. Gewisse Entwicklungen werden geleugnet. Wenn man Fragen stellt, bekommt man laue Antworten. Im Parlament werden keine Antworten gegeben. Das können wir im Haushaltsauschuss oder auch im Unterausschuss zu Fragen der Europäischen Union immer wieder feststellen. Und plötzlich, ganz plötzlich, fällt es vom Himmel: Dann werden durch den Bundesfinanzminister und durch die Bundeskanzlerin hektische Notrunden eingeläutet. Es werden kurzerhand Fakten geschaffen, und das Parlament wird überhaupt nicht beteiligt. Das ist die Kritik.\n"
     ]
    }
   ],
   "source": [
    "import os, gzip\n",
    "import pandas as pd\n",
    "import numpy as np\n",
    "import urllib.request\n",
    "\n",
    "DATADIR = \"data\"\n",
    "\n",
    "if not os.path.exists(DATADIR): \n",
    "    os.mkdir(DATADIR)\n",
    "\n",
    "file_name = os.path.join(DATADIR, 'bundestags_parlamentsprotokolle.csv.gzip')\n",
    "if not os.path.exists(file_name):\n",
    "    url_data = 'https://www.dropbox.com/s/1nlbfehnrwwa2zj/bundestags_parlamentsprotokolle.csv.gzip?dl=1'\n",
    "    urllib.request.urlretrieve(url_data, file_name)\n",
    "\n",
    "df = pd.read_csv(gzip.open(file_name)).sample(frac=1)\n",
    "\n",
    "alle_sprecher = df.sprecher.unique()\n",
    "parteien = df.partei.unique()\n",
    "partei_farben = {'cducsu':'black', 'linke':'purple', 'spd':'red', 'gruene':'green', 'fdp':'yellow'}\n",
    "\n",
    "print(\"{} Reden wurden geladen\".format(len(df)))\n",
    "\n",
    "# Zeige einige Reden von Parteien\n",
    "for party in np.unique(df['partei']):\n",
    "    print(\"\\n****************************\\nBeispiele von Partei {}:\\n****************************\\n\".format(party))\n",
    "    for _, speech in df[df['partei']==party].sample(2).iterrows():\n",
    "        print(\"\\n*******************************\\nSprecher {}:\\n\\n{}\".format(speech['sprecher'], speech['text']))\n"
   ]
  },
  {
   "cell_type": "code",
   "execution_count": 2,
   "metadata": {
    "collapsed": true
   },
   "outputs": [],
   "source": [
    "from sklearn.metrics import confusion_matrix, classification_report\n",
    "from sklearn.feature_extraction.text import CountVectorizer, TfidfVectorizer\n",
    "from sklearn.model_selection import train_test_split, GridSearchCV\n",
    "from sklearn.naive_bayes import MultinomialNB\n",
    "from sklearn.linear_model import SGDClassifier\n",
    "from sklearn.pipeline import Pipeline\n",
    "import warnings\n",
    "\n",
    "def train(texts, party):\n",
    "    '''\n",
    "    Eine Funktion, die gegeben Texte und Labels einen Klassifier trainiert\n",
    "    '''\n",
    "    stopwords = [w.strip() for w in open(\"data/stopwords.txt\").readlines()]\n",
    "    with warnings.catch_warnings():\n",
    "        warnings.simplefilter(\"ignore\")\n",
    "        # Eine Machine Learning Pipeline um Bag-of-Words Vectors zu erstellen aus Texten\n",
    "        text_clf = Pipeline([('vect', TfidfVectorizer(stop_words=stopwords)),\n",
    "                            ('clf', SGDClassifier(loss='log', class_weight='balanced'))])\n",
    "        # some hyperparameters\n",
    "        parameters = {\n",
    "            'vect__ngram_range': [(1, 1), (1, 2)],\n",
    "            'vect__max_df': [0.8],\n",
    "            'clf__alpha': (np.logspace(-6, -4, 2)).tolist()\n",
    "        }\n",
    "        # perform gridsearch to get the best regularizer\n",
    "        clf = GridSearchCV(text_clf, parameters, cv=2, n_jobs=-1,verbose=4)\n",
    "        clf.fit(texts, party)\n",
    "\n",
    "    return clf\n"
   ]
  },
  {
   "cell_type": "markdown",
   "metadata": {},
   "source": [
    "## Trainieren eines linearen Klassifiers"
   ]
  },
  {
   "cell_type": "code",
   "execution_count": 3,
   "metadata": {
    "scrolled": true
   },
   "outputs": [
    {
     "name": "stdout",
     "output_type": "stream",
     "text": [
      "Fitting 2 folds for each of 4 candidates, totalling 8 fits\n",
      "[CV] clf__alpha=1e-06, vect__max_df=0.8, vect__ngram_range=(1, 1) ....\n",
      "[CV] clf__alpha=1e-06, vect__max_df=0.8, vect__ngram_range=(1, 1) ....\n",
      "[CV] clf__alpha=1e-06, vect__max_df=0.8, vect__ngram_range=(1, 2) ....\n",
      "[CV] clf__alpha=1e-06, vect__max_df=0.8, vect__ngram_range=(1, 2) ....\n",
      "[CV]  clf__alpha=1e-06, vect__max_df=0.8, vect__ngram_range=(1, 1), score=0.4829228092665507, total=  11.0s\n",
      "[CV]  clf__alpha=1e-06, vect__max_df=0.8, vect__ngram_range=(1, 1), score=0.4817732185381938, total=  11.1s\n",
      "[CV] clf__alpha=0.0001, vect__max_df=0.8, vect__ngram_range=(1, 1) ...\n",
      "[CV] clf__alpha=0.0001, vect__max_df=0.8, vect__ngram_range=(1, 1) ...\n",
      "[CV]  clf__alpha=0.0001, vect__max_df=0.8, vect__ngram_range=(1, 1), score=0.4962915483930043, total=  13.3s\n",
      "[CV]  clf__alpha=0.0001, vect__max_df=0.8, vect__ngram_range=(1, 1), score=0.49844293826708186, total=  13.0s\n",
      "[CV] clf__alpha=0.0001, vect__max_df=0.8, vect__ngram_range=(1, 2) ...\n"
     ]
    },
    {
     "name": "stderr",
     "output_type": "stream",
     "text": [
      "[Parallel(n_jobs=-1)]: Done   4 out of   8 | elapsed:   37.8s remaining:   37.8s\n"
     ]
    },
    {
     "name": "stdout",
     "output_type": "stream",
     "text": [
      "[CV] clf__alpha=0.0001, vect__max_df=0.8, vect__ngram_range=(1, 2) ...\n",
      "[CV]  clf__alpha=1e-06, vect__max_df=0.8, vect__ngram_range=(1, 2), score=0.5069132863290907, total=  29.0s\n",
      "[CV]  clf__alpha=1e-06, vect__max_df=0.8, vect__ngram_range=(1, 2), score=0.5043048177321854, total=  28.9s\n",
      "[CV]  clf__alpha=0.0001, vect__max_df=0.8, vect__ngram_range=(1, 2), score=0.494643347678784, total=  17.9s\n",
      "[CV]  clf__alpha=0.0001, vect__max_df=0.8, vect__ngram_range=(1, 2), score=0.49267265066862065, total=  17.4s\n"
     ]
    },
    {
     "name": "stderr",
     "output_type": "stream",
     "text": [
      "[Parallel(n_jobs=-1)]: Done   8 out of   8 | elapsed:  1.0min finished\n"
     ]
    }
   ],
   "source": [
    "# Erst nehmen wir einige Daten beiseite, um das Model darauf spaeter testen zu koennen\n",
    "train_data, test_data, train_labels, test_labels = train_test_split(df['text'], df['partei'], test_size=0.5)\n",
    "\n",
    "# Jetzt trainieren wir den Klassifier\n",
    "clf = train(train_data, train_labels)"
   ]
  },
  {
   "cell_type": "markdown",
   "metadata": {},
   "source": [
    "# Vorhersage auf Trainings Daten"
   ]
  },
  {
   "cell_type": "code",
   "execution_count": 4,
   "metadata": {},
   "outputs": [
    {
     "name": "stdout",
     "output_type": "stream",
     "text": [
      "             precision    recall  f1-score   support\n",
      "\n",
      "     cducsu       1.00      1.00      1.00      7985\n",
      "        fdp       1.00      1.00      1.00      1694\n",
      "     gruene       1.00      1.00      1.00      3148\n",
      "      linke       1.00      1.00      1.00      3055\n",
      "        spd       1.00      1.00      1.00      5957\n",
      "\n",
      "avg / total       1.00      1.00      1.00     21839\n",
      "\n"
     ]
    }
   ],
   "source": [
    "train_predictions = clf.predict(train_data)\n",
    "report = classification_report(train_predictions, train_labels)\n",
    "print(report)"
   ]
  },
  {
   "cell_type": "markdown",
   "metadata": {},
   "source": [
    "# Vorhersage auf Test Daten"
   ]
  },
  {
   "cell_type": "code",
   "execution_count": 5,
   "metadata": {},
   "outputs": [
    {
     "name": "stdout",
     "output_type": "stream",
     "text": [
      "             precision    recall  f1-score   support\n",
      "\n",
      "     cducsu       0.81      0.58      0.68     11189\n",
      "        fdp       0.21      0.48      0.29       716\n",
      "     gruene       0.27      0.53      0.36      1554\n",
      "      linke       0.47      0.60      0.53      2403\n",
      "        spd       0.49      0.49      0.49      5978\n",
      "\n",
      "avg / total       0.63      0.55      0.57     21840\n",
      "\n"
     ]
    }
   ],
   "source": [
    "test_predictions = clf.predict(test_data)\n",
    "report = classification_report(test_predictions, test_labels)\n",
    "print(report)"
   ]
  },
  {
   "cell_type": "markdown",
   "metadata": {},
   "source": [
    "## Confusion Matrix"
   ]
  },
  {
   "cell_type": "code",
   "execution_count": 6,
   "metadata": {},
   "outputs": [
    {
     "name": "stdout",
     "output_type": "stream",
     "text": [
      "[[6500  176  148  176 1051]\n",
      " [ 944  344   49   54  285]\n",
      " [ 846   54  830  401  989]\n",
      " [ 575   35  267 1444  724]\n",
      " [2324  107  260  328 2929]]\n"
     ]
    }
   ],
   "source": [
    "print(confusion_matrix(test_labels, test_predictions))"
   ]
  },
  {
   "cell_type": "markdown",
   "metadata": {},
   "source": [
    "# Bist du besser als das ML Modell? "
   ]
  },
  {
   "cell_type": "code",
   "execution_count": 19,
   "metadata": {},
   "outputs": [
    {
     "name": "stdout",
     "output_type": "stream",
     "text": [
      "================================\n",
      "Durch die Richtlinie werden nun die Einlagensicherungssysteme EU-weit harmonisiert, und es wird ein -einheitliches Schutzniveau für alle Sparer in der EU -geschaffen. Gut ausgestattete und funktionierende Einlagensicherungssysteme sind ein wesentlicher Faktor, um das Vertrauen in das Bankensystem zu stärken. Auch in der jüngeren Vergangenheit konnten wir in europäischen Ländern einen guten Eindruck davon gewinnen, was passiert, wenn Vertrauen in die finanzielle Leistungs-fähigkeit von Banken abhandenkommt.\n",
      "\n",
      "Die Einlagensicherung vermeidet im Krisenfall einen massiven Abzug von Spareinlagen und trägt somit dazu bei, dass sich eine Krise nicht weiter verschärft.\n",
      "\n",
      "In Deutschland haben wir schon lange ein sehr gutes System der Einlagensicherung. Die Entschädigungseinrichtungen der privaten und öffentlichen Banken, die -institutsbezogenen Sicherungssysteme der regionalen Sparkassen- und Giroverbände und die Sicherungs-einrichtung des Bundesverbandes der Deutschen Volksbanken und Raiffeisenbanken haben sich in der Vergangenheit bewährt. Diese etablierten und historisch gewachsenen Strukturen bleiben erhalten. Dafür haben sich CDU und CSU auch in der Vergangenheit stets eingesetzt.\n",
      "------------------------------------\n",
      "Von welcher Partei ist dieser Text? Wähle aus ['cducsu' 'gruene' 'linke' 'spd']\n",
      "cducsu\n",
      "*****************************\n",
      "Deine Vorhersage: cducsu\n",
      "ML Vorhersage: cducsu\n",
      "Tatsächliche Partei: cducsu\n",
      "================================\n",
      "================================\n",
      "Schauen wir uns die Gewichtung an – von mehreren Rednern ist darauf hingewiesen worden –: Dieses Paket sieht eine Entlastung mit einem Volumen von 8,5 Milliarden Euro vor. Schon in der alten Koalition haben wir das Bürgerentlastungsgesetz umgesetzt, das mit Wirkung zum 1. Januar 2010 Entlastungen mit einem Volumen von rund 12 Milliarden Euro vorsieht. Liebe Kolleginnen und Kollegen von der SPD, es kann doch nicht sein, dass Sie auf der einen Seite diese Entlastungen, die auch angepasste Freibeträge beinhalten, gemeinsam mit uns auf den Weg gebracht haben, Sie aber auf der anderen Seite die Entlastungen, die wir in einer anderen Konstellation verabschieden, nicht für richtig halten. Mir muss einmal jemand klarmachen, was daran falsch ist, wenn gerade die Familien gezielt entlastet werden sollen.\n",
      "\n",
      "Es ist schon darauf hingewiesen worden, wie beispielsweise ein Kinderfreibetrag wirkt: Bei einem progressiven Tarif muss er für die höchste Einkommensstufe entsprechend entlastend wirken. Sie müssen sich für eines entscheiden: Wenn Sie für den linear-progressiven Tarif sind, dann müssen Sie die Wirkung dieser Maßnahme akzeptieren.\n",
      "------------------------------------\n",
      "Von welcher Partei ist dieser Text? Wähle aus ['cducsu' 'gruene' 'linke' 'spd']\n",
      "cducsu\n",
      "*****************************\n",
      "Deine Vorhersage: cducsu\n",
      "ML Vorhersage: cducsu\n",
      "Tatsächliche Partei: cducsu\n",
      "================================\n",
      "================================\n",
      "Wir wissen aber, dass es neben der demografischen Realität auch eine gesellschaftliche Realität und eine Realität in den Betrieben gibt. Das verlangt von uns differenzierte Antworten, vor allem für erwerbsgeminderte Personen und für Leute, die sehr früh ins Erwerbsleben eingestiegen sind. Durch differenzierte Lösungen und differenzierte Antworten schaffen wir auch neues Vertrauen. Das zeigt die große Zustimmung, die unser Rentenpaket in der Bevölkerung insgesamt, aber gerade auch in der jungen Generation erfährt.\n",
      "\n",
      "Meine Damen und Herren, wenn wir differenzierte Lösungen wollen, müssen wir uns auch fragen, wie wir mit der Anrechnung von Arbeitslosigkeit beim vorzeitigen Renteneintritt umgehen. Herr Kollege Schiewerling hat zu Recht auf die Vergangenheit verwiesen, auf die großen Strukturkrisen in Ostdeutschland, aber auch im Bergbau und in der Stahlindustrie. Genauso gilt das aber angesichts zunehmend brüchiger Erwerbsbiografien und der Tatsache, dass Krisen auch in Zukunft nicht ausgeschlossen sind, aus unserer Sicht auch für die Zukunft. Genau so steht es deshalb auch im Koalitionsvertrag.\n",
      "------------------------------------\n",
      "Von welcher Partei ist dieser Text? Wähle aus ['cducsu' 'gruene' 'linke' 'spd']\n",
      "spd\n",
      "*****************************\n",
      "Deine Vorhersage: spd\n",
      "ML Vorhersage: spd\n",
      "Tatsächliche Partei: spd\n",
      "================================\n",
      "================================\n",
      "Zweite Schwierigkeit. Hinter dem Thema Sorgerecht für nicht verheiratete Eltern – Sie haben das angesprochen – verbergen sich ganz unterschiedliche Fallgruppen: angefangen bei den Eltern, die auch ohne Trauschein ein Leben lang zusammenbleiben und sich gemeinsam rührend um ihre Kinder kümmern bis hin zu den flüchtigen Bekanntschaften, bei denen der Vater schon lange vor der Geburt verschwunden ist. Eine gesetzliche Neuregelung muss das Kunststück fertigbringen, all diesen Fallgruppen gerecht zu werden. Das ist kein leichtes Unterfangen.\n",
      "\n",
      "Schließlich die dritte Schwierigkeit. Jede noch so gut gemeinte gesetzliche Regelung auf dem Papier ist darauf angewiesen, dass die Eltern sie vor Ort im Alltag verantwortungsbewusst und einvernehmlich umsetzen. Wenn die Eltern das nicht tun, wenn sie beispielsweise ihre Konflikte auf dem Rücken der Kinder austragen, dann läuft jede noch so gute Regelung vollkommen ins Leere. Deshalb muss es doch das Ziel einer gesetzlichen Regelung sein, die Eltern zu unterstützen und da, wo Konflikte vorhanden sind, diese Konflikte mit den Eltern zu bereden und sie nicht alleine zu lassen.\n",
      "------------------------------------\n",
      "Von welcher Partei ist dieser Text? Wähle aus ['cducsu' 'gruene' 'linke' 'spd']\n",
      "cducsu\n",
      "*****************************\n",
      "Deine Vorhersage: cducsu\n",
      "ML Vorhersage: spd\n",
      "Tatsächliche Partei: spd\n",
      "================================\n",
      "================================\n",
      "Man braucht Geld, um diese Entwicklung zu befördern. Das Geld brauchen wir in der zweiten Säule und nicht mehr in der ersten, wie Sie es hier mit Ihrer Agrarsteinzeitpolitik vertreten.\n",
      "\n",
      "Wenn wir zukünftig einen richtungsweisenden Ansatz für die Agrarpolitik haben wollen, kann das an sich nur heißen: langsamer, aber stetiger Ausstieg aus dem System der an sich überholten Direktzahlungen und weg mit dem Gießkannenprinzip. Die Direktzahlungsverordnung, die wir nach 2014 bekommen werden, bietet einen Ansatz dafür. Schichten wir zunächst einmal 510 Millionen Euro von der ersten in die zweite Säule um. Dann haben wir den finanziellen Spielraum, um das mitzu-gestalten. Beschränken wir die Ausgleichszulage auf Regionen, die sie brauchen, und verteilen wir sie nicht an alle Regionen. 30 Prozent können bei uns nicht so benachteiligt sein. Das ergibt sich aus den Zahlen, die Sie heute Morgen vorgetragen haben. Insofern schaffen wir – auch durch Verlagerung der Ausgleichszahlungen von der ersten in die zweite Säule – für die Kofinanzierung Raum. Dann sind wir, glaube ich, auf einem guten Weg.\n",
      "\n",
      "Wir brauchen für die Zukunft mehr Investitionen, klare Rahmenbedingungen und vor allen Dingen mehr Investitionen in Beschäftigung, Wertschöpfung und Innovation. Davon ist heute hier gar nichts deutlich geworden.\n",
      "------------------------------------\n",
      "Von welcher Partei ist dieser Text? Wähle aus ['cducsu' 'gruene' 'linke' 'spd']\n",
      "cducsu\n",
      "*****************************\n",
      "Deine Vorhersage: cducsu\n",
      "ML Vorhersage: spd\n",
      "Tatsächliche Partei: spd\n",
      "================================\n",
      "Deine Vorhersage Metriken:\n",
      "             precision    recall  f1-score   support\n",
      "\n",
      "     cducsu       1.00      0.50      0.67         4\n",
      "        spd       0.33      1.00      0.50         1\n",
      "\n",
      "avg / total       0.87      0.60      0.63         5\n",
      "\n",
      "Die Vorhersage Metriken des ML Modells:\n",
      "             precision    recall  f1-score   support\n",
      "\n",
      "     cducsu       1.00      1.00      1.00         2\n",
      "        spd       1.00      1.00      1.00         3\n",
      "\n",
      "avg / total       1.00      1.00      1.00         5\n",
      "\n"
     ]
    }
   ],
   "source": [
    "# Wir ziehen 5 zufaellige Beispiele\n",
    "samples = df[df.text.apply(len) < 2000].sample(5)\n",
    "vorhersage_mensch = []\n",
    "vorhersage_maschine = clf.predict(samples.text)\n",
    "tatsaechliche_partei = samples.partei.tolist()\n",
    "\n",
    "for idx, text in enumerate(samples.text):\n",
    "    print(\"================================\")\n",
    "    print(text)\n",
    "    print('------------------------------------')\n",
    "    print(\"Von welcher Partei ist dieser Text? Wähle aus {}\".format(clf.classes_))\n",
    "    vorhersage_mensch.append(input())\n",
    "    print(\"*****************************\")\n",
    "    print(\"Deine Vorhersage: {}\".format(vorhersage_mensch[-1]))\n",
    "    print(\"ML Vorhersage: {}\".format(vorhersage_maschine[idx]))\n",
    "    print(\"Tatsächliche Partei: {}\".format(tatsaechliche_partei[idx]))\n",
    "    print(\"================================\")\n",
    "    \n",
    "print(\"Deine Vorhersage Metriken:\")\n",
    "print(classification_report(vorhersage_mensch, tatsaechliche_partei))\n",
    "\n",
    "print(\"Die Vorhersage Metriken des ML Modells:\")\n",
    "print(classification_report(vorhersage_maschine, tatsaechliche_partei))"
   ]
  },
  {
   "cell_type": "markdown",
   "metadata": {},
   "source": [
    "## Download eines Zeitungsartikels"
   ]
  },
  {
   "cell_type": "code",
   "execution_count": 13,
   "metadata": {
    "collapsed": true
   },
   "outputs": [],
   "source": [
    "import urllib.request\n",
    "from readability.readability import Document\n",
    "\n",
    "url = \"http://www.spiegel.de/politik/ausland/muss-deutschland-jetzt-milliarden-an-polen-zahlen-a-1167144.html\"\n",
    "html = urllib.request.urlopen(url).read()\n",
    "readable_article = Document(html).summary()\n",
    "readable_title = Document(html).short_title()\n"
   ]
  },
  {
   "cell_type": "markdown",
   "metadata": {},
   "source": [
    "## Klassifizierung des Zeitungsartikels"
   ]
  },
  {
   "cell_type": "code",
   "execution_count": 14,
   "metadata": {
    "scrolled": true
   },
   "outputs": [
    {
     "name": "stdout",
     "output_type": "stream",
     "text": [
      "Zeitungsartikel: Muss Deutschland jetzt Milliarden an Polen zahlen?\n"
     ]
    },
    {
     "data": {
      "text/plain": [
       "<matplotlib.axes._subplots.AxesSubplot at 0x112ac3a58>"
      ]
     },
     "execution_count": 14,
     "metadata": {},
     "output_type": "execute_result"
    },
    {
     "data": {
      "image/png": "[encoded data removed]",
      "text/plain": [
       "<matplotlib.figure.Figure at 0x12fe2eef0>"
      ]
     },
     "metadata": {},
     "output_type": "display_data"
    }
   ],
   "source": [
    "prediction = clf.predict_proba([readable_article])\n",
    "\n",
    "print(\"Zeitungsartikel: {}\".format(readable_title))\n",
    "\n",
    "import seaborn as sns\n",
    "%matplotlib inline\n",
    "sns.barplot(clf.best_estimator_.steps[1][1].classes_, prediction.flatten(), palette=[partei_farben[p] for p in clf.classes_])"
   ]
  },
  {
   "cell_type": "code",
   "execution_count": 15,
   "metadata": {},
   "outputs": [
    {
     "name": "stdout",
     "output_type": "stream",
     "text": [
      "*********************\n",
      "Partei cducsu benutzt haeufig:\n",
      "christlich, wettbewerbsfähigkeit, liberale koalition, christlich liberale, kernenergie, christlich liberalen, asylbewerber, christen, liberalen koalition, flüchtlingskrise, ukraine, wolfgang schäuble, richtigen, dankeschön, währung, stabilität, eigenverantwortung, ausgeglichenen, vernetzten, russlands\n",
      "*********************\n",
      "Partei fdp benutzt haeufig:\n",
      "fdp bundestagsfraktion, fdp fraktion, liberaler, sicht fdp, freien demokraten, sharma, bafög modernisierung, liberaler sicht, waffensteuer, zuwanderungssteuerung, unimog, verbrechen deutschen, hefen, lehnt fdp, schuldenbergen kinder, frühen bundesrepublik, verwaltungsmodernisierung, banken restrukturierungsgesetz, justice gesetz, beschaffungsmaßnahmen\n",
      "*********************\n",
      "Partei gruene benutzt haeufig:\n",
      "garantierente, klimakrise, tisa, staaten regelung, leiharbeitskräfte, finanzaufsichtsbehörde, wehrbericht, dualplus, adoptionsmöglichkeiten, bankschulden, immigranten, mindestniveau, schuldenbremse banken, grüner sicht, friedensmission vereinten, thtr, staatssekretärin schwarzelühr, unverheiratete, einwanderinnen, ewi\n",
      "*********************\n",
      "Partei linke benutzt haeufig:\n",
      "südens, profite, erwerbslosen, waffenexporte, sozialabbau, erwerbslose, ländern südens, jüdinnen, kurdinnen, palästinenserinnen, jüdinnen juden, vermögensmillionäre, kurdinnen kurden, palästinenserinnen palästinenser, bürgerinnen bürgerversicherung, deutsche bank, globalen süden, sozialökologischen, hartz, rechtsextremismus rassismus\n",
      "*********************\n",
      "Partei spd benutzt haeufig:\n",
      "bundestagsfraktion, frank steinmeier, sozialdemokratische, frank, heiko maas, heiko, barbara hendricks, andrea nahles, zeit leiharbeit, büssemaker, dat, barbara, atomenergie, sigmar gabriel, andrea, abrüstung rüstungskontrolle, familienarbeitszeit, rüstungskontrolle, sigmar, zivilbeschäftigten\n"
     ]
    }
   ],
   "source": [
    "bow_vectors = clf.best_estimator_.steps[0][1].transform(df.text)\n",
    "idx2words = {k:v for v,k in clf.best_estimator_.steps[0][1].vocabulary_.items()}\n",
    "for party in np.unique(df['partei']):\n",
    "    this_party = (df['partei'] == party).values * 2 - 1\n",
    "    word_covariance = bow_vectors.T.dot(this_party).argsort()\n",
    "    top_words = [idx2words[widx] for widx in word_covariance[-20:][::-1]]\n",
    "    print(\"*********************\\nPartei {} benutzt haeufig:\\n{}\".format(party, \", \".join(top_words)))"
   ]
  },
  {
   "cell_type": "code",
   "execution_count": null,
   "metadata": {},
   "outputs": [],
   "source": [
    "import matplotlib\n",
    "matplotlib.style.use('ggplot')\n",
    "import pylab as plt\n",
    "\n",
    "# Wir betrachten nur die letzte Legislaturperiode\n",
    "wahlperiode = 18\n",
    "savepath = os.path.join(DATADIR,'sprecher-timeseries-{}'.format(wahlperiode))\n",
    "if not os.path.exists(savepath): \n",
    "    os.mkdir(savepath)\n",
    "\n",
    "# for sprecher in alle_sprecher:\n",
    "for sprecher in ['Sabine Zimmermann', 'Roderich Kiesewetter', 'Matthias Gastel']:\n",
    "\n",
    "    traindf = df[(df['sprecher']!=sprecher) & (df['wahlperiode']==wahlperiode)]\n",
    "    testdf = df[(df['sprecher']==sprecher) & (df['wahlperiode']==wahlperiode)].sort_values(['sitzung'])\n",
    "\n",
    "    if (len(traindf) > 10) and (len(testdf) > 10):\n",
    "        partei = testdf.partei.values[0]\n",
    "        tmpclf = clf.best_estimator_.fit(traindf.text, traindf.partei)\n",
    "        predictions = tmpclf.predict_proba(testdf.text)\n",
    "        plt.figure()\n",
    "        for partei_idx in range(predictions.shape[-1]):\n",
    "            color = partei_farben[tmpclf.classes_[partei_idx]]\n",
    "            plt.plot(testdf.sitzung, predictions[:, partei_idx],\"o\",color=color)\n",
    "            plt.title(\"{} ({})\".format(sprecher,partei))\n",
    "            plt.savefig(os.path.join(savepath, sprecher + \".pdf\"))\n",
    "            plt.xlabel('Parlaments Sitzung')\n",
    "            plt.ylabel('Wahrscheinlichkeit')\n",
    "            plt.legend(tmpclf.classes_, loc='lower left')\n"
   ]
  }
 ],
 "metadata": {
  "celltoolbar": "Raw Cell Format",
  "kernelspec": {
   "display_name": "Python 3",
   "language": "python",
   "name": "python3"
  },
  "language_info": {
   "codemirror_mode": {
    "name": "ipython",
    "version": 3
   },
   "file_extension": ".py",
   "mimetype": "text/x-python",
   "name": "python",
   "nbconvert_exporter": "python",
   "pygments_lexer": "ipython3",
   "version": "3.6.2"
  }
 },
 "nbformat": 4,
 "nbformat_minor": 1
}
