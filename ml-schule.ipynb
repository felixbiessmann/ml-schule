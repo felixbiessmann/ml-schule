{
 "cells": [
  {
   "cell_type": "markdown",
   "metadata": {},
   "source": [
    "## Laden der Text Daten "
   ]
  },
  {
   "cell_type": "code",
   "execution_count": 3,
   "metadata": {},
   "outputs": [
    {
     "name": "stdout",
     "output_type": "stream",
     "text": [
      "57636 Reden wurden geladen\n",
      "\n",
      "****************************\n",
      "Beispiele von Partei cducsu:\n",
      "****************************\n",
      "\n",
      "\n",
      "*******************************\n",
      "Sprecher Maria Michalk:\n",
      "\n",
      "Im Gesetzentwurf der Fraktion Die Linke wird gefordert, die aktuell geltenden Fristen für die Feststellung der Schwerbehinderteneigenschaft von Menschen mit einer oder mehrfachen Behinderungen, die erwerbstätig sind, auf alle Feststellungen der Schwerbehinderteneigenschaft auszudehnen.\n",
      "\n",
      "In der Tat erreichen uns immer wieder Beschwerden über zu lange Bearbeitungszeiten. Auch ich kenne -Beispiele, wo die Entscheidung erst nach 14 oder 15 Wochen den Antragsteller erreicht hat. Das ist für die -Betroffenen kaum akzeptabel; denn der Schwerbehindertenausweis ist als Nachweis notwendig, um Nachteilsausgleichsregelungen in Anspruch nehmen zu können. So ist zum Beispiel auch die Inanspruchnahme des besonderen Kündigungsschutzes von der Vorlage der Schwerbehindertenbestätigung kausal abhängig.\n",
      "\n",
      "Die Initiatoren des Gesetzentwurfes wollen nunmehr eine Frist von fünf Wochen für die Ausstellung des -Dokuments festschreiben. Dem Bund wird dabei aufgetragen, die entsprechenden Ressourcen zu schaffen, und zwar mit der Begründung, die Gesamtverantwortung für die Umsetzung der UN-Behindertenrechtskonvention zu haben.\n",
      "\n",
      "Aktuell sind die Fristen für die Entscheidung über Anträge erwerbstätiger Personen in § 14 SGB IX beschrieben. Danach ist die Behinderung innerhalb von drei Wochen nach Antragseingang festzustellen, wenn die Situation klar ist und ein Gutachten für die Feststellung nicht erforderlich ist.\n",
      "\n",
      "Ist aber ein Gutachten eines Sachverständigen notwendig, hat das Versorgungsamt unverzüglich einen geeigneten Sachverständigen zu beauftragen. Dieser hat innerhalb von zwei Wochen nach der Beauftragung durch das Versorgungsamt das Gutachten zu erstellen. Das Versorgungsamt entscheidet dann innerhalb von zwei Wochen nach Vorlage des Gutachtens. Diese geltende Regelung ist ein Ergebnis des Vermittlungsverfahrens zum Gesetz zur Förderung der Ausbildung und -Beschäftigung schwerbehinderter Menschen aus dem Jahr 2004. Die Bundesregierung hat damals eigentlich die Fristen so vorgeschlagen, wie es jetzt die Fraktion Die Linke fordert. Aber der Bundesrat hat sich gegen diese Frist ausgesprochen, und das vor allem aus haushaltswirtschaftlichen Erwägungen. Das Argument war damals, dass die tatsächlichen Fristen weit über den geforderten liegen und eine Veränderung nur mit erheblichen Personalaufstockungen möglich sei. Wie gesagt, im Vermittlungsverfahren wurde dann also eine Einigung auf Fristen allein für erwerbstätige schwerbehinderte Menschen erzielt. So ist sichergestellt, dass schwerbehinderte Menschen in einem Arbeitsverhältnis alle erforderlichen Leistungen zur Teilhabe am Arbeitsleben erhalten können. Das ist nicht nur eine Klarstellung der Rechtsposition des Arbeitnehmers, sondern ist auch mit sicheren Vorgaben für den Arbeitgeber verbunden, der damit seine Beschäftigungspflicht kennt, klare Erkenntnisse zur Ausgleichsabgabe bzw. bei der Anrechnung auf die Zahl der Pflichtarbeitsplätze hat und den Zusatz--urlaub sowie den besonderen Kündigungsschutz kennt.\n",
      "\n",
      "Aber immer wieder war diese Regelung Gegenstand von Anfragen und politischen Diskussionen. In diesem Zusammenhang fanden auch Abfragen bei den Ländern über die Bearbeitungsdauer statt. In der Summe werden rund 10 Wochen Bearbeitungszeit angegeben. Lediglich in Berlin mit 22 Wochen, in Sachsen mit 24 Wochen und in Thüringen mit 26 Wochen sind die Fristen unakzeptabel länger.\n",
      "\n",
      "Hier liegt also nicht die Notwendigkeit einer Gesetzesänderung vor, sondern hier sind Vollzugsprobleme in den Ländern zu hinterfragen. Wir können dem vorliegenden Gesetzesvorschlag aus diesen ordnungspolitischen Gründen nicht zustimmen.\n",
      "\n",
      "Unabhängig davon ist es der CDU/CSU-Bundestagsfraktion ein großes Anliegen, in Zeiten guter wirtschaftlicher Entwicklung insbesondere auch Menschen mit -einer Behinderung die Chancen auf dem Arbeitsmarkt zu ihren Gunsten angedeihen zu lassen. Dafür sind vielfältige Förderinstrumente vorgesehen, die vor Ort entsprechend der individuellen Situation der betroffenen Menschen zum Einsatz kommen sollten. Dafür brauchen wir das Verständnis und die Einstellungsbereitschaft der Unternehmen. Dafür brauchen wir aber auch eine schnell und unbürokratisch arbeitende Verwaltung in den jeweiligen Institutionen. Und deshalb werden wir vor Ort weiterhin diese Entwicklung kritisch und kon-struktiv begleiten.\n",
      "\n",
      "*******************************\n",
      "Sprecher Norbert Brackmann:\n",
      "\n",
      "- Mitnahmeeffekte. - Sie haben genau diese Politik zu Anfang dieser Legislaturperiode - deswegen sage ich das ausdrücklich - bekämpft.\n",
      "\n",
      "Wir sind jetzt in einer Situation, die in Europa nahezu einzigartig ist. 92 Prozent der Jugendlichen bei uns sind in Beschäftigung, in Griechenland ist es nur die Hälfte, nämlich 46 Prozent. Im europäischen Durchschnitt sind es 77 Prozent. Wir sind Spitzenreiter, was die Beschäftigung unserer Jugend angeht. Wir haben eine extrem hohe Beschäftigung mit rund 42 Millionen Beschäftigten. Wir haben 2011  610 000 zusätzliche Vollzeitstellen geschaffen und damit insgesamt über 23 Millionen gehabt. Damit hatten wir fast so viele Vollzeitbeschäftigte wie 1998. Weil der Vergleich mit 2005 vom Kollegen Kahrs bemüht worden ist, weise ich darauf hin, dass wir 1,6 Millionen mehr Vollzeitbeschäftigte als 2005 haben. Das merken die Menschen. Menschen in Arbeit bringen, von der sie leben können, ist die beste Sozialpolitik, die man überhaupt machen kann.\n",
      "\n",
      "****************************\n",
      "Beispiele von Partei fdp:\n",
      "****************************\n",
      "\n",
      "\n",
      "*******************************\n",
      "Sprecher Frank Schäffler:\n",
      "\n",
      "sondern das ist genau richtig.\n",
      "\n",
      "Aber was falsch ist, ist das, was Ihr Parteivorsitzender vorgeschlagen hat, nämlich dass man aus individuellem freiwilligen Sparen eine Pflicht zum Sparen macht. Das ist genau der falsche Ansatz. Wir wollen die Menschen nicht zu ihrem Glück zwingen, ihnen nicht vorschreiben, ob sie heute sparen oder morgen sparen, ob sie heute konsumieren oder morgen konsumieren, sondern wir wollen, dass die Menschen das selbst entscheiden, auch entscheiden, woraufhin sie sparen. Das ist entscheidend.\n",
      "\n",
      "*******************************\n",
      "Sprecher Dr. Claudia Winterstein:\n",
      "\n",
      "Ich möchte mich bei meinen Kollegen Wolfgang Börnsen, Angelika Krüger-Leißner und Claudia Roth für die gute Zusammenarbeit an dieser Stelle bedanken.\n",
      "\n",
      "Der FDP war bei der Novelle des Filmförderungsgesetzes Folgendes besonders wichtig: Wir wollen die Barrierefreiheit für hör- und sehbehinderte Menschen verbessern. Deshalb muss jetzt von jedem geförderten Film auch eine barrierefreie Fassung hergestellt werden.\n",
      "\n",
      "Wir wollen den Dokumentarfilm und den originären Kinderfilm stärken. Deshalb erleichtern wir Kinderfilmen, die auf Originalstoffen beruhen, den Zugang zu Förderung. Weil die Produktion von Kinder- und Dokumentarfilmen ein besonderes wirtschaftliches Risiko darstellt, erweitern wir den Zeitraum für die Sammlung von Referenzpunkten von zwei auf drei Jahre.\n",
      "\n",
      "****************************\n",
      "Beispiele von Partei gruene:\n",
      "****************************\n",
      "\n",
      "\n",
      "*******************************\n",
      "Sprecher Krista Sager:\n",
      "\n",
      "Aber was ich bedauerlich finde, ist, dass in Ihrem Antrag überhaupt keine Hinweise zu finden sind, wie Sie die kniffligen Fragen, die wir auch in einem Fachgespräch im Ausschuss behandelt haben, eigentlich beantwortet haben möchten. Wie schaffen wir es, dass eine Bewertung bundesweit Anerkennung findet? Oder wie schaffen wir es, dass es nicht nur einen Rechtsanspruch gibt, sondern auch Beratung, Information, Bewertung und Qualifizierungsanschlussangebote? Ohne all das werden wir nämlich weiter ganz viele Potenziale verlieren. Vielen ist nicht nur mit einem Rechtsanspruch auf ein Verfahren geholfen; vielmehr brauchen sie eben auch Qualifizierungsangebote.\n",
      "\n",
      "In einer Hinsicht bin ich gegenüber dem, was Sie wollen, sehr skeptisch: Auch Sie halten nach wie vor an dem Gedanken fest, dass man im Wesentlichen Dokumente formal abgleicht, dass man sich im Wesentlichen auf den Vergleich von Ausbildungswegen und ihrer Gleichartigkeit konzentriert. Darum kann es aber nicht gehen, sondern es geht um die Betrachtung des individuellen Kompetenzprofils.\n",
      "\n",
      "*******************************\n",
      "Sprecher Dr. Valerie Wilms:\n",
      "\n",
      "Lassen Sie mich in den mir zur Verfügung stehenden vier Minuten aus der Sicht der Grünen darstellen, wo wir noch einige Schwächen sehen.\n",
      "\n",
      "Herr Kollege Jung hat schon geschildert, wie der Parlamentarische Beirat für nachhaltige Entwicklung funktioniert. Ich bin sehr froh, in diesem Gremium mitzuwirken. Wir arbeiten dort interfraktionell und konsensorientiert, um wirklich etwas zu bewegen; denn das Thema Nachhaltigkeit betrifft uns alle und orientiert sich nicht an kurzzeitigem Legislaturperiodendenken, sondern muss auf die Zukunft ausgerichtet sein. Insofern freue ich mich, dass wir, nachdem wir den Parlamentarischen Beirat sehr schnell eingesetzt haben - ich bedanke mich noch einmal für die Unterstützung dabei -, heute auch einmal eine Debatte zu diesem Thema führen können.\n",
      "\n",
      "Lassen Sie mich zum Thema kommen. Was bedeutet Nachhaltigkeit? Nachhaltigkeit heißt: Wir müssen im Bundestag unsere Entscheidungen so treffen, dass wir den künftigen Generationen nicht mehr Lasten aufbürden als den heute lebenden. Wenn ich mir die Gesetzentwürfe anschaue, die wir in dieser bislang erst kurzen Legislaturperiode schon vorgelegt bekommen haben, insbesondere die bedeutenden und umfangreichen, dann muss ich leider feststellen, dass sie durch die Bank weg alles andere als nachhaltig sind.\n",
      "\n",
      "****************************\n",
      "Beispiele von Partei linke:\n",
      "****************************\n",
      "\n",
      "\n",
      "*******************************\n",
      "Sprecher Ingrid Remmers:\n",
      "\n",
      "Um eine Marginalie handelt es sich deshalb, weil wir beim Mietnomadentum von lediglich 0,02 Prozent aller insgesamt 38 Millionen Mietwohnungen sprechen. Dieses marginale Argument nutzen Sie, um das Mietrecht zu verschlechtern. Schon diese Vermischung zeigt die Konfusion oder, was noch viel schlimmer wäre, die Klientelsteuerung der Koalition auch in der Wohnungsfrage.\n",
      "\n",
      "Liebe Kolleginnen und Kollegen, es ist deshalb dringend notwendig, gesetzliche Rahmenbedingungen zu schaffen, die bezahlbare Mieten für alle sichern, und gleichzeitig auf die Begrenzung von Energieverbrauch und Energiekosten hinzuwirken. Genau dieses Ziel verfolgt der Gesetzesantrag, den das Land Berlin Anfang November 2010 in den Bundesrat eingebracht hat. Zugegeben, der Gesetzesantrag ist nur ein Kompromiss zwischen der Berliner SPD und der Berliner Linken. Aber auch wir als Fraktion Die Linke im Deutschen Bundestag unterstützen das Anliegen dieser Initiative.\n",
      "\n",
      "*******************************\n",
      "Sprecher Dr. Martina Bunge:\n",
      "\n",
      "Faktisch verstößt Deutschland mit der Praxisgebühr gegen Empfehlungen der Weltgesundheitsorganisation. In ihrem Bericht vom letzten Jahr bekräftigte die WHO - ich darf zitieren -:\n",
      "\n",
      "Direkte Zahlungen haben ernste Auswirkungen auf die Gesundheit. Menschen im Moment der Inanspruchnahme bezahlen zu lassen, schreckt sie davor ab, Leistungen in Anspruch zu nehmen.\n",
      "\n",
      "Eine Ratsuchende oder einen Hilfesuchenden eine Eintrittsgebühr zum Arzt zahlen zu lassen, macht Gesundheit zur Ware. Das widerspricht dem Willen der Mehrheit der Bevölkerung, und deshalb ist die Zustimmung in der Bevölkerung dafür so groß, dass die Praxisgebühr und andere Zuzahlungen, durch die die Kranken jährlich mit insgesamt 5 Milliarden Euro belastet werden, endlich weg müssen.\n",
      "\n",
      "****************************\n",
      "Beispiele von Partei spd:\n",
      "****************************\n",
      "\n",
      "\n",
      "*******************************\n",
      "Sprecher Dr. Sascha Raabe:\n",
      "\n",
      "Frau Staatssekretärin, was den ersten Teil Ihrer Antwort angeht, habe ich Sie so verstanden, dass das Volumen in den letzten zwei Jahren im Prinzip relativ konstant geblieben ist. Wie verträgt sich das mit der Aussage des Ministers für wirtschaftliche Zusammenarbeit und Entwicklung, dass die Privatwirtschaft unter seiner Ägide besonders profitiert und dass sie zum Aufbau in den Entwicklungsländern beiträgt? Durch seine sämtlichen Konzepte zieht sich das Motto: Wirtschaft, Wirtschaft, Wirtschaft. Steht das nicht im Widerspruch dazu, dass in diesem Bereich anscheinend gar nicht so viel geschehen ist?\n",
      "\n",
      "*******************************\n",
      "Sprecher Ulla Schmidt:\n",
      "\n",
      "Eigentlich möchte ich jetzt weiterreden. Wir hatten heute schon so viele Zwischenfragen.\n",
      "\n",
      "Also, liebe Kolleginnen und Kollegen, schauen Sie sich einmal an, was die Bundesregierung selbst zur Terrorgefahr im Mittelmeerraum sagt: Sie sieht selber doch schon seit langem keine neue Terrorgefahr oder terroristischen Aktivitäten mehr.\n",
      "\n",
      "Ich muss auch einmal sagen - Herr Kollege Spatz, Sie haben das auch wieder aufgebracht, und der Herr Staatssekretär Kossendey hat das bei der Einbringung gesagt -: Es kann doch nicht sein, dass man jetzt als Argument für das robuste Mandat einfügt, dass sich die Lage wegen der Umbrüche, der Freiheitsbewegungen und der vielen Aktivitäten in den Ländern Nordafrikas verändert hat. Hier - das wissen wir doch alle - haben wir keine militärischen Aufgaben zu erfüllen und geht es nicht um Terrorismusbekämpfung, sondern hier - dafür haben wir auch die Programme - haben wir herausragende gesellschaftspolitische und zivile Aufgaben zu erfüllen. Es geht nicht um Terrorismusbekämpfung.\n"
     ]
    }
   ],
   "source": [
    "import os\n",
    "import pandas as pd\n",
    "import numpy as np\n",
    "import urllib.request\n",
    "\n",
    "DATADIR = \"data\"\n",
    "\n",
    "if not os.path.exists(DATADIR): \n",
    "    os.mkdir(DATADIR)\n",
    "\n",
    "file_name = os.path.join(DATADIR, \"17-Bundestag.csv\")\n",
    "if not os.path.exists(file_name):\n",
    "    url_data = 'https://www.dropbox.com/s/i4lp1fidpbo3k1w/17-Bundestag.csv?dl=1'\n",
    "    urllib.request.urlretrieve(url_data, file_name)\n",
    "\n",
    "df = pd.read_csv(file_name)\n",
    "\n",
    "print(\"{} Reden wurden geladen\".format(len(df)))\n",
    "\n",
    "# Zeige einige Reden von Parteien\n",
    "for party in np.unique(df['partei']):\n",
    "    print(\"\\n****************************\\nBeispiele von Partei {}:\\n****************************\\n\".format(party))\n",
    "    for _, speech in df[df['partei']==party].sample(2).iterrows():\n",
    "        print(\"\\n*******************************\\nSprecher {}:\\n\\n{}\".format(speech['sprecher'], speech['text']))\n"
   ]
  },
  {
   "cell_type": "code",
   "execution_count": 4,
   "metadata": {
    "collapsed": true
   },
   "outputs": [],
   "source": [
    "from sklearn.metrics import confusion_matrix, classification_report\n",
    "from sklearn.feature_extraction.text import CountVectorizer, TfidfVectorizer\n",
    "from sklearn.model_selection import train_test_split\n",
    "from sklearn.linear_model import SGDClassifier\n",
    "from sklearn.pipeline import Pipeline\n",
    "\n",
    "def train(texts, party):\n",
    "    '''\n",
    "    Eine Funktion, die gegeben Texte und Labels einen Klassifier trainiert\n",
    "    '''\n",
    "\n",
    "    # Eine Machine Learning Pipeline um Bag-of-Words Vectors zu erstellen aus Texten\n",
    "    text_clf = Pipeline([('vect', CountVectorizer(ngram_range=(1,1), max_df=0.5)),\n",
    "                        ('clf', SGDClassifier())])\n",
    "\n",
    "    text_clf.fit(texts,party)\n",
    "\n",
    "    return text_clf\n"
   ]
  },
  {
   "cell_type": "markdown",
   "metadata": {},
   "source": [
    "## Trainieren eines linearen Klassifiers"
   ]
  },
  {
   "cell_type": "code",
   "execution_count": 7,
   "metadata": {
    "scrolled": true
   },
   "outputs": [
    {
     "name": "stderr",
     "output_type": "stream",
     "text": [
      "/Users/biessman/Development/pol/ml-schule/venv/lib/python3.6/site-packages/sklearn/linear_model/stochastic_gradient.py:84: FutureWarning: max_iter and tol parameters have been added in <class 'sklearn.linear_model.stochastic_gradient.SGDClassifier'> in 0.19. If both are left unset, they default to max_iter=5 and tol=None. If tol is not None, max_iter defaults to max_iter=1000. From 0.21, default max_iter will be 1000, and default tol will be 1e-3.\n",
      "  \"and default tol will be 1e-3.\" % type(self), FutureWarning)\n"
     ]
    }
   ],
   "source": [
    "# Erst nehmen wir einige Daten beiseite, um das Model darauf spaeter testen zu koennen\n",
    "train_data, test_data, train_labels, test_labels = train_test_split(df['text'], df['partei'], test_size=0.2)\n",
    "\n",
    "# Jetzt trainieren wir den Klassifier\n",
    "clf = train(df['text'], df['partei'])"
   ]
  },
  {
   "cell_type": "markdown",
   "metadata": {},
   "source": [
    "## Performance auf Test Daten"
   ]
  },
  {
   "cell_type": "code",
   "execution_count": 8,
   "metadata": {},
   "outputs": [
    {
     "name": "stdout",
     "output_type": "stream",
     "text": [
      "             precision    recall  f1-score   support\n",
      "\n",
      "     cducsu       0.84      0.79      0.81      3594\n",
      "        fdp       0.66      0.72      0.69      1514\n",
      "     gruene       0.69      0.79      0.74      1576\n",
      "      linke       0.78      0.84      0.81      1620\n",
      "        spd       0.81      0.74      0.77      3224\n",
      "\n",
      "avg / total       0.78      0.77      0.77     11528\n",
      "\n"
     ]
    }
   ],
   "source": [
    "test_predictions = clf.predict(test_data)\n",
    "report = classification_report(test_predictions, test_labels)\n",
    "print(report)"
   ]
  },
  {
   "cell_type": "markdown",
   "metadata": {},
   "source": [
    "## Confusion Matrix"
   ]
  },
  {
   "cell_type": "code",
   "execution_count": 9,
   "metadata": {},
   "outputs": [
    {
     "name": "stdout",
     "output_type": "stream",
     "text": [
      "[[2843  192   67   55  246]\n",
      " [ 305 1089   56   52  139]\n",
      " [ 125   82 1248   68  279]\n",
      " [  81   44   77 1359  190]\n",
      " [ 240  107  128   86 2370]]\n"
     ]
    }
   ],
   "source": [
    "print(confusion_matrix(test_labels, test_predictions))"
   ]
  },
  {
   "cell_type": "markdown",
   "metadata": {},
   "source": [
    "## Download eines Zeitungsartikels"
   ]
  },
  {
   "cell_type": "code",
   "execution_count": 10,
   "metadata": {
    "collapsed": true
   },
   "outputs": [],
   "source": [
    "import urllib.request\n",
    "from readability.readability import Document\n",
    "\n",
    "url = \"http://www.spiegel.de/politik/ausland/muss-deutschland-jetzt-milliarden-an-polen-zahlen-a-1167144.html\"\n",
    "html = urllib.request.urlopen(url).read()\n",
    "readable_article = Document(html).summary()\n",
    "readable_title = Document(html).short_title()\n"
   ]
  },
  {
   "cell_type": "markdown",
   "metadata": {},
   "source": [
    "## Klassifizierung des Zeitungsartikels"
   ]
  },
  {
   "cell_type": "code",
   "execution_count": 11,
   "metadata": {},
   "outputs": [
    {
     "name": "stdout",
     "output_type": "stream",
     "text": [
      "Zeitungsartikel: Muss Deutschland jetzt Milliarden an Polen zahlen?\n",
      "Partei Klassifikation: ['spd']\n"
     ]
    }
   ],
   "source": [
    "prediction = clf.predict([readable_article])\n",
    "\n",
    "print(\"Zeitungsartikel: {}\".format(readable_title))\n",
    "print(\"Partei Klassifikation: {}\".format(prediction))"
   ]
  },
  {
   "cell_type": "code",
   "execution_count": 83,
   "metadata": {},
   "outputs": [
    {
     "name": "stdout",
     "output_type": "stream",
     "text": [
      "*********************\n",
      "Partei cducsu benutzt haeufig:\n",
      "christlich, verehrten, kernenergie, dankbar, christen, wettbewerbsfähigkeit, währung, mitbürger, unionsgeführte, wiedervereinigung\n",
      "*********************\n",
      "Partei fdp benutzt haeufig:\n",
      "liberaler, zuwanderer, zuwanderungssteuerung, zuwanderungspolitik, pflanzenzüchtung, zeitarbeiter, bereicherten, willkommens, beschäftigungsformen, geschätzter\n",
      "*********************\n",
      "Partei gruene benutzt haeufig:\n",
      "garantierente, leiharbeitskräfte, baustoffe, bäuerliche, einwanderinnen, agrarindustrie, immigranten, einwanderer, menschenrechtskriterien, bündnisgrüne\n",
      "*********************\n",
      "Partei linke benutzt haeufig:\n",
      "linke, erwerbslosen, profite, konzerne, südens, krieg, erwerbslose, waffenexporte, vermögensmillionäre, neoliberalen\n",
      "*********************\n",
      "Partei spd benutzt haeufig:\n",
      "sozialdemokraten, sozialdemokratinnen, bundestagsfraktion, olaf, dat, michelbach, seehofer, entwicklungsminister, ganztagsschulen, steuersenkungen\n"
     ]
    }
   ],
   "source": [
    "bow_vectors = clf.steps[0][1].transform(df.text)\n",
    "idx2words = {k:v for v,k in clf.steps[0][1].vocabulary_.items()}\n",
    "for party in np.unique(df['partei']):\n",
    "    this_party = (df['partei'] == party).values * 2 - 1\n",
    "    word_covariance = bow_vectors.T.dot(this_party).argsort()\n",
    "    top_words = [idx2words[widx] for widx in word_covariance[-20:][::-1]]\n",
    "    print(\"*********************\\nPartei {} benutzt haeufig:\\n{}\".format(party, \", \".join(top_words)))"
   ]
  }
 ],
 "metadata": {
  "celltoolbar": "Raw Cell Format",
  "kernelspec": {
   "display_name": "Python 3",
   "language": "python",
   "name": "python3"
  },
  "language_info": {
   "codemirror_mode": {
    "name": "ipython",
    "version": 3
   },
   "file_extension": ".py",
   "mimetype": "text/x-python",
   "name": "python",
   "nbconvert_exporter": "python",
   "pygments_lexer": "ipython3",
   "version": "3.6.2"
  }
 },
 "nbformat": 4,
 "nbformat_minor": 1
}
