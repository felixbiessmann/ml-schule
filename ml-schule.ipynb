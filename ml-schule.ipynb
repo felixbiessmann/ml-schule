{
 "cells": [
  {
   "cell_type": "markdown",
   "metadata": {},
   "source": [
    "## Laden der Text Daten "
   ]
  },
  {
   "cell_type": "code",
   "execution_count": 28,
   "metadata": {},
   "outputs": [
    {
     "name": "stdout",
     "output_type": "stream",
     "text": [
      "43679 Reden wurden geladen\n",
      "\n",
      "****************************\n",
      "Beispiele von Partei cducsu:\n",
      "****************************\n",
      "\n",
      "\n",
      "*******************************\n",
      "Sprecher Nadine Schön:\n",
      "\n",
      "Liebe Kolleginnen und Kollegen, mit den Regelungen, die wir heute verabschieden, wollen wir die Kommunen und die Anbieter bei ihren Bemühungen unterstützen. Wir schaffen mit dem heutigen Gesetz mehr Transparenz, mehr Verbindlichkeit und mehr Sicherheit.\n",
      "\n",
      "Die wichtigsten Punkte haben die Kollegen bereits genannt. Ich will nur kurz auf die Änderungsanträge der Koalition eingehen. Zum einen wollen wir alternative Infrastrukturen für den Breitbandausbau öffnen. Alternative Infrastrukturen sind Wasserkanäle, Energieleitungen und Kabelkanäle. Wenn es keine Einigung mit dem Eigentümer gibt, dann findet ein Schlichtungsverfahren statt. Ich denke, das ist eine pragmatische Lösung.\n",
      "\n",
      "Einen Schritt weiter gehen wir dort, wo wir selbst Verantwortung tragen, nämlich beim Bund. Bei Bundesstraßen, Eisenbahn und Bundeswasserstraßen besteht künftig ein Anspruch auf Mitbenutzung.\n",
      "\n",
      "Ich fordere an dieser Stelle die Länder und Kommunen auf: Lassen Sie auch für Ihren Verantwortungsbereich einen solchen Anspruch auf Mitbenutzung zu. Wenn nämlich alle Straßen einem Mitbenutzungsanspruch unterliegen, dann ist ein sinnvoller und vor allem kostensparender Ausbau möglich.\n",
      "\n",
      "*******************************\n",
      "Sprecher Dr. Hans-Peter Uhl:\n",
      "\n",
      "Frau Präsidentin! Meine verehrten Kolleginnen und Kollegen! Am kommenden Montag kommen die Teilnehmer zur neunten Überprüfungskonferenz zum Atomwaffensperrvertrag in New York zusammen. Die Bilanz ist aus heutiger Sicht durchwachsen. Die letzte Überprüfungskonferenz im Jahr 2010 sendete noch positive Signale aus. Erstmals seit 2000 konnte man sich wieder auf ein Abschlussdokument verständigen. Zudem wurde ein Aktionsplan verabschiedet. Die Vorbereitungen für diese Konferenz im Jahr 2015 zeigen jedoch: Trotz der positiven Signale aus dem Jahr 2010 ist es nicht zu einer stärkeren Annäherung der Teilnehmer gekommen. Bei vielen Themen liegen die Positionen diametral auseinander.\n",
      "\n",
      "Die aktuelle weltpolitische Lage belastet die Konferenz in der Tat zusätzlich. Die Annexion der Krim durch Russland bedeutet einen schweren Rückschlag für den Bereich der nuklearen Abrüstung. Russland verletzt mit der Annexion das Völkerrecht. Das wird allgemein so gesehen. Insbesondere aber der Bruch des Budapester Memorandums von 1994 ist ein schwerer Schlag. In diesem Memorandum wurden der Ukraine die Unabhängigkeit und die politische Integrität garantiert. Im Gegenzug verpflichtete sich Kiew, dem Atomwaffensperrvertrag beizutreten und die Rückführung aller Atomwaffen nach Russland durchzuführen. Russlands Vertragsbruch ist fatal. Sein Verhalten ist kontraproduktiv für die weltweiten Bemühungen, eine neue Dynamik nuklearer Aufrüstung zu vermeiden. Hinzu kommt, dass Moskau in jüngster Zeit seine Nuklearwaffen nicht abrüstet, sondern modernisiert und deren Einsatzschwelle absenkt. Drohungen mit nuklearen Mitteln gehören wieder zur russischen Rhetorik.\n",
      "\n",
      "Umso erfreulicher sind die positiven Signale aus Lausanne von Anfang April. Die Verhandlungen zu einem geordneten Atomprogramm mit dem Iran sind auf einem guten Weg. Die Verständigung über Eckpunkte ist auch dem unermüdlichen Einsatz des deutschen Außenministers Frank-Walter Steinmeier zu verdanken, und das sollte hier erwähnt werden. Alle Unterstützung muss nun einem erfolgreichen Verhandlungsabschluss mit dem Iran bis zum Sommer gelten.\n",
      "\n",
      "Der Atomwaffensperrvertrag ist als Stabilitätsanker heute wichtiger denn je. Deutschland ist bereit, mehr außenpolitische Verantwortung zu übernehmen. Dazu gehört auch, dass wir international weiterhin eine wichtige und aktive Rolle bei Abrüstung und Nichtverbreitung von Atomwaffen einnehmen. Deshalb muss die deutsche Delegation ihr ganzes diplomatisches Verhandlungsgeschick nutzen, um trotz schwieriger Bedingungen vernünftige Abrüstungsvereinbarungen zu erreichen.\n",
      "\n",
      "Ich bedanke mich.\n",
      "\n",
      "****************************\n",
      "Beispiele von Partei fdp:\n",
      "****************************\n",
      "\n",
      "\n",
      "*******************************\n",
      "Sprecher Oliver Luksic:\n",
      "\n",
      "All diese Punkte zeigen uns, dass der Modellversuch erfolgreich war und ist und ins Dauerrecht überführt werden sollte. Ich kann die Kolleginnen und Kollegen der Opposition nur auffordern, dem Antrag zuzustimmen. Ich glaube, die Fakten sprechen für sich. Wir machen mit diesem Antrag einen wichtigen Schritt zur Stärkung der Fahrausbildung. Natürlich gibt es darüber hinausgehend noch Verbesserungsmöglichkeiten. Es stimmt natürlich, dass mehr Jugendliche daran teilnehmen müssen. Man kann zumindest darüber nachdenken, wie in Österreich eine zweite Stufe einzuführen, wenn der Führerschein dadurch nicht teurer wird.\n",
      "\n",
      "Neben dem begleiteten Fahren widmen wir uns heute im Rahmen der Umsetzung der Dritten EG-Führerschein-Richtlinie auch Neuregelungen bei den Zweiradführerscheinen. Es ist gut und richtig, dass die Bundesregierung diese Richtlinie frühzeitig in deutsches Recht umsetzt.\n",
      "\n",
      "Die beiden Hauptziele dieser Neuregelung sind: Erhalt und Verbesserung der Sicherheit im Straßenverkehr sowie Entbürokratisierung und Erleichterung beim Erwerb von Zweiradführerscheinen. Für uns ist klar: Erfahrene Fahrer dürfen beim Aufstieg innerhalb der einzelnen Motorradklassen nicht mit Fahranfängern gleichgestellt werden.\n",
      "\n",
      "*******************************\n",
      "Sprecher Christoph Schnurr:\n",
      "\n",
      "Der Militärische Abschirmdienst, abgekürzt: MAD, ist einer von drei Geheimdiensten unserer Bundesrepublik. Das parlamentarische Kontrollgremium ist das Organ, das diesen Nachrichtendienst kontrolliert. Doch es ist meiner Meinung die Aufgabe des gesamten Parlamentes, sich Gedanken über die Sicherheitsarchitektur des Bundes zu machen. Das haben wir als FDP-Bundestagsfraktion schon seit längerem intensiv gemacht, und wir haben unser Positionspapier zur Überführung des MAD in das Bundesamt für Verfassungsschutz und die Bundeswehr im Mai dieses Jahres verabschiedet. Die Grünen fordern dies nun auch in ihrem sehr verkürzten Antrag, den wir heute hier behandeln.\n",
      "\n",
      "Jede Regierung tut nicht nur gut daran, sondern sie ist es auch den Bürgern schuldig, die Sicherheitsorgane kontinuierlich zu überprüfen. In diesem Fall wollen wir als Koalition die Prüfung bezüglich der Möglichkeit einer Aufgabenübertragung vom MAD auf BfV, BND und Bundeswehr. Diesen Auftrag hat die Bundesregierung vom Vertrauensgremium erhalten. Auf den Bericht warten die Kollegen des Vertrauensgremiums sehr gespannt.\n",
      "\n",
      "Auch der Verteidigungsausschuss befasst sich mit der Materie, weil der MAD zum Geschäftsbereich des BMVg gehört. Doch auch wir warten die Feinausplanung der Neuausrichtung der Bundeswehr zunächst ab.\n",
      "\n",
      "Wir wollen uns einen Gesamtüberblick verschaffen. Wir wollen uns eine ganz nüchterne Betrachtung leisten; denn die Umverteilung der Aufgaben und Fähigkeiten des MAD kann man nicht Hals über Kopf mit einem Antrag bis Ende des Jahres machen, wie es die Grünen fordern.\n",
      "\n",
      "Der Bericht unseres Prüfauftrages liegt gegenwärtig noch nicht vor – geschweige denn, dass über diesen in den Ausschüssen beraten wurde. Die FDP-Fraktion lehnt diesen Antrag daher ab.\n",
      "\n",
      "****************************\n",
      "Beispiele von Partei gruene:\n",
      "****************************\n",
      "\n",
      "\n",
      "*******************************\n",
      "Sprecher Katrin Göring-Eckardt:\n",
      "\n",
      "Wenn wir in Europa über Sanktionen sprechen, dann können wir nicht einfach weiter wie bisher über Rüstungsexporte nach Russland reden.\n",
      "\n",
      "Die Situation in der Ukraine ist nicht nur politisch prekär und wirtschaftlich desolat. Deswegen ist es gut und richtig, dass es Finanzhilfen gibt. Deswegen ist es gut und richtig, dass es Zoll- und Visaerleichterungen geben soll. Es muss eine klare Unterstützung für das Volk der Ukraine geben. Es muss klar und deutlich sein, was \"europäische Perspektive\" eigentlich heißt. Diese europäische Perspektive ist nicht gegen jemanden gerichtet. Diese europäische Perspektive heißt vielmehr in allererster Linie, dass die Ukraine selbstständig, allein und eigenständig entscheiden können muss und nicht irgendjemand so tut, als könne man über die Ukraine und über die Köpfe der Ukrainerinnen und Ukrainer hinweg entscheiden. Das ist der entscheidende Punkt: Eigenständigkeit der Ukraine. Es geht um die Ukrainer, darum, was sie wollen und wohin sie wollen. Unser Angebot muss sein, sie darin zu unterstützen.\n",
      "\n",
      "*******************************\n",
      "Sprecher Dr. Konstantin von Notz:\n",
      "\n",
      "Auch hier bedarf es einer konsequenten Umsetzung. Vor diesem Hintergrund finden wir es schade, dass die Regierungskoalition bei diesem Punkt gleich abgewiegelt hat.\n",
      "\n",
      "Die Digitalisierung des Filmerbes ergibt sich auch aus der Digitalisierung der Abspieltechnik, die wir ja gemeinsam unterstützen. Auch das haben hier mehrere Kolleginnen und Kollegen angesprochen. Wichtig ist, dass die neue Technik für das Filmerbe, das bisher nur analog vorliegt, nicht zu einem Nadelöhr wird. Wir müssen die Zugänge verbreitern; wir dürfen sie nicht verengen.\n",
      "\n",
      "Die grüne Bundestagsfraktion hat vor gut einem Jahr nochmals eine umfassende Initiative eingefordert. Inzwischen liegen Anträge von allen Fraktionen vor. Geschehen ist aber viel zu wenig. Dass es eine Reihe von technischen und rechtlichen Problemen gibt, wissen wir. Wir als Gesetzgeber müssen aber helfen, diese zu überwinden. Deswegen wollen wir uns mit allen Betroffenen an einen Tisch setzen, mit Vertretern von Archiven und Filmerbe-Stiftungen, mit Produzenten, sonstigen Rechte-inhabern, Verwertungsgesellschaften, Wissenschaft und Bildung, und die offenen Fragen im Dialog klären; in den Niederlanden beispielsweise ist das sehr gut gelungen.\n",
      "\n",
      "****************************\n",
      "Beispiele von Partei linke:\n",
      "****************************\n",
      "\n",
      "\n",
      "*******************************\n",
      "Sprecher Klaus Ernst:\n",
      "\n",
      "Lieber Kollege Oellers, der Vorwurf, wir wollten die SPD vorführen, ist nun wirklich Quatsch. Ich kann Ihnen nur sagen, dass ich mich als ehemaliger Sozialdemokrat – 30 Jahre lang! – zusammen mit meiner damaligen Partei immer dafür eingesetzt habe, dass Menschen ein planbares Leben haben. Planbar heißt: Sie müssen wissen, ob sie in einem Betrieb beschäftigt werden, und zwar nicht nur für ein halbes Jahr, für ein Jahr oder für zwei Jahre, sondern für länger. Sie müssen ein planbares Leben haben. Dieses Argument haben Sie überhaupt nicht beachtet.\n",
      "\n",
      "Wir reden darüber, dass junge Menschen eine Familie gründen und dass sie sich am Anfang möglicherweise verschulden sollen, weil sie wenig verdienen. Auch 8,50 Euro ist nicht gerade der Renner. Gleichzeitig verwehren wir den jungen Menschen eine planbare Perspektive, um ihr Arbeitsleben zu gestalten. Ich halte es für sehr bedauerlich, dass Sie sich diesem Problem überhaupt nicht zuwenden, sondern bei dem bleiben, was Sie bisher vertreten haben.\n",
      "\n",
      "Ein zweiter Punkt. Wir haben heute Vormittag über die Stärkung der Tarifautonomie gesprochen. Dieses Anliegen wollen Sie gemeinsam mit der Koalition verfolgen. Glauben Sie, dass Sie die Tarifautonomie stärken, wenn Sie zulassen, dass Menschen für zwei Jahre ohne eine Perspektive auf eine feste Anstellung beschäftigt werden? Was glauben Sie, was diese Menschen ohne feste Anstellung machen, wenn es zur Stärkung der Tarifautonomie erforderlich wird, dass einer der beiden Tarifpartner für seine Sache streikt? Glauben Sie, dass sich jemand, der befristet beschäftigt ist, an einem solchen Streik beteiligt, wenn er damit rechnen muss, gekündigt zu werden? Glauben Sie, dass sich dieser Mensch wehrt, wenn es um unbezahlte Überstunden oder um die Nichteinhaltung des Tarifvertrages geht? Nein!\n",
      "\n",
      "In meiner Region erlebe ich es immer wieder, dass Menschen aus einem Betrieb herausfliegen, sie im nächsten Betrieb wieder mit einem befristeten Arbeitsvertrag eingestellt werden und sie nach zwei Jahren wieder in den ersten oder einen anderen Betrieb kommen, und zwar wieder mit einer befristeten Anstellung. Viele Menschen haben jahrelang nur befristete Jobs. Wenn das Ihr Zukunftsmodell ist, wenn das Ihre Stärkung der Tarifautonomie ist, dann kann ich nur sagen: Gute Nacht!\n",
      "\n",
      "*******************************\n",
      "Sprecher Jörn Wunderlich:\n",
      "\n",
      "Das Umgangsrecht, strikt zu trennen vom Sorgerecht, ist in den §§ 1684 ff. BGB geregelt. Nach § 1684 BGB haben Kinder ein Recht auf Umgang mit ihren Eltern und umgekehrt. Gemeint sind damit jedoch die rechtlichen Eltern, nicht die biologischen Eltern. Jedoch muss ein biologischer Elternteil nicht unbedingt der rechtliche Elternteil sein, wobei dies im Regelfall den Vater trifft.\n",
      "\n",
      "Nach geltendem Recht kann der biologische Vater gegebenenfalls nur sonstige Bezugsperson im Sinne des § 1685 BGB sein. Für ein Umgangsrecht muss dann aber eine sozial-familiäre Beziehung bestehen, welche der Vater möglicherweise bis zur Geltendmachung des Umgangsanspruchs nicht herstellen konnte, weil die rechtlichen Eltern dies zu verhindern wussten.\n",
      "\n",
      "Der Gesetzentwurf geht auf ein Urteil des EGMR vom 21. Dezember 2010 zurück, welcher in seiner Entscheidung gerade diese fehlende sozial-familiäre Beziehung nennt, gleichzeitig jedoch feststellt, dass nicht die Konstellation bedacht ist, in welcher dem biologischen Vater verwehrt war, eine solche herzustellen, er gleichwohl im Einzelfall ein berechtigtes Interesse am Umgang mit seinem Kind habe. Nun stellt sich die Frage, wie das \"nachhaltige Interesse\" des Vaters nachgewiesen werden soll, und offen bleibt ebenso, wie festzustellen sein soll, dass es dem Kindeswohl dient. Sofern Einvernehmen zwischen den unterschiedlichen Eltern besteht, bedarf es keiner Regelung. Es sind folglich nur streitige Verfahren bei dieser Frage in Betracht zu ziehen.\n",
      "\n",
      "Kann es dem Kindeswohl dienen, wenn der leibliche Vater in das Familienleben des Kindes, welches möglicherweise schon seit Jahren besteht, hineingrätscht? Bei Kleinstkindern mag dies möglicherweise noch relativ unproblematisch sein. Wie verhält es sich aber bei größeren Kindern, bei denen auf einmal der leibliche Vater neben dem Papa auftaucht und großes Interesse zeigt. Psychologische Schwierigkeiten, eine Störung des bis dato intakten Familienlebens können auftreten, die mit der Erkenntnis verbunden sind, nicht das leibliche Kind des rechtlichen Vaters zu sein. Andererseits besteht natürlich auch das Recht des Kindes auf Wissen seiner Herkunft. Dies darf nicht vergessen werden.\n",
      "\n",
      "Diese Gesamtproblematik ist vielfach im Zusammenhang mit Adoptivkindern thematisiert worden. Es ist in jedem Fall höchst problematisch. Der EGMR erwartet eine Regelung seit 2010. Aber der Entwurf der Bundesregierung lässt gegenwärtig immer noch zu viele Fragen offen. Insoweit hoffe ich, dass im Rahmen des erweiterten Berichterstattergesprächs unter Einbeziehung von Sachverständigen eine Regelung gefunden werden kann, welche konkret genug ist, den Anforderungen des EGMR zu entsprechen und keine Fragen offen lässt.\n",
      "\n",
      "****************************\n",
      "Beispiele von Partei spd:\n",
      "****************************\n",
      "\n",
      "\n",
      "*******************************\n",
      "Sprecher Hubertus Heil:\n",
      "\n",
      "Ein Beispiel dafür gab es im Herbst letzten Jahres, als es um das Thema Kreditklemme ging. Sie schlugen wie Kai aus der Kiste vor, dass die Kreditanstalt für Wiederaufbau auch ein Hausbankprinzip haben sollte. Alle Fachleute haben den Kopf geschüttelt, aber keiner musste sich Sorgen machen; denn das war ja nur eine Ankündigung.\n",
      "\n",
      "Ein paar Wochen später kamen Sie auf die glorreiche Idee, ein Entflechtungsgesetz für die Wirtschaft anzukündigen. Gott sei Dank ist das über den Referentenstatus nicht hinausgekommen. Daraus wird auch nichts mehr. Im Sommer dieses Jahres kündigten Sie dann ein \"Begrüßungsgeld für Gastarbeiter\" an. Auch daraus ist nichts geworden.\n",
      "\n",
      "Herr Brüderle, ich muss mich korrigieren. Wir haben Sie in den letzten Monaten immer dafür kritisiert, dass Sie nichts entschieden, sondern nur angekündigt haben. Heute muss ich aber sagen: Das ist immer noch besser als das, was Sie jetzt tun, nämlich das Falsche zu machen. Das sieht man vor allen Dingen im Bereich der Energiepolitik. Ich frage mich angesichts dessen, was Sie im sogenannten Energiekonzept machen, ob Sie bei Ludwig Erhard nur die Klappentexte gelesen haben; denn die verlängerten Restlaufzeiten für alte und abgeschriebene Atommeiler sind nichts anderes als die Verfestigung des Oligopols von vier großen Energiekonzernen. Herr Brüderle, Sie behindern Wettbewerb, und das als liberaler Minister.\n",
      "\n",
      "*******************************\n",
      "Sprecher Dr. Carola Reimann:\n",
      "\n",
      "Wir entziehen diesen Vereinen die Existenzgrundlage, indem wir professionelle Hilfe und Beratung durch ihren Arzt rechtssicher machen.\n",
      "\n",
      "Wir haben ganz bewusst das Arzt-Patienten-Verhältnis ins Zentrum unseres Gesetzentwurfs gestellt und nicht die Aktivitäten einer überschaubaren Zahl von selbsternannten Sterbehelfern. Dafür gibt es gute Gründe. Seit Jahren gibt es immer wieder Anläufe und neue Versuche, mit strafrechtlichen Verboten gegen Sterbehilfevereine vorzugehen. Sie sind auch deshalb alle gescheitert, weil die unerwünschten Nebenwirkungen solcher Verbote gravierend sind. Die kritischen Fragen von damals müssen wir uns auch heute stellen: Rechtfertigen die Aktivitäten weniger Sterbehelfer einen Eingriff ins Strafrecht, der Auswirkungen auf die Arbeit einer viel größeren Zahl von Ärzten hat? Geben wir, um Sterbehilfevereine zu unterbinden, den seit 150 Jahren bewährten Grundsatz auf, dass der Suizid und auch die Beihilfe zum Suizid straflos sind? Und nehmen wir billigend in Kauf, dass wegen Kusch und Co. künftig allen Ärzten, die Hilfe zum Suizid leisten, staatsanwaltschaftliche Ermittlungen drohen? – Ich finde, Kolleginnen und Kollegen, hier schaden die Nebenwirkungen mehr, als die Hauptwirkung nutzt.\n"
     ]
    }
   ],
   "source": [
    "import os, gzip\n",
    "import pandas as pd\n",
    "import numpy as np\n",
    "import urllib.request\n",
    "\n",
    "DATADIR = \"data\"\n",
    "\n",
    "if not os.path.exists(DATADIR): \n",
    "    os.mkdir(DATADIR)\n",
    "\n",
    "file_name = os.path.join(DATADIR, 'bundestags_parlamentsprotokolle.csv.gzip')\n",
    "if not os.path.exists(file_name):\n",
    "    url_data = 'https://www.dropbox.com/s/1nlbfehnrwwa2zj/bundestags_parlamentsprotokolle.csv.gzip?dl=1'\n",
    "    urllib.request.urlretrieve(url_data, file_name)\n",
    "\n",
    "df = pd.read_csv(gzip.open(file_name)).sample(frac=1)\n",
    "\n",
    "alle_sprecher = df.sprecher.unique()\n",
    "parteien = df.partei.unique()\n",
    "partei_farben = {'cducsu':'black', 'linke':'purple', 'spd':'red', 'gruene':'green', 'fdp':'yellow'}\n",
    "\n",
    "print(\"{} Reden wurden geladen\".format(len(df)))\n",
    "\n",
    "# Zeige einige Reden von Parteien\n",
    "for party in np.unique(df['partei']):\n",
    "    print(\"\\n****************************\\nBeispiele von Partei {}:\\n****************************\\n\".format(party))\n",
    "    for _, speech in df[df['partei']==party].sample(2).iterrows():\n",
    "        print(\"\\n*******************************\\nSprecher {}:\\n\\n{}\".format(speech['sprecher'], speech['text']))\n"
   ]
  },
  {
   "cell_type": "code",
   "execution_count": 29,
   "metadata": {},
   "outputs": [],
   "source": [
    "from sklearn.metrics import confusion_matrix, classification_report\n",
    "from sklearn.feature_extraction.text import CountVectorizer, TfidfVectorizer\n",
    "from sklearn.model_selection import train_test_split, GridSearchCV\n",
    "from sklearn.naive_bayes import MultinomialNB\n",
    "from sklearn.linear_model import SGDClassifier\n",
    "from sklearn.pipeline import Pipeline\n",
    "import warnings\n",
    "\n",
    "def train(texts, party):\n",
    "    '''\n",
    "    Eine Funktion, die gegeben Texte und Labels einen Klassifier trainiert\n",
    "    '''\n",
    "    stopwords = [w.strip() for w in open(\"data/stopwords.txt\").readlines()]\n",
    "    with warnings.catch_warnings():\n",
    "        warnings.simplefilter(\"ignore\")\n",
    "        # Eine Machine Learning Pipeline um Bag-of-Words Vectors zu erstellen aus Texten\n",
    "        text_clf = Pipeline([('vect', TfidfVectorizer(stop_words=stopwords)),\n",
    "                            ('clf', SGDClassifier(loss='log', class_weight='balanced'))])\n",
    "        # some hyperparameters\n",
    "        parameters = {\n",
    "            'vect__ngram_range': [(1, 1), (1, 2)],\n",
    "            'vect__max_df': [0.8],\n",
    "            'clf__alpha': (np.logspace(-6, -4, 2)).tolist()\n",
    "        }\n",
    "        # perform gridsearch to get the best regularizer\n",
    "        clf = GridSearchCV(text_clf, parameters, cv=2, n_jobs=-1,verbose=4)\n",
    "        clf.fit(texts, party)\n",
    "\n",
    "        print(\"Best parameters set found on development set:\")\n",
    "        print()\n",
    "        print(clf.best_estimator_)\n",
    "        print()\n",
    "        print(\"Grid scores on development set:\")\n",
    "        print()\n",
    "        for params, mean_score, scores in clf.grid_scores_:\n",
    "            print(\"%0.3f (+/-%0.03f) for %r\"\n",
    "                  % (mean_score, scores.std() / 2, params))\n",
    "        print()\n",
    "\n",
    "\n",
    "    return clf\n"
   ]
  },
  {
   "cell_type": "markdown",
   "metadata": {},
   "source": [
    "## Trainieren eines linearen Klassifiers"
   ]
  },
  {
   "cell_type": "code",
   "execution_count": 98,
   "metadata": {
    "scrolled": true
   },
   "outputs": [
    {
     "name": "stdout",
     "output_type": "stream",
     "text": [
      "Fitting 2 folds for each of 4 candidates, totalling 8 fits\n",
      "[CV] clf__alpha=1e-06, vect__max_df=0.8, vect__ngram_range=(1, 1) ....\n",
      "[CV] clf__alpha=1e-06, vect__max_df=0.8, vect__ngram_range=(1, 1) ....\n",
      "[CV] clf__alpha=1e-06, vect__max_df=0.8, vect__ngram_range=(1, 2) ....\n",
      "[CV] clf__alpha=1e-06, vect__max_df=0.8, vect__ngram_range=(1, 2) ....\n",
      "[CV]  clf__alpha=1e-06, vect__max_df=0.8, vect__ngram_range=(1, 1), score=0.5156183140778776, total=   8.9s\n",
      "[CV]  clf__alpha=1e-06, vect__max_df=0.8, vect__ngram_range=(1, 1), score=0.5249572162007986, total=   9.3s\n",
      "[CV] clf__alpha=0.0001, vect__max_df=0.8, vect__ngram_range=(1, 1) ...\n",
      "[CV] clf__alpha=0.0001, vect__max_df=0.8, vect__ngram_range=(1, 1) ...\n",
      "[CV]  clf__alpha=0.0001, vect__max_df=0.8, vect__ngram_range=(1, 1), score=0.5365088419851682, total=   9.0s\n",
      "[CV] clf__alpha=0.0001, vect__max_df=0.8, vect__ngram_range=(1, 2) ...\n",
      "[CV]  clf__alpha=1e-06, vect__max_df=0.8, vect__ngram_range=(1, 2), score=0.5382201939532231, total=  21.6s\n",
      "[CV]  clf__alpha=1e-06, vect__max_df=0.8, vect__ngram_range=(1, 2), score=0.5353016688061617, total=  21.0s\n"
     ]
    },
    {
     "name": "stderr",
     "output_type": "stream",
     "text": [
      "[Parallel(n_jobs=-1)]: Done   4 out of   8 | elapsed:   34.0s remaining:   34.0s\n"
     ]
    },
    {
     "name": "stdout",
     "output_type": "stream",
     "text": [
      "[CV] clf__alpha=0.0001, vect__max_df=0.8, vect__ngram_range=(1, 2) ...\n",
      "[CV]  clf__alpha=0.0001, vect__max_df=0.8, vect__ngram_range=(1, 1), score=0.5430038510911425, total=  10.2s\n",
      "[CV]  clf__alpha=0.0001, vect__max_df=0.8, vect__ngram_range=(1, 2), score=0.5195379349686252, total=  15.5s\n",
      "[CV]  clf__alpha=0.0001, vect__max_df=0.8, vect__ngram_range=(1, 2), score=0.5338753387533876, total=  14.7s\n"
     ]
    },
    {
     "name": "stderr",
     "output_type": "stream",
     "text": [
      "[Parallel(n_jobs=-1)]: Done   8 out of   8 | elapsed:   54.1s finished\n"
     ]
    },
    {
     "name": "stdout",
     "output_type": "stream",
     "text": [
      "Best parameters set found on development set:\n",
      "\n",
      "Pipeline(memory=None,\n",
      "     steps=[('vect', TfidfVectorizer(analyzer='word', binary=False, decode_error='strict',\n",
      "        dtype=<class 'numpy.int64'>, encoding='utf-8', input='content',\n",
      "        lowercase=True, max_df=0.8, max_features=None, min_df=1,\n",
      "        ngram_range=(1, 1), norm='l2', preprocessor=None, smooth_idf=True,\n",
      "  ...='l2', power_t=0.5, random_state=None,\n",
      "       shuffle=True, tol=None, verbose=0, warm_start=False))])\n",
      "\n",
      "Grid scores on development set:\n",
      "\n",
      "0.520 (+/-0.002) for {'clf__alpha': 1e-06, 'vect__max_df': 0.8, 'vect__ngram_range': (1, 1)}\n",
      "0.537 (+/-0.001) for {'clf__alpha': 1e-06, 'vect__max_df': 0.8, 'vect__ngram_range': (1, 2)}\n",
      "0.540 (+/-0.002) for {'clf__alpha': 0.0001, 'vect__max_df': 0.8, 'vect__ngram_range': (1, 1)}\n",
      "0.527 (+/-0.004) for {'clf__alpha': 0.0001, 'vect__max_df': 0.8, 'vect__ngram_range': (1, 2)}\n",
      "\n"
     ]
    }
   ],
   "source": [
    "# Erst nehmen wir einige Daten beiseite, um das Model darauf spaeter testen zu koennen\n",
    "idx = df.wahlperiode == 18\n",
    "train_data, test_data, train_labels, test_labels = train_test_split(df['text'][idx], df['partei'][idx], test_size=0.3)\n",
    "\n",
    "# Jetzt trainieren wir den Klassifier\n",
    "clf = train(train_data, train_labels)"
   ]
  },
  {
   "cell_type": "markdown",
   "metadata": {},
   "source": [
    "# Vorhersage auf Trainings Daten"
   ]
  },
  {
   "cell_type": "code",
   "execution_count": 97,
   "metadata": {},
   "outputs": [
    {
     "name": "stdout",
     "output_type": "stream",
     "text": [
      "             precision    recall  f1-score   support\n",
      "\n",
      "     cducsu       0.94      0.57      0.71      8845\n",
      "        fdp       0.00      0.00      0.00         0\n",
      "     gruene       0.50      0.80      0.61      1608\n",
      "      linke       0.67      0.74      0.70      2281\n",
      "        spd       0.56      0.71      0.63      3214\n",
      "\n",
      "avg / total       0.78      0.65      0.68     15948\n",
      "\n"
     ]
    },
    {
     "name": "stderr",
     "output_type": "stream",
     "text": [
      "/Users/felix/Code/Python/ml-schule/venv/lib/python3.6/site-packages/sklearn/metrics/classification.py:1137: UndefinedMetricWarning: Recall and F-score are ill-defined and being set to 0.0 in labels with no true samples.\n",
      "  'recall', 'true', average, warn_for)\n"
     ]
    }
   ],
   "source": [
    "train_predictions = clf.predict(train_data)\n",
    "report = classification_report(train_predictions, train_labels)\n",
    "print(report)"
   ]
  },
  {
   "cell_type": "markdown",
   "metadata": {},
   "source": [
    "# Vorhersage auf Test Daten"
   ]
  },
  {
   "cell_type": "code",
   "execution_count": 32,
   "metadata": {},
   "outputs": [
    {
     "name": "stdout",
     "output_type": "stream",
     "text": [
      "             precision    recall  f1-score   support\n",
      "\n",
      "     cducsu       0.84      0.60      0.70      3535\n",
      "     gruene       0.31      0.60      0.41       476\n",
      "      linke       0.48      0.60      0.53       692\n",
      "        spd       0.41      0.53      0.47      1308\n",
      "\n",
      "avg / total       0.66      0.58      0.60      6011\n",
      "\n"
     ]
    }
   ],
   "source": [
    "test_predictions = clf.predict(test_data)\n",
    "report = classification_report(test_predictions, test_labels)\n",
    "print(report)"
   ]
  },
  {
   "cell_type": "markdown",
   "metadata": {},
   "source": [
    "## Confusion Matrix"
   ]
  },
  {
   "cell_type": "code",
   "execution_count": 33,
   "metadata": {},
   "outputs": [
    {
     "name": "stdout",
     "output_type": "stream",
     "text": [
      "[[2113   43   68  302]\n",
      " [ 339  287  143  171]\n",
      " [ 213   96  412  137]\n",
      " [ 870   50   69  698]]\n"
     ]
    }
   ],
   "source": [
    "print(confusion_matrix(test_labels, test_predictions))"
   ]
  },
  {
   "cell_type": "markdown",
   "metadata": {},
   "source": [
    "## Download eines Zeitungsartikels"
   ]
  },
  {
   "cell_type": "code",
   "execution_count": 25,
   "metadata": {
    "collapsed": true
   },
   "outputs": [],
   "source": [
    "import urllib.request\n",
    "from readability.readability import Document\n",
    "\n",
    "url = \"http://www.spiegel.de/politik/ausland/muss-deutschland-jetzt-milliarden-an-polen-zahlen-a-1167144.html\"\n",
    "html = urllib.request.urlopen(url).read()\n",
    "readable_article = Document(html).summary()\n",
    "readable_title = Document(html).short_title()\n"
   ]
  },
  {
   "cell_type": "markdown",
   "metadata": {},
   "source": [
    "## Klassifizierung des Zeitungsartikels"
   ]
  },
  {
   "cell_type": "code",
   "execution_count": 26,
   "metadata": {
    "scrolled": true
   },
   "outputs": [
    {
     "name": "stdout",
     "output_type": "stream",
     "text": [
      "Zeitungsartikel: Muss Deutschland jetzt Milliarden an Polen zahlen?\n"
     ]
    },
    {
     "data": {
      "text/plain": [
       "<matplotlib.axes._subplots.AxesSubplot at 0x115ac7588>"
      ]
     },
     "execution_count": 26,
     "metadata": {},
     "output_type": "execute_result"
    },
    {
     "data": {
      "image/png": "[encoded data removed]",
      "text/plain": [
       "<matplotlib.figure.Figure at 0x10b8acba8>"
      ]
     },
     "metadata": {},
     "output_type": "display_data"
    }
   ],
   "source": [
    "prediction = clf.predict_proba([readable_article])\n",
    "\n",
    "print(\"Zeitungsartikel: {}\".format(readable_title))\n",
    "\n",
    "import seaborn as sns\n",
    "%matplotlib inline\n",
    "sns.barplot(clf.best_estimator_.steps[1][1].classes_, prediction.flatten())"
   ]
  },
  {
   "cell_type": "code",
   "execution_count": null,
   "metadata": {},
   "outputs": [],
   "source": [
    "bow_vectors = clf.steps[0][1].transform(df.text)\n",
    "idx2words = {k:v for v,k in clf.steps[0][1].vocabulary_.items()}\n",
    "for party in np.unique(df['partei']):\n",
    "    this_party = (df['partei'] == party).values * 2 - 1\n",
    "    word_covariance = bow_vectors.T.dot(this_party).argsort()\n",
    "    top_words = [idx2words[widx] for widx in word_covariance[-20:][::-1]]\n",
    "    print(\"*********************\\nPartei {} benutzt haeufig:\\n{}\".format(party, \", \".join(top_words)))"
   ]
  },
  {
   "cell_type": "code",
   "execution_count": 34,
   "metadata": {},
   "outputs": [
    {
     "name": "stdout",
     "output_type": "stream",
     "text": [
      "Fitting 2 folds for each of 4 candidates, totalling 8 fits\n",
      "[CV] clf__alpha=1e-06, vect__max_df=0.8, vect__ngram_range=(1, 1) ....\n",
      "[CV] clf__alpha=1e-06, vect__max_df=0.8, vect__ngram_range=(1, 1) ....\n",
      "[CV] clf__alpha=1e-06, vect__max_df=0.8, vect__ngram_range=(1, 2) ....\n",
      "[CV] clf__alpha=1e-06, vect__max_df=0.8, vect__ngram_range=(1, 2) ....\n",
      "[CV]  clf__alpha=1e-06, vect__max_df=0.8, vect__ngram_range=(1, 1), score=0.5072100313479624, total=  24.6s\n",
      "[CV]  clf__alpha=1e-06, vect__max_df=0.8, vect__ngram_range=(1, 1), score=0.5105982691584097, total=  27.1s\n",
      "[CV] clf__alpha=0.0001, vect__max_df=0.8, vect__ngram_range=(1, 1) ...\n",
      "[CV] clf__alpha=0.0001, vect__max_df=0.8, vect__ngram_range=(1, 1) ...\n",
      "[CV]  clf__alpha=1e-06, vect__max_df=0.8, vect__ngram_range=(1, 2), score=0.5311598746081505, total=  56.3s\n",
      "[CV]  clf__alpha=0.0001, vect__max_df=0.8, vect__ngram_range=(1, 1), score=0.5230094043887147, total=  27.6s\n",
      "[CV] clf__alpha=0.0001, vect__max_df=0.8, vect__ngram_range=(1, 2) ...\n"
     ]
    },
    {
     "name": "stderr",
     "output_type": "stream",
     "text": [
      "[Parallel(n_jobs=-1)]: Done   4 out of   8 | elapsed:  1.6min remaining:  1.6min\n"
     ]
    },
    {
     "name": "stdout",
     "output_type": "stream",
     "text": [
      "[CV]  clf__alpha=1e-06, vect__max_df=0.8, vect__ngram_range=(1, 2), score=0.5212592499686441, total=  54.4s\n",
      "[CV] clf__alpha=0.0001, vect__max_df=0.8, vect__ngram_range=(1, 2) ...\n",
      "[CV]  clf__alpha=0.0001, vect__max_df=0.8, vect__ngram_range=(1, 1), score=0.5118525021949079, total=  27.3s\n",
      "[CV]  clf__alpha=0.0001, vect__max_df=0.8, vect__ngram_range=(1, 2), score=0.5078369905956113, total=  52.0s\n",
      "[CV]  clf__alpha=0.0001, vect__max_df=0.8, vect__ngram_range=(1, 2), score=0.4848864919101969, total=  50.4s\n"
     ]
    },
    {
     "name": "stderr",
     "output_type": "stream",
     "text": [
      "[Parallel(n_jobs=-1)]: Done   8 out of   8 | elapsed:  2.8min finished\n"
     ]
    },
    {
     "name": "stdout",
     "output_type": "stream",
     "text": [
      "Best parameters set found on development set:\n",
      "\n",
      "Pipeline(memory=None,\n",
      "     steps=[('vect', TfidfVectorizer(analyzer='word', binary=False, decode_error='strict',\n",
      "        dtype=<class 'numpy.int64'>, encoding='utf-8', input='content',\n",
      "        lowercase=True, max_df=0.8, max_features=None, min_df=1,\n",
      "        ngram_range=(1, 2), norm='l2', preprocessor=None, smooth_idf=True,\n",
      "  ...='l2', power_t=0.5, random_state=None,\n",
      "       shuffle=True, tol=None, verbose=0, warm_start=False))])\n",
      "\n",
      "Grid scores on development set:\n",
      "\n",
      "0.509 (+/-0.001) for {'clf__alpha': 1e-06, 'vect__max_df': 0.8, 'vect__ngram_range': (1, 1)}\n",
      "0.526 (+/-0.002) for {'clf__alpha': 1e-06, 'vect__max_df': 0.8, 'vect__ngram_range': (1, 2)}\n",
      "0.517 (+/-0.003) for {'clf__alpha': 0.0001, 'vect__max_df': 0.8, 'vect__ngram_range': (1, 1)}\n",
      "0.496 (+/-0.006) for {'clf__alpha': 0.0001, 'vect__max_df': 0.8, 'vect__ngram_range': (1, 2)}\n",
      "\n",
      "             precision    recall  f1-score   support\n",
      "\n",
      "     cducsu       0.93      0.55      0.69      3783\n",
      "        fdp       0.00      0.00      0.00         0\n",
      "     gruene       0.46      0.80      0.58       654\n",
      "      linke       0.65      0.70      0.67       977\n",
      "        spd       0.55      0.70      0.62      1421\n",
      "\n",
      "avg / total       0.77      0.63      0.66      6835\n",
      "\n",
      "[[2085    0   17   28  102]\n",
      " [ 499    0   10   19   80]\n",
      " [ 342    0  522  119  150]\n",
      " [ 230    0   44  684   96]\n",
      " [ 627    0   61  127  993]]\n"
     ]
    },
    {
     "name": "stderr",
     "output_type": "stream",
     "text": [
      "/Users/felix/Code/Python/ml-schule/venv/lib/python3.6/site-packages/sklearn/metrics/classification.py:1137: UndefinedMetricWarning: Recall and F-score are ill-defined and being set to 0.0 in labels with no true samples.\n",
      "  'recall', 'true', average, warn_for)\n"
     ]
    }
   ],
   "source": [
    "# Wir gruppieren nach Sprecher\n",
    "grouped_by_speaker = df.groupby(['sitzung','wahlperiode','sprecher']).agg({'text':lambda x:\" \".join(x), 'partei': lambda x:list(x)[0]})\n",
    "# Erst nehmen wir einige Daten beiseite, um das Model darauf spaeter testen zu koennen\n",
    "train_data, test_data, train_labels, test_labels = train_test_split(grouped_by_speaker['text'], grouped_by_speaker['partei'], test_size=0.3)\n",
    "# Jetzt trainieren wir den Klassifier\n",
    "clf_grouped_by_speaker = train(train_data, train_labels)\n",
    "test_predictions = clf.predict(test_data)\n",
    "report = classification_report(test_predictions, test_labels)\n",
    "print(report)\n",
    "print(confusion_matrix(test_labels, test_predictions))"
   ]
  },
  {
   "cell_type": "code",
   "execution_count": 37,
   "metadata": {},
   "outputs": [
    {
     "data": {
      "text/plain": [
       "<matplotlib.axes._subplots.AxesSubplot at 0x125ad0d30>"
      ]
     },
     "execution_count": 37,
     "metadata": {},
     "output_type": "execute_result"
    },
    {
     "data": {
      "image/png": "[encoded data removed]",
      "text/plain": [
       "<matplotlib.figure.Figure at 0x11f9bc048>"
      ]
     },
     "metadata": {},
     "output_type": "display_data"
    }
   ],
   "source": [
    "df['grenzen'] = df.text.str.lower().str.contains('grenzen')\n",
    "df['armut'] = df.text.str.lower().str.contains('armut')\n",
    "df_armut_sicherheit = df.groupby(\"partei\").agg({'grenzen': sum, 'armut':sum})\n",
    "import seaborn as sns; sns.set(color_codes=True)\n",
    "%matplotlib inline\n",
    "sns.regplot(x='armut', y='grenzen', data=df_armut_sicherheit)"
   ]
  },
  {
   "cell_type": "code",
   "execution_count": 101,
   "metadata": {},
   "outputs": [
    {
     "ename": "TypeError",
     "evalue": "tsplot() got multiple values for argument 'data'",
     "output_type": "error",
     "traceback": [
      "\u001b[0;31m---------------------------------------------------------------------------\u001b[0m",
      "\u001b[0;31mTypeError\u001b[0m                                 Traceback (most recent call last)",
      "\u001b[0;32m<ipython-input-101-a2c9c90645de>\u001b[0m in \u001b[0;36m<module>\u001b[0;34m()\u001b[0m\n\u001b[1;32m      2\u001b[0m \u001b[0mget_ipython\u001b[0m\u001b[0;34m(\u001b[0m\u001b[0;34m)\u001b[0m\u001b[0;34m.\u001b[0m\u001b[0mmagic\u001b[0m\u001b[0;34m(\u001b[0m\u001b[0;34m'matplotlib inline'\u001b[0m\u001b[0;34m)\u001b[0m\u001b[0;34m\u001b[0m\u001b[0m\n\u001b[1;32m      3\u001b[0m \u001b[0msprecher\u001b[0m \u001b[0;34m=\u001b[0m \u001b[0;34m'Jürgen Trittin'\u001b[0m\u001b[0;34m\u001b[0m\u001b[0m\n\u001b[0;32m----> 4\u001b[0;31m \u001b[0msns\u001b[0m\u001b[0;34m.\u001b[0m\u001b[0mtsplot\u001b[0m\u001b[0;34m(\u001b[0m\u001b[0;34m'sitzung'\u001b[0m\u001b[0;34m,\u001b[0m\u001b[0;34m'gruene'\u001b[0m\u001b[0;34m,\u001b[0m\u001b[0mdata\u001b[0m\u001b[0;34m=\u001b[0m\u001b[0mdf\u001b[0m\u001b[0;34m[\u001b[0m\u001b[0;34m(\u001b[0m\u001b[0mdf\u001b[0m\u001b[0;34m[\u001b[0m\u001b[0;34m'partei'\u001b[0m\u001b[0;34m]\u001b[0m\u001b[0;34m==\u001b[0m\u001b[0;34m'gruene'\u001b[0m\u001b[0;34m)\u001b[0m \u001b[0;34m&\u001b[0m \u001b[0;34m(\u001b[0m\u001b[0mdf\u001b[0m\u001b[0;34m[\u001b[0m\u001b[0;34m'wahlperiode'\u001b[0m\u001b[0;34m]\u001b[0m\u001b[0;34m==\u001b[0m\u001b[0;36m17\u001b[0m\u001b[0;34m)\u001b[0m\u001b[0;34m]\u001b[0m\u001b[0;34m[\u001b[0m\u001b[0;34m[\u001b[0m\u001b[0;34m'sitzung'\u001b[0m\u001b[0;34m,\u001b[0m\u001b[0;34m'gruene'\u001b[0m\u001b[0;34m]\u001b[0m\u001b[0;34m]\u001b[0m\u001b[0;34m)\u001b[0m\u001b[0;34m\u001b[0m\u001b[0m\n\u001b[0m",
      "\u001b[0;31mTypeError\u001b[0m: tsplot() got multiple values for argument 'data'"
     ]
    }
   ],
   "source": [
    "import seaborn as sns; sns.set(color_codes=True)\n",
    "%matplotlib inline\n",
    "sprecher = 'Jürgen Trittin'\n",
    "sns.tsplot('sitzung','gruene',data=df[(df['partei']=='gruene') & (df['wahlperiode']==17)][['sitzung','gruene']])\n"
   ]
  },
  {
   "cell_type": "code",
   "execution_count": null,
   "metadata": {},
   "outputs": [
    {
     "name": "stdout",
     "output_type": "stream",
     "text": [
      "Fitting 2 folds for each of 4 candidates, totalling 8 fits\n",
      "[CV] clf__alpha=1e-06, vect__max_df=0.8, vect__ngram_range=(1, 1) ....\n",
      "[CV] clf__alpha=1e-06, vect__max_df=0.8, vect__ngram_range=(1, 1) ....\n",
      "[CV] clf__alpha=1e-06, vect__max_df=0.8, vect__ngram_range=(1, 2) ....\n",
      "[CV] clf__alpha=1e-06, vect__max_df=0.8, vect__ngram_range=(1, 2) ....\n",
      "[CV]  clf__alpha=1e-06, vect__max_df=0.8, vect__ngram_range=(1, 1), score=0.542488239415474, total=  10.7s\n",
      "[CV]  clf__alpha=1e-06, vect__max_df=0.8, vect__ngram_range=(1, 1), score=0.551285900130091, total=  10.7s\n",
      "[CV] clf__alpha=0.0001, vect__max_df=0.8, vect__ngram_range=(1, 1) ...\n",
      "[CV] clf__alpha=0.0001, vect__max_df=0.8, vect__ngram_range=(1, 1) ...\n",
      "[CV]  clf__alpha=0.0001, vect__max_df=0.8, vect__ngram_range=(1, 1), score=0.5571900330231162, total=  11.8s\n",
      "[CV]  clf__alpha=1e-06, vect__max_df=0.8, vect__ngram_range=(1, 2), score=0.5647953567497248, total=  24.0s\n"
     ]
    },
    {
     "name": "stderr",
     "output_type": "stream",
     "text": [
      "[Parallel(n_jobs=-1)]: Done   4 out of   8 | elapsed:   38.5s remaining:   38.5s\n"
     ]
    },
    {
     "name": "stdout",
     "output_type": "stream",
     "text": [
      "[CV] clf__alpha=0.0001, vect__max_df=0.8, vect__ngram_range=(1, 2) ...\n",
      "[CV] clf__alpha=0.0001, vect__max_df=0.8, vect__ngram_range=(1, 2) ...\n",
      "[CV]  clf__alpha=1e-06, vect__max_df=0.8, vect__ngram_range=(1, 2), score=0.562706435792213, total=  26.0s\n",
      "[CV]  clf__alpha=0.0001, vect__max_df=0.8, vect__ngram_range=(1, 1), score=0.5607046341707537, total=  14.6s\n",
      "[CV]  clf__alpha=0.0001, vect__max_df=0.8, vect__ngram_range=(1, 2), score=0.5409786850795557, total=  24.8s\n",
      "[CV]  clf__alpha=0.0001, vect__max_df=0.8, vect__ngram_range=(1, 2), score=0.5403863477129417, total=  22.6s\n"
     ]
    },
    {
     "name": "stderr",
     "output_type": "stream",
     "text": [
      "[Parallel(n_jobs=-1)]: Done   8 out of   8 | elapsed:  1.2min finished\n"
     ]
    },
    {
     "name": "stdout",
     "output_type": "stream",
     "text": [
      "Best parameters set found on development set:\n",
      "\n",
      "Pipeline(memory=None,\n",
      "     steps=[('vect', TfidfVectorizer(analyzer='word', binary=False, decode_error='strict',\n",
      "        dtype=<class 'numpy.int64'>, encoding='utf-8', input='content',\n",
      "        lowercase=True, max_df=0.8, max_features=None, min_df=1,\n",
      "        ngram_range=(1, 2), norm='l2', preprocessor=None, smooth_idf=True,\n",
      "  ...='l2', power_t=0.5, random_state=None,\n",
      "       shuffle=True, tol=None, verbose=0, warm_start=False))])\n",
      "\n",
      "Grid scores on development set:\n",
      "\n",
      "0.547 (+/-0.002) for {'clf__alpha': 1e-06, 'vect__max_df': 0.8, 'vect__ngram_range': (1, 1)}\n",
      "0.564 (+/-0.001) for {'clf__alpha': 1e-06, 'vect__max_df': 0.8, 'vect__ngram_range': (1, 2)}\n",
      "0.559 (+/-0.001) for {'clf__alpha': 0.0001, 'vect__max_df': 0.8, 'vect__ngram_range': (1, 1)}\n",
      "0.541 (+/-0.000) for {'clf__alpha': 0.0001, 'vect__max_df': 0.8, 'vect__ngram_range': (1, 2)}\n",
      "\n",
      "Fitting 2 folds for each of 4 candidates, totalling 8 fits\n",
      "[CV] clf__alpha=1e-06, vect__max_df=0.8, vect__ngram_range=(1, 1) ....\n",
      "[CV] clf__alpha=1e-06, vect__max_df=0.8, vect__ngram_range=(1, 1) ....\n",
      "[CV] clf__alpha=1e-06, vect__max_df=0.8, vect__ngram_range=(1, 2) ....\n",
      "[CV] clf__alpha=1e-06, vect__max_df=0.8, vect__ngram_range=(1, 2) ....\n",
      "[CV]  clf__alpha=1e-06, vect__max_df=0.8, vect__ngram_range=(1, 1), score=0.5494197679071628, total=  20.4s\n",
      "[CV] clf__alpha=0.0001, vect__max_df=0.8, vect__ngram_range=(1, 1) ...\n",
      "[CV]  clf__alpha=1e-06, vect__max_df=0.8, vect__ngram_range=(1, 1), score=0.5426255753452072, total=  21.3s\n",
      "[CV] clf__alpha=0.0001, vect__max_df=0.8, vect__ngram_range=(1, 1) ...\n",
      "[CV]  clf__alpha=1e-06, vect__max_df=0.8, vect__ngram_range=(1, 2), score=0.5671268507402961, total=  40.3s\n",
      "[CV]  clf__alpha=0.0001, vect__max_df=0.8, vect__ngram_range=(1, 1), score=0.5591236494597839, total=  15.0s\n"
     ]
    },
    {
     "name": "stderr",
     "output_type": "stream",
     "text": [
      "[Parallel(n_jobs=-1)]: Done   4 out of   8 | elapsed:   57.0s remaining:   57.0s\n"
     ]
    },
    {
     "name": "stdout",
     "output_type": "stream",
     "text": [
      "[CV]  clf__alpha=0.0001, vect__max_df=0.8, vect__ngram_range=(1, 1), score=0.5616369821893136, total=  14.7s\n",
      "[CV]  clf__alpha=1e-06, vect__max_df=0.8, vect__ngram_range=(1, 2), score=0.5647388433059836, total=  39.3s\n",
      "[CV] clf__alpha=0.0001, vect__max_df=0.8, vect__ngram_range=(1, 2) ...\n",
      "[CV] clf__alpha=0.0001, vect__max_df=0.8, vect__ngram_range=(1, 2) ...\n",
      "[CV]  clf__alpha=0.0001, vect__max_df=0.8, vect__ngram_range=(1, 2), score=0.5363145258103241, total=  19.7s\n",
      "[CV]  clf__alpha=0.0001, vect__max_df=0.8, vect__ngram_range=(1, 2), score=0.5399239543726235, total=  20.6s\n"
     ]
    },
    {
     "name": "stderr",
     "output_type": "stream",
     "text": [
      "[Parallel(n_jobs=-1)]: Done   8 out of   8 | elapsed:  1.5min finished\n"
     ]
    },
    {
     "name": "stdout",
     "output_type": "stream",
     "text": [
      "Best parameters set found on development set:\n",
      "\n",
      "Pipeline(memory=None,\n",
      "     steps=[('vect', TfidfVectorizer(analyzer='word', binary=False, decode_error='strict',\n",
      "        dtype=<class 'numpy.int64'>, encoding='utf-8', input='content',\n",
      "        lowercase=True, max_df=0.8, max_features=None, min_df=1,\n",
      "        ngram_range=(1, 2), norm='l2', preprocessor=None, smooth_idf=True,\n",
      "  ...='l2', power_t=0.5, random_state=None,\n",
      "       shuffle=True, tol=None, verbose=0, warm_start=False))])\n",
      "\n",
      "Grid scores on development set:\n",
      "\n",
      "0.546 (+/-0.002) for {'clf__alpha': 1e-06, 'vect__max_df': 0.8, 'vect__ngram_range': (1, 1)}\n",
      "0.566 (+/-0.001) for {'clf__alpha': 1e-06, 'vect__max_df': 0.8, 'vect__ngram_range': (1, 2)}\n",
      "0.560 (+/-0.001) for {'clf__alpha': 0.0001, 'vect__max_df': 0.8, 'vect__ngram_range': (1, 1)}\n",
      "0.538 (+/-0.001) for {'clf__alpha': 0.0001, 'vect__max_df': 0.8, 'vect__ngram_range': (1, 2)}\n",
      "\n",
      "Fitting 2 folds for each of 4 candidates, totalling 8 fits\n",
      "[CV] clf__alpha=1e-06, vect__max_df=0.8, vect__ngram_range=(1, 1) ....\n",
      "[CV] clf__alpha=1e-06, vect__max_df=0.8, vect__ngram_range=(1, 1) ....\n",
      "[CV] clf__alpha=1e-06, vect__max_df=0.8, vect__ngram_range=(1, 2) ....\n",
      "[CV] clf__alpha=1e-06, vect__max_df=0.8, vect__ngram_range=(1, 2) ....\n",
      "[CV]  clf__alpha=1e-06, vect__max_df=0.8, vect__ngram_range=(1, 1), score=0.5524580335731415, total=  12.2s\n",
      "[CV]  clf__alpha=1e-06, vect__max_df=0.8, vect__ngram_range=(1, 1), score=0.544727636181909, total=  12.2s\n",
      "[CV] clf__alpha=0.0001, vect__max_df=0.8, vect__ngram_range=(1, 1) ...\n",
      "[CV] clf__alpha=0.0001, vect__max_df=0.8, vect__ngram_range=(1, 1) ...\n",
      "[CV]  clf__alpha=0.0001, vect__max_df=0.8, vect__ngram_range=(1, 1), score=0.5583533173461231, total=  13.6s\n",
      "[CV]  clf__alpha=1e-06, vect__max_df=0.8, vect__ngram_range=(1, 2), score=0.5637490007993605, total=  28.3s\n",
      "[CV]  clf__alpha=0.0001, vect__max_df=0.8, vect__ngram_range=(1, 1), score=0.55832083958021, total=  13.2s\n",
      "[CV] clf__alpha=0.0001, vect__max_df=0.8, vect__ngram_range=(1, 2) ...\n"
     ]
    },
    {
     "name": "stderr",
     "output_type": "stream",
     "text": [
      "[Parallel(n_jobs=-1)]: Done   4 out of   8 | elapsed:   40.1s remaining:   40.1s\n"
     ]
    },
    {
     "name": "stdout",
     "output_type": "stream",
     "text": [
      "[CV]  clf__alpha=1e-06, vect__max_df=0.8, vect__ngram_range=(1, 2), score=0.5647176411794103, total=  28.1s\n",
      "[CV] clf__alpha=0.0001, vect__max_df=0.8, vect__ngram_range=(1, 2) ...\n",
      "[CV]  clf__alpha=0.0001, vect__max_df=0.8, vect__ngram_range=(1, 2), score=0.5366316841579211, total=  21.9s\n",
      "[CV]  clf__alpha=0.0001, vect__max_df=0.8, vect__ngram_range=(1, 2), score=0.5428657074340527, total=  21.6s\n"
     ]
    },
    {
     "name": "stderr",
     "output_type": "stream",
     "text": [
      "[Parallel(n_jobs=-1)]: Done   8 out of   8 | elapsed:  1.2min finished\n"
     ]
    },
    {
     "name": "stdout",
     "output_type": "stream",
     "text": [
      "Best parameters set found on development set:\n",
      "\n",
      "Pipeline(memory=None,\n",
      "     steps=[('vect', TfidfVectorizer(analyzer='word', binary=False, decode_error='strict',\n",
      "        dtype=<class 'numpy.int64'>, encoding='utf-8', input='content',\n",
      "        lowercase=True, max_df=0.8, max_features=None, min_df=1,\n",
      "        ngram_range=(1, 2), norm='l2', preprocessor=None, smooth_idf=True,\n",
      "  ...='l2', power_t=0.5, random_state=None,\n",
      "       shuffle=True, tol=None, verbose=0, warm_start=False))])\n",
      "\n",
      "Grid scores on development set:\n",
      "\n",
      "0.549 (+/-0.002) for {'clf__alpha': 1e-06, 'vect__max_df': 0.8, 'vect__ngram_range': (1, 1)}\n",
      "0.564 (+/-0.000) for {'clf__alpha': 1e-06, 'vect__max_df': 0.8, 'vect__ngram_range': (1, 2)}\n",
      "0.558 (+/-0.000) for {'clf__alpha': 0.0001, 'vect__max_df': 0.8, 'vect__ngram_range': (1, 1)}\n",
      "0.540 (+/-0.002) for {'clf__alpha': 0.0001, 'vect__max_df': 0.8, 'vect__ngram_range': (1, 2)}\n",
      "\n",
      "Fitting 2 folds for each of 4 candidates, totalling 8 fits\n",
      "[CV] clf__alpha=1e-06, vect__max_df=0.8, vect__ngram_range=(1, 1) ....\n",
      "[CV] clf__alpha=1e-06, vect__max_df=0.8, vect__ngram_range=(1, 1) ....\n",
      "[CV] clf__alpha=1e-06, vect__max_df=0.8, vect__ngram_range=(1, 2) ....\n",
      "[CV] clf__alpha=1e-06, vect__max_df=0.8, vect__ngram_range=(1, 2) ....\n",
      "[CV]  clf__alpha=1e-06, vect__max_df=0.8, vect__ngram_range=(1, 1), score=0.5454272863568216, total=  13.1s\n",
      "[CV]  clf__alpha=1e-06, vect__max_df=0.8, vect__ngram_range=(1, 1), score=0.5432370288913326, total=  13.2s\n",
      "[CV] clf__alpha=0.0001, vect__max_df=0.8, vect__ngram_range=(1, 1) ...\n",
      "[CV] clf__alpha=0.0001, vect__max_df=0.8, vect__ngram_range=(1, 1) ...\n",
      "[CV]  clf__alpha=0.0001, vect__max_df=0.8, vect__ngram_range=(1, 1), score=0.5569215392303848, total=  12.2s\n",
      "[CV]  clf__alpha=0.0001, vect__max_df=0.8, vect__ngram_range=(1, 1), score=0.5607317804658603, total=  12.1s\n",
      "[CV]  clf__alpha=1e-06, vect__max_df=0.8, vect__ngram_range=(1, 2), score=0.5651174412793604, total=  28.5s\n"
     ]
    },
    {
     "name": "stderr",
     "output_type": "stream",
     "text": [
      "[Parallel(n_jobs=-1)]: Done   4 out of   8 | elapsed:   39.7s remaining:   39.7s\n"
     ]
    },
    {
     "name": "stdout",
     "output_type": "stream",
     "text": [
      "[CV] clf__alpha=0.0001, vect__max_df=0.8, vect__ngram_range=(1, 2) ...\n",
      "[CV]  clf__alpha=1e-06, vect__max_df=0.8, vect__ngram_range=(1, 2), score=0.5617314805558332, total=  28.6s\n",
      "[CV] clf__alpha=0.0001, vect__max_df=0.8, vect__ngram_range=(1, 2) ...\n",
      "[CV]  clf__alpha=0.0001, vect__max_df=0.8, vect__ngram_range=(1, 2), score=0.5447365790262921, total=  18.1s\n",
      "[CV]  clf__alpha=0.0001, vect__max_df=0.8, vect__ngram_range=(1, 2), score=0.5399300349825088, total=  19.4s\n"
     ]
    },
    {
     "name": "stderr",
     "output_type": "stream",
     "text": [
      "[Parallel(n_jobs=-1)]: Done   8 out of   8 | elapsed:  1.1min finished\n"
     ]
    },
    {
     "name": "stdout",
     "output_type": "stream",
     "text": [
      "Best parameters set found on development set:\n",
      "\n",
      "Pipeline(memory=None,\n",
      "     steps=[('vect', TfidfVectorizer(analyzer='word', binary=False, decode_error='strict',\n",
      "        dtype=<class 'numpy.int64'>, encoding='utf-8', input='content',\n",
      "        lowercase=True, max_df=0.8, max_features=None, min_df=1,\n",
      "        ngram_range=(1, 2), norm='l2', preprocessor=None, smooth_idf=True,\n",
      "  ...='l2', power_t=0.5, random_state=None,\n",
      "       shuffle=True, tol=None, verbose=0, warm_start=False))])\n",
      "\n",
      "Grid scores on development set:\n",
      "\n",
      "0.544 (+/-0.001) for {'clf__alpha': 1e-06, 'vect__max_df': 0.8, 'vect__ngram_range': (1, 1)}\n",
      "0.563 (+/-0.001) for {'clf__alpha': 1e-06, 'vect__max_df': 0.8, 'vect__ngram_range': (1, 2)}\n",
      "0.559 (+/-0.001) for {'clf__alpha': 0.0001, 'vect__max_df': 0.8, 'vect__ngram_range': (1, 1)}\n",
      "0.542 (+/-0.001) for {'clf__alpha': 0.0001, 'vect__max_df': 0.8, 'vect__ngram_range': (1, 2)}\n",
      "\n",
      "Fitting 2 folds for each of 4 candidates, totalling 8 fits\n",
      "[CV] clf__alpha=1e-06, vect__max_df=0.8, vect__ngram_range=(1, 1) ....\n",
      "[CV] clf__alpha=1e-06, vect__max_df=0.8, vect__ngram_range=(1, 1) ....\n",
      "[CV] clf__alpha=1e-06, vect__max_df=0.8, vect__ngram_range=(1, 2) ....\n",
      "[CV] clf__alpha=1e-06, vect__max_df=0.8, vect__ngram_range=(1, 2) ....\n",
      "[CV]  clf__alpha=1e-06, vect__max_df=0.8, vect__ngram_range=(1, 1), score=0.5461276766059636, total=  12.8s\n",
      "[CV]  clf__alpha=1e-06, vect__max_df=0.8, vect__ngram_range=(1, 1), score=0.5416333066453163, total=  12.8s\n",
      "[CV] clf__alpha=0.0001, vect__max_df=0.8, vect__ngram_range=(1, 1) ...\n",
      "[CV] clf__alpha=0.0001, vect__max_df=0.8, vect__ngram_range=(1, 1) ...\n",
      "[CV]  clf__alpha=0.0001, vect__max_df=0.8, vect__ngram_range=(1, 1), score=0.557934760856514, total=  12.5s\n",
      "[CV]  clf__alpha=1e-06, vect__max_df=0.8, vect__ngram_range=(1, 2), score=0.5679407644586753, total=  27.7s\n"
     ]
    },
    {
     "name": "stderr",
     "output_type": "stream",
     "text": [
      "[Parallel(n_jobs=-1)]: Done   4 out of   8 | elapsed:   38.0s remaining:   38.0s\n"
     ]
    },
    {
     "name": "stdout",
     "output_type": "stream",
     "text": [
      "[CV]  clf__alpha=0.0001, vect__max_df=0.8, vect__ngram_range=(1, 1), score=0.5595476381104884, total=  12.3s\n",
      "[CV] clf__alpha=0.0001, vect__max_df=0.8, vect__ngram_range=(1, 2) ...\n",
      "[CV]  clf__alpha=1e-06, vect__max_df=0.8, vect__ngram_range=(1, 2), score=0.5623498799039232, total=  28.3s\n",
      "[CV] clf__alpha=0.0001, vect__max_df=0.8, vect__ngram_range=(1, 2) ...\n",
      "[CV]  clf__alpha=0.0001, vect__max_df=0.8, vect__ngram_range=(1, 2), score=0.5368294635708567, total=  17.4s\n",
      "[CV]  clf__alpha=0.0001, vect__max_df=0.8, vect__ngram_range=(1, 2), score=0.5405243145887533, total=  19.4s\n"
     ]
    },
    {
     "name": "stderr",
     "output_type": "stream",
     "text": [
      "[Parallel(n_jobs=-1)]: Done   8 out of   8 | elapsed:  1.1min finished\n"
     ]
    },
    {
     "name": "stdout",
     "output_type": "stream",
     "text": [
      "Best parameters set found on development set:\n",
      "\n",
      "Pipeline(memory=None,\n",
      "     steps=[('vect', TfidfVectorizer(analyzer='word', binary=False, decode_error='strict',\n",
      "        dtype=<class 'numpy.int64'>, encoding='utf-8', input='content',\n",
      "        lowercase=True, max_df=0.8, max_features=None, min_df=1,\n",
      "        ngram_range=(1, 2), norm='l2', preprocessor=None, smooth_idf=True,\n",
      "  ...='l2', power_t=0.5, random_state=None,\n",
      "       shuffle=True, tol=None, verbose=0, warm_start=False))])\n",
      "\n",
      "Grid scores on development set:\n",
      "\n",
      "0.544 (+/-0.001) for {'clf__alpha': 1e-06, 'vect__max_df': 0.8, 'vect__ngram_range': (1, 1)}\n",
      "0.565 (+/-0.001) for {'clf__alpha': 1e-06, 'vect__max_df': 0.8, 'vect__ngram_range': (1, 2)}\n",
      "0.559 (+/-0.000) for {'clf__alpha': 0.0001, 'vect__max_df': 0.8, 'vect__ngram_range': (1, 1)}\n",
      "0.539 (+/-0.001) for {'clf__alpha': 0.0001, 'vect__max_df': 0.8, 'vect__ngram_range': (1, 2)}\n",
      "\n",
      "Fitting 2 folds for each of 4 candidates, totalling 8 fits\n",
      "[CV] clf__alpha=1e-06, vect__max_df=0.8, vect__ngram_range=(1, 1) ....\n",
      "[CV] clf__alpha=1e-06, vect__max_df=0.8, vect__ngram_range=(1, 1) ....\n",
      "[CV] clf__alpha=1e-06, vect__max_df=0.8, vect__ngram_range=(1, 2) ....\n",
      "[CV] clf__alpha=1e-06, vect__max_df=0.8, vect__ngram_range=(1, 2) ....\n",
      "[CV]  clf__alpha=1e-06, vect__max_df=0.8, vect__ngram_range=(1, 1), score=0.5506550655065506, total=  13.7s\n",
      "[CV] clf__alpha=0.0001, vect__max_df=0.8, vect__ngram_range=(1, 1) ...\n",
      "[CV]  clf__alpha=1e-06, vect__max_df=0.8, vect__ngram_range=(1, 1), score=0.5436630989296789, total=  13.6s\n",
      "[CV] clf__alpha=0.0001, vect__max_df=0.8, vect__ngram_range=(1, 1) ...\n",
      "[CV]  clf__alpha=0.0001, vect__max_df=0.8, vect__ngram_range=(1, 1), score=0.5582558255825583, total=  12.7s\n",
      "[CV]  clf__alpha=1e-06, vect__max_df=0.8, vect__ngram_range=(1, 2), score=0.5662566256625663, total=  28.0s\n"
     ]
    },
    {
     "name": "stderr",
     "output_type": "stream",
     "text": [
      "[Parallel(n_jobs=-1)]: Done   4 out of   8 | elapsed:   39.7s remaining:   39.7s\n"
     ]
    },
    {
     "name": "stdout",
     "output_type": "stream",
     "text": [
      "[CV] clf__alpha=0.0001, vect__max_df=0.8, vect__ngram_range=(1, 2) ...\n",
      "[CV]  clf__alpha=0.0001, vect__max_df=0.8, vect__ngram_range=(1, 1), score=0.56036811043313, total=  12.8s\n",
      "[CV]  clf__alpha=1e-06, vect__max_df=0.8, vect__ngram_range=(1, 2), score=0.5626688006401921, total=  28.0s\n",
      "[CV] clf__alpha=0.0001, vect__max_df=0.8, vect__ngram_range=(1, 2) ...\n",
      "[CV]  clf__alpha=0.0001, vect__max_df=0.8, vect__ngram_range=(1, 2), score=0.5403540354035403, total=  18.7s\n",
      "[CV]  clf__alpha=0.0001, vect__max_df=0.8, vect__ngram_range=(1, 2), score=0.5344603381014305, total=  17.5s\n"
     ]
    },
    {
     "name": "stderr",
     "output_type": "stream",
     "text": [
      "[Parallel(n_jobs=-1)]: Done   8 out of   8 | elapsed:  1.1min finished\n"
     ]
    },
    {
     "name": "stdout",
     "output_type": "stream",
     "text": [
      "Best parameters set found on development set:\n",
      "\n",
      "Pipeline(memory=None,\n",
      "     steps=[('vect', TfidfVectorizer(analyzer='word', binary=False, decode_error='strict',\n",
      "        dtype=<class 'numpy.int64'>, encoding='utf-8', input='content',\n",
      "        lowercase=True, max_df=0.8, max_features=None, min_df=1,\n",
      "        ngram_range=(1, 2), norm='l2', preprocessor=None, smooth_idf=True,\n",
      "  ...='l2', power_t=0.5, random_state=None,\n",
      "       shuffle=True, tol=None, verbose=0, warm_start=False))])\n",
      "\n",
      "Grid scores on development set:\n",
      "\n",
      "0.547 (+/-0.002) for {'clf__alpha': 1e-06, 'vect__max_df': 0.8, 'vect__ngram_range': (1, 1)}\n",
      "0.564 (+/-0.001) for {'clf__alpha': 1e-06, 'vect__max_df': 0.8, 'vect__ngram_range': (1, 2)}\n",
      "0.559 (+/-0.001) for {'clf__alpha': 0.0001, 'vect__max_df': 0.8, 'vect__ngram_range': (1, 1)}\n",
      "0.537 (+/-0.001) for {'clf__alpha': 0.0001, 'vect__max_df': 0.8, 'vect__ngram_range': (1, 2)}\n",
      "\n",
      "Fitting 2 folds for each of 4 candidates, totalling 8 fits\n",
      "[CV] clf__alpha=1e-06, vect__max_df=0.8, vect__ngram_range=(1, 1) ....\n",
      "[CV] clf__alpha=1e-06, vect__max_df=0.8, vect__ngram_range=(1, 1) ....\n",
      "[CV] clf__alpha=1e-06, vect__max_df=0.8, vect__ngram_range=(1, 2) ....\n",
      "[CV] clf__alpha=1e-06, vect__max_df=0.8, vect__ngram_range=(1, 2) ....\n",
      "[CV]  clf__alpha=1e-06, vect__max_df=0.8, vect__ngram_range=(1, 1), score=0.5510591526778578, total=  13.2s\n",
      "[CV] clf__alpha=0.0001, vect__max_df=0.8, vect__ngram_range=(1, 1) ...\n",
      "[CV]  clf__alpha=1e-06, vect__max_df=0.8, vect__ngram_range=(1, 1), score=0.5428285857071464, total=  13.4s\n",
      "[CV] clf__alpha=0.0001, vect__max_df=0.8, vect__ngram_range=(1, 1) ...\n",
      "[CV]  clf__alpha=0.0001, vect__max_df=0.8, vect__ngram_range=(1, 1), score=0.5583533173461231, total=  13.3s\n",
      "[CV]  clf__alpha=0.0001, vect__max_df=0.8, vect__ngram_range=(1, 1), score=0.5575212393803098, total=  13.2s\n",
      "[CV] clf__alpha=0.0001, vect__max_df=0.8, vect__ngram_range=(1, 2) ...\n"
     ]
    },
    {
     "name": "stderr",
     "output_type": "stream",
     "text": [
      "[Parallel(n_jobs=-1)]: Done   4 out of   8 | elapsed:   39.4s remaining:   39.4s\n"
     ]
    },
    {
     "name": "stdout",
     "output_type": "stream",
     "text": [
      "[CV]  clf__alpha=1e-06, vect__max_df=0.8, vect__ngram_range=(1, 2), score=0.5671462829736211, total=  29.0s\n",
      "[CV] clf__alpha=0.0001, vect__max_df=0.8, vect__ngram_range=(1, 2) ...\n",
      "[CV]  clf__alpha=1e-06, vect__max_df=0.8, vect__ngram_range=(1, 2), score=0.5617191404297851, total=  28.5s\n",
      "[CV]  clf__alpha=0.0001, vect__max_df=0.8, vect__ngram_range=(1, 2), score=0.5390687450039968, total=  18.8s\n",
      "[CV]  clf__alpha=0.0001, vect__max_df=0.8, vect__ngram_range=(1, 2), score=0.536431784107946, total=  19.2s\n"
     ]
    },
    {
     "name": "stderr",
     "output_type": "stream",
     "text": [
      "[Parallel(n_jobs=-1)]: Done   8 out of   8 | elapsed:  1.1min finished\n"
     ]
    },
    {
     "name": "stdout",
     "output_type": "stream",
     "text": [
      "Best parameters set found on development set:\n",
      "\n",
      "Pipeline(memory=None,\n",
      "     steps=[('vect', TfidfVectorizer(analyzer='word', binary=False, decode_error='strict',\n",
      "        dtype=<class 'numpy.int64'>, encoding='utf-8', input='content',\n",
      "        lowercase=True, max_df=0.8, max_features=None, min_df=1,\n",
      "        ngram_range=(1, 2), norm='l2', preprocessor=None, smooth_idf=True,\n",
      "  ...='l2', power_t=0.5, random_state=None,\n",
      "       shuffle=True, tol=None, verbose=0, warm_start=False))])\n",
      "\n",
      "Grid scores on development set:\n",
      "\n",
      "0.547 (+/-0.002) for {'clf__alpha': 1e-06, 'vect__max_df': 0.8, 'vect__ngram_range': (1, 1)}\n",
      "0.564 (+/-0.001) for {'clf__alpha': 1e-06, 'vect__max_df': 0.8, 'vect__ngram_range': (1, 2)}\n",
      "0.558 (+/-0.000) for {'clf__alpha': 0.0001, 'vect__max_df': 0.8, 'vect__ngram_range': (1, 1)}\n",
      "0.538 (+/-0.001) for {'clf__alpha': 0.0001, 'vect__max_df': 0.8, 'vect__ngram_range': (1, 2)}\n",
      "\n",
      "Fitting 2 folds for each of 4 candidates, totalling 8 fits\n",
      "[CV] clf__alpha=1e-06, vect__max_df=0.8, vect__ngram_range=(1, 1) ....\n",
      "[CV] clf__alpha=1e-06, vect__max_df=0.8, vect__ngram_range=(1, 1) ....\n",
      "[CV] clf__alpha=1e-06, vect__max_df=0.8, vect__ngram_range=(1, 2) ....\n",
      "[CV] clf__alpha=1e-06, vect__max_df=0.8, vect__ngram_range=(1, 2) ....\n",
      "[CV]  clf__alpha=1e-06, vect__max_df=0.8, vect__ngram_range=(1, 1), score=0.5495450454954505, total=  12.7s\n",
      "[CV]  clf__alpha=1e-06, vect__max_df=0.8, vect__ngram_range=(1, 1), score=0.5406540654065407, total=  13.0s\n",
      "[CV] clf__alpha=0.0001, vect__max_df=0.8, vect__ngram_range=(1, 1) ...\n",
      "[CV] clf__alpha=0.0001, vect__max_df=0.8, vect__ngram_range=(1, 1) ...\n",
      "[CV]  clf__alpha=1e-06, vect__max_df=0.8, vect__ngram_range=(1, 2), score=0.5622437756224378, total=  28.1s\n",
      "[CV]  clf__alpha=0.0001, vect__max_df=0.8, vect__ngram_range=(1, 1), score=0.5578442155784421, total=  13.2s\n"
     ]
    },
    {
     "name": "stderr",
     "output_type": "stream",
     "text": [
      "[Parallel(n_jobs=-1)]: Done   4 out of   8 | elapsed:   39.9s remaining:   39.9s\n"
     ]
    },
    {
     "name": "stdout",
     "output_type": "stream",
     "text": [
      "[CV]  clf__alpha=1e-06, vect__max_df=0.8, vect__ngram_range=(1, 2), score=0.5634563456345635, total=  28.0s\n",
      "[CV]  clf__alpha=0.0001, vect__max_df=0.8, vect__ngram_range=(1, 1), score=0.5587558755875588, total=  13.1s\n",
      "[CV] clf__alpha=0.0001, vect__max_df=0.8, vect__ngram_range=(1, 2) ...\n",
      "[CV] clf__alpha=0.0001, vect__max_df=0.8, vect__ngram_range=(1, 2) ...\n",
      "[CV]  clf__alpha=0.0001, vect__max_df=0.8, vect__ngram_range=(1, 2), score=0.5423457654234577, total=  17.7s\n",
      "[CV]  clf__alpha=0.0001, vect__max_df=0.8, vect__ngram_range=(1, 2), score=0.5431543154315431, total=  18.5s\n"
     ]
    },
    {
     "name": "stderr",
     "output_type": "stream",
     "text": [
      "[Parallel(n_jobs=-1)]: Done   8 out of   8 | elapsed:  1.1min finished\n"
     ]
    },
    {
     "name": "stdout",
     "output_type": "stream",
     "text": [
      "Best parameters set found on development set:\n",
      "\n",
      "Pipeline(memory=None,\n",
      "     steps=[('vect', TfidfVectorizer(analyzer='word', binary=False, decode_error='strict',\n",
      "        dtype=<class 'numpy.int64'>, encoding='utf-8', input='content',\n",
      "        lowercase=True, max_df=0.8, max_features=None, min_df=1,\n",
      "        ngram_range=(1, 2), norm='l2', preprocessor=None, smooth_idf=True,\n",
      "  ...='l2', power_t=0.5, random_state=None,\n",
      "       shuffle=True, tol=None, verbose=0, warm_start=False))])\n",
      "\n",
      "Grid scores on development set:\n",
      "\n",
      "0.545 (+/-0.002) for {'clf__alpha': 1e-06, 'vect__max_df': 0.8, 'vect__ngram_range': (1, 1)}\n",
      "0.563 (+/-0.000) for {'clf__alpha': 1e-06, 'vect__max_df': 0.8, 'vect__ngram_range': (1, 2)}\n",
      "0.558 (+/-0.000) for {'clf__alpha': 0.0001, 'vect__max_df': 0.8, 'vect__ngram_range': (1, 1)}\n",
      "0.543 (+/-0.000) for {'clf__alpha': 0.0001, 'vect__max_df': 0.8, 'vect__ngram_range': (1, 2)}\n",
      "\n",
      "Fitting 2 folds for each of 4 candidates, totalling 8 fits\n",
      "[CV] clf__alpha=1e-06, vect__max_df=0.8, vect__ngram_range=(1, 1) ....\n",
      "[CV] clf__alpha=1e-06, vect__max_df=0.8, vect__ngram_range=(1, 1) ....\n",
      "[CV] clf__alpha=1e-06, vect__max_df=0.8, vect__ngram_range=(1, 2) ....\n",
      "[CV] clf__alpha=1e-06, vect__max_df=0.8, vect__ngram_range=(1, 2) ....\n",
      "[CV]  clf__alpha=1e-06, vect__max_df=0.8, vect__ngram_range=(1, 1), score=0.5500600720865038, total=  13.2s\n",
      "[CV]  clf__alpha=1e-06, vect__max_df=0.8, vect__ngram_range=(1, 1), score=0.5404025232802644, total=  13.3s\n",
      "[CV] clf__alpha=0.0001, vect__max_df=0.8, vect__ngram_range=(1, 1) ...\n",
      "[CV] clf__alpha=0.0001, vect__max_df=0.8, vect__ngram_range=(1, 1) ...\n",
      "[CV]  clf__alpha=1e-06, vect__max_df=0.8, vect__ngram_range=(1, 2), score=0.5635762915498599, total=  28.7s\n",
      "[CV]  clf__alpha=0.0001, vect__max_df=0.8, vect__ngram_range=(1, 1), score=0.5587705246295555, total=  13.7s\n"
     ]
    },
    {
     "name": "stderr",
     "output_type": "stream",
     "text": [
      "[Parallel(n_jobs=-1)]: Done   4 out of   8 | elapsed:   41.1s remaining:   41.1s\n"
     ]
    },
    {
     "name": "stdout",
     "output_type": "stream",
     "text": [
      "[CV]  clf__alpha=0.0001, vect__max_df=0.8, vect__ngram_range=(1, 1), score=0.557524782216882, total=  13.9s\n",
      "[CV]  clf__alpha=1e-06, vect__max_df=0.8, vect__ngram_range=(1, 2), score=0.5628316811855412, total=  29.0s\n",
      "[CV] clf__alpha=0.0001, vect__max_df=0.8, vect__ngram_range=(1, 2) ...\n",
      "[CV] clf__alpha=0.0001, vect__max_df=0.8, vect__ngram_range=(1, 2) ...\n",
      "[CV]  clf__alpha=0.0001, vect__max_df=0.8, vect__ngram_range=(1, 2), score=0.540548658390068, total=  17.5s\n",
      "[CV]  clf__alpha=0.0001, vect__max_df=0.8, vect__ngram_range=(1, 2), score=0.5363973165114649, total=  19.2s\n"
     ]
    },
    {
     "name": "stderr",
     "output_type": "stream",
     "text": [
      "[Parallel(n_jobs=-1)]: Done   8 out of   8 | elapsed:  1.1min finished\n"
     ]
    },
    {
     "name": "stdout",
     "output_type": "stream",
     "text": [
      "Best parameters set found on development set:\n",
      "\n",
      "Pipeline(memory=None,\n",
      "     steps=[('vect', TfidfVectorizer(analyzer='word', binary=False, decode_error='strict',\n",
      "        dtype=<class 'numpy.int64'>, encoding='utf-8', input='content',\n",
      "        lowercase=True, max_df=0.8, max_features=None, min_df=1,\n",
      "        ngram_range=(1, 2), norm='l2', preprocessor=None, smooth_idf=True,\n",
      "  ...='l2', power_t=0.5, random_state=None,\n",
      "       shuffle=True, tol=None, verbose=0, warm_start=False))])\n",
      "\n",
      "Grid scores on development set:\n",
      "\n",
      "0.545 (+/-0.002) for {'clf__alpha': 1e-06, 'vect__max_df': 0.8, 'vect__ngram_range': (1, 1)}\n",
      "0.563 (+/-0.000) for {'clf__alpha': 1e-06, 'vect__max_df': 0.8, 'vect__ngram_range': (1, 2)}\n",
      "0.558 (+/-0.000) for {'clf__alpha': 0.0001, 'vect__max_df': 0.8, 'vect__ngram_range': (1, 1)}\n",
      "0.538 (+/-0.001) for {'clf__alpha': 0.0001, 'vect__max_df': 0.8, 'vect__ngram_range': (1, 2)}\n",
      "\n",
      "Fitting 2 folds for each of 4 candidates, totalling 8 fits\n",
      "[CV] clf__alpha=1e-06, vect__max_df=0.8, vect__ngram_range=(1, 1) ....\n",
      "[CV] clf__alpha=1e-06, vect__max_df=0.8, vect__ngram_range=(1, 1) ....\n",
      "[CV] clf__alpha=1e-06, vect__max_df=0.8, vect__ngram_range=(1, 2) ....\n",
      "[CV] clf__alpha=1e-06, vect__max_df=0.8, vect__ngram_range=(1, 2) ....\n",
      "[CV]  clf__alpha=1e-06, vect__max_df=0.8, vect__ngram_range=(1, 1), score=0.5503503503503504, total=  13.3s\n",
      "[CV] clf__alpha=0.0001, vect__max_df=0.8, vect__ngram_range=(1, 1) ...\n",
      "[CV]  clf__alpha=1e-06, vect__max_df=0.8, vect__ngram_range=(1, 1), score=0.5446535843011614, total=  13.6s\n",
      "[CV] clf__alpha=0.0001, vect__max_df=0.8, vect__ngram_range=(1, 1) ...\n",
      "[CV]  clf__alpha=0.0001, vect__max_df=0.8, vect__ngram_range=(1, 1), score=0.5594594594594594, total=  12.5s\n",
      "[CV]  clf__alpha=0.0001, vect__max_df=0.8, vect__ngram_range=(1, 1), score=0.5622747296756108, total=  12.4s\n",
      "[CV] clf__alpha=0.0001, vect__max_df=0.8, vect__ngram_range=(1, 2) ...\n"
     ]
    },
    {
     "name": "stderr",
     "output_type": "stream",
     "text": [
      "[Parallel(n_jobs=-1)]: Done   4 out of   8 | elapsed:   39.1s remaining:   39.1s\n"
     ]
    },
    {
     "name": "stdout",
     "output_type": "stream",
     "text": [
      "[CV] clf__alpha=0.0001, vect__max_df=0.8, vect__ngram_range=(1, 2) ...\n",
      "[CV]  clf__alpha=1e-06, vect__max_df=0.8, vect__ngram_range=(1, 2), score=0.5683683683683683, total=  28.8s\n",
      "[CV]  clf__alpha=1e-06, vect__max_df=0.8, vect__ngram_range=(1, 2), score=0.5605726872246696, total=  28.1s\n",
      "[CV]  clf__alpha=0.0001, vect__max_df=0.8, vect__ngram_range=(1, 2), score=0.5422422422422423, total=  19.6s\n",
      "[CV]  clf__alpha=0.0001, vect__max_df=0.8, vect__ngram_range=(1, 2), score=0.539146976371646, total=  19.9s\n"
     ]
    },
    {
     "name": "stderr",
     "output_type": "stream",
     "text": [
      "[Parallel(n_jobs=-1)]: Done   8 out of   8 | elapsed:  1.1min finished\n"
     ]
    },
    {
     "name": "stdout",
     "output_type": "stream",
     "text": [
      "Best parameters set found on development set:\n",
      "\n",
      "Pipeline(memory=None,\n",
      "     steps=[('vect', TfidfVectorizer(analyzer='word', binary=False, decode_error='strict',\n",
      "        dtype=<class 'numpy.int64'>, encoding='utf-8', input='content',\n",
      "        lowercase=True, max_df=0.8, max_features=None, min_df=1,\n",
      "        ngram_range=(1, 2), norm='l2', preprocessor=None, smooth_idf=True,\n",
      "  ...='l2', power_t=0.5, random_state=None,\n",
      "       shuffle=True, tol=None, verbose=0, warm_start=False))])\n",
      "\n",
      "Grid scores on development set:\n",
      "\n",
      "0.548 (+/-0.001) for {'clf__alpha': 1e-06, 'vect__max_df': 0.8, 'vect__ngram_range': (1, 1)}\n",
      "0.564 (+/-0.002) for {'clf__alpha': 1e-06, 'vect__max_df': 0.8, 'vect__ngram_range': (1, 2)}\n",
      "0.561 (+/-0.001) for {'clf__alpha': 0.0001, 'vect__max_df': 0.8, 'vect__ngram_range': (1, 1)}\n",
      "0.541 (+/-0.001) for {'clf__alpha': 0.0001, 'vect__max_df': 0.8, 'vect__ngram_range': (1, 2)}\n",
      "\n",
      "Fitting 2 folds for each of 4 candidates, totalling 8 fits\n",
      "[CV] clf__alpha=1e-06, vect__max_df=0.8, vect__ngram_range=(1, 1) ....\n",
      "[CV] clf__alpha=1e-06, vect__max_df=0.8, vect__ngram_range=(1, 1) ....\n",
      "[CV] clf__alpha=1e-06, vect__max_df=0.8, vect__ngram_range=(1, 2) ....\n",
      "[CV] clf__alpha=1e-06, vect__max_df=0.8, vect__ngram_range=(1, 2) ....\n",
      "[CV]  clf__alpha=1e-06, vect__max_df=0.8, vect__ngram_range=(1, 1), score=0.5489804078368653, total=  12.3s\n",
      "[CV] clf__alpha=0.0001, vect__max_df=0.8, vect__ngram_range=(1, 1) ...\n",
      "[CV]  clf__alpha=1e-06, vect__max_df=0.8, vect__ngram_range=(1, 1), score=0.5414375687293812, total=  12.6s\n",
      "[CV] clf__alpha=0.0001, vect__max_df=0.8, vect__ngram_range=(1, 1) ...\n",
      "[CV]  clf__alpha=0.0001, vect__max_df=0.8, vect__ngram_range=(1, 1), score=0.5580767692922831, total=  13.2s\n",
      "[CV] clf__alpha=0.0001, vect__max_df=0.8, vect__ngram_range=(1, 2) ...\n",
      "[CV]  clf__alpha=1e-06, vect__max_df=0.8, vect__ngram_range=(1, 2), score=0.5654738104758097, total=  27.9s\n"
     ]
    },
    {
     "name": "stderr",
     "output_type": "stream",
     "text": [
      "[Parallel(n_jobs=-1)]: Done   4 out of   8 | elapsed:   39.7s remaining:   39.7s\n"
     ]
    },
    {
     "name": "stdout",
     "output_type": "stream",
     "text": [
      "[CV]  clf__alpha=0.0001, vect__max_df=0.8, vect__ngram_range=(1, 1), score=0.5577326801959412, total=  13.5s\n",
      "[CV]  clf__alpha=1e-06, vect__max_df=0.8, vect__ngram_range=(1, 2), score=0.5607317804658603, total=  28.1s\n",
      "[CV] clf__alpha=0.0001, vect__max_df=0.8, vect__ngram_range=(1, 2) ...\n",
      "[CV]  clf__alpha=0.0001, vect__max_df=0.8, vect__ngram_range=(1, 2), score=0.5391843262694922, total=  18.0s\n",
      "[CV]  clf__alpha=0.0001, vect__max_df=0.8, vect__ngram_range=(1, 2), score=0.5391382585224432, total=  18.5s\n"
     ]
    },
    {
     "name": "stderr",
     "output_type": "stream",
     "text": [
      "[Parallel(n_jobs=-1)]: Done   8 out of   8 | elapsed:  1.1min finished\n"
     ]
    },
    {
     "name": "stdout",
     "output_type": "stream",
     "text": [
      "Best parameters set found on development set:\n",
      "\n",
      "Pipeline(memory=None,\n",
      "     steps=[('vect', TfidfVectorizer(analyzer='word', binary=False, decode_error='strict',\n",
      "        dtype=<class 'numpy.int64'>, encoding='utf-8', input='content',\n",
      "        lowercase=True, max_df=0.8, max_features=None, min_df=1,\n",
      "        ngram_range=(1, 2), norm='l2', preprocessor=None, smooth_idf=True,\n",
      "  ...='l2', power_t=0.5, random_state=None,\n",
      "       shuffle=True, tol=None, verbose=0, warm_start=False))])\n",
      "\n",
      "Grid scores on development set:\n",
      "\n",
      "0.545 (+/-0.002) for {'clf__alpha': 1e-06, 'vect__max_df': 0.8, 'vect__ngram_range': (1, 1)}\n",
      "0.563 (+/-0.001) for {'clf__alpha': 1e-06, 'vect__max_df': 0.8, 'vect__ngram_range': (1, 2)}\n",
      "0.558 (+/-0.000) for {'clf__alpha': 0.0001, 'vect__max_df': 0.8, 'vect__ngram_range': (1, 1)}\n",
      "0.539 (+/-0.000) for {'clf__alpha': 0.0001, 'vect__max_df': 0.8, 'vect__ngram_range': (1, 2)}\n",
      "\n",
      "Fitting 2 folds for each of 4 candidates, totalling 8 fits\n",
      "[CV] clf__alpha=1e-06, vect__max_df=0.8, vect__ngram_range=(1, 1) ....\n",
      "[CV] clf__alpha=1e-06, vect__max_df=0.8, vect__ngram_range=(1, 1) ....\n",
      "[CV] clf__alpha=1e-06, vect__max_df=0.8, vect__ngram_range=(1, 2) ....\n",
      "[CV] clf__alpha=1e-06, vect__max_df=0.8, vect__ngram_range=(1, 2) ....\n",
      "[CV]  clf__alpha=1e-06, vect__max_df=0.8, vect__ngram_range=(1, 1), score=0.5491450854914508, total=  13.1s\n",
      "[CV]  clf__alpha=1e-06, vect__max_df=0.8, vect__ngram_range=(1, 1), score=0.5408540854085409, total=  13.2s\n",
      "[CV] clf__alpha=0.0001, vect__max_df=0.8, vect__ngram_range=(1, 1) ...\n",
      "[CV] clf__alpha=0.0001, vect__max_df=0.8, vect__ngram_range=(1, 1) ...\n",
      "[CV]  clf__alpha=0.0001, vect__max_df=0.8, vect__ngram_range=(1, 1), score=0.557044295570443, total=  12.9s\n",
      "[CV] clf__alpha=0.0001, vect__max_df=0.8, vect__ngram_range=(1, 2) ...\n",
      "[CV]  clf__alpha=0.0001, vect__max_df=0.8, vect__ngram_range=(1, 1), score=0.5589558955895589, total=  12.8s\n",
      "[CV]  clf__alpha=1e-06, vect__max_df=0.8, vect__ngram_range=(1, 2), score=0.5641435856414359, total=  29.1s\n"
     ]
    },
    {
     "name": "stderr",
     "output_type": "stream",
     "text": [
      "[Parallel(n_jobs=-1)]: Done   4 out of   8 | elapsed:   39.8s remaining:   39.8s\n"
     ]
    },
    {
     "name": "stdout",
     "output_type": "stream",
     "text": [
      "[CV] clf__alpha=0.0001, vect__max_df=0.8, vect__ngram_range=(1, 2) ...\n",
      "[CV]  clf__alpha=1e-06, vect__max_df=0.8, vect__ngram_range=(1, 2), score=0.5628562856285628, total=  29.1s\n",
      "[CV]  clf__alpha=0.0001, vect__max_df=0.8, vect__ngram_range=(1, 2), score=0.5348534853485348, total=  19.0s\n",
      "[CV]  clf__alpha=0.0001, vect__max_df=0.8, vect__ngram_range=(1, 2), score=0.5389461053894611, total=  19.3s\n"
     ]
    },
    {
     "name": "stderr",
     "output_type": "stream",
     "text": [
      "[Parallel(n_jobs=-1)]: Done   8 out of   8 | elapsed:  1.1min finished\n"
     ]
    },
    {
     "name": "stdout",
     "output_type": "stream",
     "text": [
      "Best parameters set found on development set:\n",
      "\n",
      "Pipeline(memory=None,\n",
      "     steps=[('vect', TfidfVectorizer(analyzer='word', binary=False, decode_error='strict',\n",
      "        dtype=<class 'numpy.int64'>, encoding='utf-8', input='content',\n",
      "        lowercase=True, max_df=0.8, max_features=None, min_df=1,\n",
      "        ngram_range=(1, 2), norm='l2', preprocessor=None, smooth_idf=True,\n",
      "  ...='l2', power_t=0.5, random_state=None,\n",
      "       shuffle=True, tol=None, verbose=0, warm_start=False))])\n",
      "\n",
      "Grid scores on development set:\n",
      "\n",
      "0.545 (+/-0.002) for {'clf__alpha': 1e-06, 'vect__max_df': 0.8, 'vect__ngram_range': (1, 1)}\n",
      "0.564 (+/-0.000) for {'clf__alpha': 1e-06, 'vect__max_df': 0.8, 'vect__ngram_range': (1, 2)}\n",
      "0.558 (+/-0.000) for {'clf__alpha': 0.0001, 'vect__max_df': 0.8, 'vect__ngram_range': (1, 1)}\n",
      "0.537 (+/-0.001) for {'clf__alpha': 0.0001, 'vect__max_df': 0.8, 'vect__ngram_range': (1, 2)}\n",
      "\n",
      "Fitting 2 folds for each of 4 candidates, totalling 8 fits\n",
      "[CV] clf__alpha=1e-06, vect__max_df=0.8, vect__ngram_range=(1, 1) ....\n",
      "[CV] clf__alpha=1e-06, vect__max_df=0.8, vect__ngram_range=(1, 1) ....\n",
      "[CV] clf__alpha=1e-06, vect__max_df=0.8, vect__ngram_range=(1, 2) ....\n",
      "[CV] clf__alpha=1e-06, vect__max_df=0.8, vect__ngram_range=(1, 2) ....\n",
      "[CV]  clf__alpha=1e-06, vect__max_df=0.8, vect__ngram_range=(1, 1), score=0.5455998401758066, total=  12.8s\n",
      "[CV]  clf__alpha=1e-06, vect__max_df=0.8, vect__ngram_range=(1, 1), score=0.5408132680587471, total=  13.0s\n",
      "[CV] clf__alpha=0.0001, vect__max_df=0.8, vect__ngram_range=(1, 1) ...\n",
      "[CV] clf__alpha=0.0001, vect__max_df=0.8, vect__ngram_range=(1, 1) ...\n",
      "[CV]  clf__alpha=0.0001, vect__max_df=0.8, vect__ngram_range=(1, 1), score=0.557286984317251, total=  12.0s\n",
      "[CV] clf__alpha=0.0001, vect__max_df=0.8, vect__ngram_range=(1, 2) ...\n",
      "[CV]  clf__alpha=1e-06, vect__max_df=0.8, vect__ngram_range=(1, 2), score=0.5677754470082909, total=  28.0s\n",
      "[CV]  clf__alpha=0.0001, vect__max_df=0.8, vect__ngram_range=(1, 1), score=0.5606953741632531, total=  12.2s\n"
     ]
    },
    {
     "name": "stderr",
     "output_type": "stream",
     "text": [
      "[Parallel(n_jobs=-1)]: Done   4 out of   8 | elapsed:   39.4s remaining:   39.4s\n"
     ]
    },
    {
     "name": "stdout",
     "output_type": "stream",
     "text": [
      "[CV] clf__alpha=0.0001, vect__max_df=0.8, vect__ngram_range=(1, 2) ...\n",
      "[CV]  clf__alpha=1e-06, vect__max_df=0.8, vect__ngram_range=(1, 2), score=0.5652912378859027, total=  27.9s\n",
      "[CV]  clf__alpha=0.0001, vect__max_df=0.8, vect__ngram_range=(1, 2), score=0.5372090700229747, total=  20.0s\n",
      "[CV]  clf__alpha=0.0001, vect__max_df=0.8, vect__ngram_range=(1, 2), score=0.5429113797582176, total=  19.5s\n"
     ]
    },
    {
     "name": "stderr",
     "output_type": "stream",
     "text": [
      "[Parallel(n_jobs=-1)]: Done   8 out of   8 | elapsed:  1.1min finished\n"
     ]
    },
    {
     "name": "stdout",
     "output_type": "stream",
     "text": [
      "Best parameters set found on development set:\n",
      "\n",
      "Pipeline(memory=None,\n",
      "     steps=[('vect', TfidfVectorizer(analyzer='word', binary=False, decode_error='strict',\n",
      "        dtype=<class 'numpy.int64'>, encoding='utf-8', input='content',\n",
      "        lowercase=True, max_df=0.8, max_features=None, min_df=1,\n",
      "        ngram_range=(1, 2), norm='l2', preprocessor=None, smooth_idf=True,\n",
      "  ...='l2', power_t=0.5, random_state=None,\n",
      "       shuffle=True, tol=None, verbose=0, warm_start=False))])\n",
      "\n",
      "Grid scores on development set:\n",
      "\n",
      "0.543 (+/-0.001) for {'clf__alpha': 1e-06, 'vect__max_df': 0.8, 'vect__ngram_range': (1, 1)}\n",
      "0.567 (+/-0.001) for {'clf__alpha': 1e-06, 'vect__max_df': 0.8, 'vect__ngram_range': (1, 2)}\n",
      "0.559 (+/-0.001) for {'clf__alpha': 0.0001, 'vect__max_df': 0.8, 'vect__ngram_range': (1, 1)}\n",
      "0.540 (+/-0.001) for {'clf__alpha': 0.0001, 'vect__max_df': 0.8, 'vect__ngram_range': (1, 2)}\n",
      "\n",
      "Fitting 2 folds for each of 4 candidates, totalling 8 fits\n",
      "[CV] clf__alpha=1e-06, vect__max_df=0.8, vect__ngram_range=(1, 1) ....\n",
      "[CV] clf__alpha=1e-06, vect__max_df=0.8, vect__ngram_range=(1, 1) ....\n",
      "[CV] clf__alpha=1e-06, vect__max_df=0.8, vect__ngram_range=(1, 2) ....\n",
      "[CV] clf__alpha=1e-06, vect__max_df=0.8, vect__ngram_range=(1, 2) ....\n",
      "[CV]  clf__alpha=1e-06, vect__max_df=0.8, vect__ngram_range=(1, 1), score=0.5467402206619859, total=  12.8s\n",
      "[CV] clf__alpha=0.0001, vect__max_df=0.8, vect__ngram_range=(1, 1) ...\n",
      "[CV]  clf__alpha=1e-06, vect__max_df=0.8, vect__ngram_range=(1, 1), score=0.5416875689776262, total=  13.4s\n",
      "[CV] clf__alpha=0.0001, vect__max_df=0.8, vect__ngram_range=(1, 1) ...\n",
      "[CV]  clf__alpha=0.0001, vect__max_df=0.8, vect__ngram_range=(1, 1), score=0.5583751253761284, total=  12.7s\n",
      "[CV] clf__alpha=0.0001, vect__max_df=0.8, vect__ngram_range=(1, 2) ...\n",
      "[CV]  clf__alpha=0.0001, vect__max_df=0.8, vect__ngram_range=(1, 1), score=0.5589445169057891, total=  12.5s\n"
     ]
    },
    {
     "name": "stderr",
     "output_type": "stream",
     "text": [
      "[Parallel(n_jobs=-1)]: Done   4 out of   8 | elapsed:   39.0s remaining:   39.0s\n"
     ]
    },
    {
     "name": "stdout",
     "output_type": "stream",
     "text": [
      "[CV] clf__alpha=0.0001, vect__max_df=0.8, vect__ngram_range=(1, 2) ...\n",
      "[CV]  clf__alpha=1e-06, vect__max_df=0.8, vect__ngram_range=(1, 2), score=0.567703109327984, total=  28.2s\n",
      "[CV]  clf__alpha=1e-06, vect__max_df=0.8, vect__ngram_range=(1, 2), score=0.5635597471656466, total=  28.3s\n",
      "[CV]  clf__alpha=0.0001, vect__max_df=0.8, vect__ngram_range=(1, 2), score=0.5376743252734022, total=  18.0s\n",
      "[CV]  clf__alpha=0.0001, vect__max_df=0.8, vect__ngram_range=(1, 2), score=0.5352056168505517, total=  19.0s\n"
     ]
    },
    {
     "name": "stderr",
     "output_type": "stream",
     "text": [
      "[Parallel(n_jobs=-1)]: Done   8 out of   8 | elapsed:  1.1min finished\n"
     ]
    },
    {
     "name": "stdout",
     "output_type": "stream",
     "text": [
      "Best parameters set found on development set:\n",
      "\n",
      "Pipeline(memory=None,\n",
      "     steps=[('vect', TfidfVectorizer(analyzer='word', binary=False, decode_error='strict',\n",
      "        dtype=<class 'numpy.int64'>, encoding='utf-8', input='content',\n",
      "        lowercase=True, max_df=0.8, max_features=None, min_df=1,\n",
      "        ngram_range=(1, 2), norm='l2', preprocessor=None, smooth_idf=True,\n",
      "  ...='l2', power_t=0.5, random_state=None,\n",
      "       shuffle=True, tol=None, verbose=0, warm_start=False))])\n",
      "\n",
      "Grid scores on development set:\n",
      "\n",
      "0.544 (+/-0.001) for {'clf__alpha': 1e-06, 'vect__max_df': 0.8, 'vect__ngram_range': (1, 1)}\n",
      "0.566 (+/-0.001) for {'clf__alpha': 1e-06, 'vect__max_df': 0.8, 'vect__ngram_range': (1, 2)}\n",
      "0.559 (+/-0.000) for {'clf__alpha': 0.0001, 'vect__max_df': 0.8, 'vect__ngram_range': (1, 1)}\n",
      "0.536 (+/-0.001) for {'clf__alpha': 0.0001, 'vect__max_df': 0.8, 'vect__ngram_range': (1, 2)}\n",
      "\n",
      "Fitting 2 folds for each of 4 candidates, totalling 8 fits\n",
      "[CV] clf__alpha=1e-06, vect__max_df=0.8, vect__ngram_range=(1, 1) ....\n",
      "[CV] clf__alpha=1e-06, vect__max_df=0.8, vect__ngram_range=(1, 1) ....\n",
      "[CV] clf__alpha=1e-06, vect__max_df=0.8, vect__ngram_range=(1, 2) ....\n",
      "[CV] clf__alpha=1e-06, vect__max_df=0.8, vect__ngram_range=(1, 2) ....\n",
      "[CV]  clf__alpha=1e-06, vect__max_df=0.8, vect__ngram_range=(1, 1), score=0.5482965931863727, total=  12.2s\n",
      "[CV] clf__alpha=0.0001, vect__max_df=0.8, vect__ngram_range=(1, 1) ...\n",
      "[CV]  clf__alpha=1e-06, vect__max_df=0.8, vect__ngram_range=(1, 1), score=0.5424476295479603, total=  12.6s\n",
      "[CV] clf__alpha=0.0001, vect__max_df=0.8, vect__ngram_range=(1, 1) ...\n",
      "[CV]  clf__alpha=0.0001, vect__max_df=0.8, vect__ngram_range=(1, 1), score=0.5549098196392785, total=  11.7s\n",
      "[CV] clf__alpha=0.0001, vect__max_df=0.8, vect__ngram_range=(1, 2) ...\n",
      "[CV]  clf__alpha=0.0001, vect__max_df=0.8, vect__ngram_range=(1, 1), score=0.5592863586248371, total=  12.0s\n"
     ]
    },
    {
     "name": "stderr",
     "output_type": "stream",
     "text": [
      "[Parallel(n_jobs=-1)]: Done   4 out of   8 | elapsed:   37.1s remaining:   37.1s\n"
     ]
    },
    {
     "name": "stdout",
     "output_type": "stream",
     "text": [
      "[CV]  clf__alpha=1e-06, vect__max_df=0.8, vect__ngram_range=(1, 2), score=0.5673346693386774, total=  26.7s\n",
      "[CV] clf__alpha=0.0001, vect__max_df=0.8, vect__ngram_range=(1, 2) ...\n",
      "[CV]  clf__alpha=1e-06, vect__max_df=0.8, vect__ngram_range=(1, 2), score=0.5622932745314223, total=  26.2s\n",
      "[CV]  clf__alpha=0.0001, vect__max_df=0.8, vect__ngram_range=(1, 2), score=0.5415831663326653, total=  19.4s\n",
      "[CV]  clf__alpha=0.0001, vect__max_df=0.8, vect__ngram_range=(1, 2), score=0.5389395609902776, total=  18.5s\n"
     ]
    },
    {
     "name": "stderr",
     "output_type": "stream",
     "text": [
      "[Parallel(n_jobs=-1)]: Done   8 out of   8 | elapsed:  1.0min finished\n"
     ]
    },
    {
     "name": "stdout",
     "output_type": "stream",
     "text": [
      "Best parameters set found on development set:\n",
      "\n",
      "Pipeline(memory=None,\n",
      "     steps=[('vect', TfidfVectorizer(analyzer='word', binary=False, decode_error='strict',\n",
      "        dtype=<class 'numpy.int64'>, encoding='utf-8', input='content',\n",
      "        lowercase=True, max_df=0.8, max_features=None, min_df=1,\n",
      "        ngram_range=(1, 2), norm='l2', preprocessor=None, smooth_idf=True,\n",
      "  ...='l2', power_t=0.5, random_state=None,\n",
      "       shuffle=True, tol=None, verbose=0, warm_start=False))])\n",
      "\n",
      "Grid scores on development set:\n",
      "\n",
      "0.545 (+/-0.001) for {'clf__alpha': 1e-06, 'vect__max_df': 0.8, 'vect__ngram_range': (1, 1)}\n",
      "0.565 (+/-0.001) for {'clf__alpha': 1e-06, 'vect__max_df': 0.8, 'vect__ngram_range': (1, 2)}\n",
      "0.557 (+/-0.001) for {'clf__alpha': 0.0001, 'vect__max_df': 0.8, 'vect__ngram_range': (1, 1)}\n",
      "0.540 (+/-0.001) for {'clf__alpha': 0.0001, 'vect__max_df': 0.8, 'vect__ngram_range': (1, 2)}\n",
      "\n",
      "Fitting 2 folds for each of 4 candidates, totalling 8 fits\n",
      "[CV] clf__alpha=1e-06, vect__max_df=0.8, vect__ngram_range=(1, 1) ....\n",
      "[CV] clf__alpha=1e-06, vect__max_df=0.8, vect__ngram_range=(1, 1) ....\n",
      "[CV] clf__alpha=1e-06, vect__max_df=0.8, vect__ngram_range=(1, 2) ....\n",
      "[CV] clf__alpha=1e-06, vect__max_df=0.8, vect__ngram_range=(1, 2) ....\n",
      "[CV]  clf__alpha=1e-06, vect__max_df=0.8, vect__ngram_range=(1, 1), score=0.5448096712958338, total=  11.8s\n",
      "[CV]  clf__alpha=1e-06, vect__max_df=0.8, vect__ngram_range=(1, 1), score=0.5404217048066353, total=  12.2s\n",
      "[CV] clf__alpha=0.0001, vect__max_df=0.8, vect__ngram_range=(1, 1) ...\n",
      "[CV] clf__alpha=0.0001, vect__max_df=0.8, vect__ngram_range=(1, 1) ...\n",
      "[CV]  clf__alpha=0.0001, vect__max_df=0.8, vect__ngram_range=(1, 1), score=0.5587970826256369, total=  11.8s\n",
      "[CV]  clf__alpha=0.0001, vect__max_df=0.8, vect__ngram_range=(1, 1), score=0.5606075746977116, total=  11.6s\n"
     ]
    },
    {
     "name": "stderr",
     "output_type": "stream",
     "text": [
      "[Parallel(n_jobs=-1)]: Done   4 out of   8 | elapsed:   36.7s remaining:   36.7s\n"
     ]
    },
    {
     "name": "stdout",
     "output_type": "stream",
     "text": [
      "[CV] clf__alpha=0.0001, vect__max_df=0.8, vect__ngram_range=(1, 2) ...\n",
      "[CV]  clf__alpha=1e-06, vect__max_df=0.8, vect__ngram_range=(1, 2), score=0.5662903386951743, total=  26.1s\n",
      "[CV] clf__alpha=0.0001, vect__max_df=0.8, vect__ngram_range=(1, 2) ...\n",
      "[CV]  clf__alpha=1e-06, vect__max_df=0.8, vect__ngram_range=(1, 2), score=0.5627061057259918, total=  26.0s\n",
      "[CV]  clf__alpha=0.0001, vect__max_df=0.8, vect__ngram_range=(1, 2), score=0.5366170446598062, total=  19.8s\n",
      "[CV]  clf__alpha=0.0001, vect__max_df=0.8, vect__ngram_range=(1, 2), score=0.5373238732886979, total=  19.9s\n"
     ]
    },
    {
     "name": "stderr",
     "output_type": "stream",
     "text": [
      "[Parallel(n_jobs=-1)]: Done   8 out of   8 | elapsed:  1.1min finished\n"
     ]
    },
    {
     "name": "stdout",
     "output_type": "stream",
     "text": [
      "Best parameters set found on development set:\n",
      "\n",
      "Pipeline(memory=None,\n",
      "     steps=[('vect', TfidfVectorizer(analyzer='word', binary=False, decode_error='strict',\n",
      "        dtype=<class 'numpy.int64'>, encoding='utf-8', input='content',\n",
      "        lowercase=True, max_df=0.8, max_features=None, min_df=1,\n",
      "        ngram_range=(1, 2), norm='l2', preprocessor=None, smooth_idf=True,\n",
      "  ...='l2', power_t=0.5, random_state=None,\n",
      "       shuffle=True, tol=None, verbose=0, warm_start=False))])\n",
      "\n",
      "Grid scores on development set:\n",
      "\n",
      "0.543 (+/-0.001) for {'clf__alpha': 1e-06, 'vect__max_df': 0.8, 'vect__ngram_range': (1, 1)}\n",
      "0.564 (+/-0.001) for {'clf__alpha': 1e-06, 'vect__max_df': 0.8, 'vect__ngram_range': (1, 2)}\n",
      "0.560 (+/-0.000) for {'clf__alpha': 0.0001, 'vect__max_df': 0.8, 'vect__ngram_range': (1, 1)}\n",
      "0.537 (+/-0.000) for {'clf__alpha': 0.0001, 'vect__max_df': 0.8, 'vect__ngram_range': (1, 2)}\n",
      "\n",
      "Fitting 2 folds for each of 4 candidates, totalling 8 fits\n",
      "[CV] clf__alpha=1e-06, vect__max_df=0.8, vect__ngram_range=(1, 1) ....\n",
      "[CV] clf__alpha=1e-06, vect__max_df=0.8, vect__ngram_range=(1, 1) ....\n",
      "[CV] clf__alpha=1e-06, vect__max_df=0.8, vect__ngram_range=(1, 2) ....\n",
      "[CV] clf__alpha=1e-06, vect__max_df=0.8, vect__ngram_range=(1, 2) ....\n",
      "[CV]  clf__alpha=1e-06, vect__max_df=0.8, vect__ngram_range=(1, 1), score=0.5493605115907274, total=  11.5s\n",
      "[CV] clf__alpha=0.0001, vect__max_df=0.8, vect__ngram_range=(1, 1) ...\n",
      "[CV]  clf__alpha=1e-06, vect__max_df=0.8, vect__ngram_range=(1, 1), score=0.543528235882059, total=  12.1s\n",
      "[CV] clf__alpha=0.0001, vect__max_df=0.8, vect__ngram_range=(1, 1) ...\n",
      "[CV]  clf__alpha=0.0001, vect__max_df=0.8, vect__ngram_range=(1, 1), score=0.5586530775379697, total=  12.4s\n",
      "[CV] clf__alpha=0.0001, vect__max_df=0.8, vect__ngram_range=(1, 2) ...\n",
      "[CV]  clf__alpha=0.0001, vect__max_df=0.8, vect__ngram_range=(1, 1), score=0.5599200399800099, total=  12.5s\n"
     ]
    },
    {
     "name": "stderr",
     "output_type": "stream",
     "text": [
      "[Parallel(n_jobs=-1)]: Done   4 out of   8 | elapsed:   36.8s remaining:   36.8s\n"
     ]
    },
    {
     "name": "stdout",
     "output_type": "stream",
     "text": [
      "[CV] clf__alpha=0.0001, vect__max_df=0.8, vect__ngram_range=(1, 2) ...\n",
      "[CV]  clf__alpha=1e-06, vect__max_df=0.8, vect__ngram_range=(1, 2), score=0.5589205397301349, total=  26.5s\n",
      "[CV]  clf__alpha=1e-06, vect__max_df=0.8, vect__ngram_range=(1, 2), score=0.5666466826538769, total=  27.1s\n",
      "[CV]  clf__alpha=0.0001, vect__max_df=0.8, vect__ngram_range=(1, 2), score=0.5356714628297362, total=  17.9s\n",
      "[CV]  clf__alpha=0.0001, vect__max_df=0.8, vect__ngram_range=(1, 2), score=0.5390304847576212, total=  19.3s\n"
     ]
    },
    {
     "name": "stderr",
     "output_type": "stream",
     "text": [
      "[Parallel(n_jobs=-1)]: Done   8 out of   8 | elapsed:  1.0min finished\n"
     ]
    },
    {
     "name": "stdout",
     "output_type": "stream",
     "text": [
      "Best parameters set found on development set:\n",
      "\n",
      "Pipeline(memory=None,\n",
      "     steps=[('vect', TfidfVectorizer(analyzer='word', binary=False, decode_error='strict',\n",
      "        dtype=<class 'numpy.int64'>, encoding='utf-8', input='content',\n",
      "        lowercase=True, max_df=0.8, max_features=None, min_df=1,\n",
      "        ngram_range=(1, 2), norm='l2', preprocessor=None, smooth_idf=True,\n",
      "  ...='l2', power_t=0.5, random_state=None,\n",
      "       shuffle=True, tol=None, verbose=0, warm_start=False))])\n",
      "\n",
      "Grid scores on development set:\n",
      "\n",
      "0.546 (+/-0.001) for {'clf__alpha': 1e-06, 'vect__max_df': 0.8, 'vect__ngram_range': (1, 1)}\n",
      "0.563 (+/-0.002) for {'clf__alpha': 1e-06, 'vect__max_df': 0.8, 'vect__ngram_range': (1, 2)}\n",
      "0.559 (+/-0.000) for {'clf__alpha': 0.0001, 'vect__max_df': 0.8, 'vect__ngram_range': (1, 1)}\n",
      "0.537 (+/-0.001) for {'clf__alpha': 0.0001, 'vect__max_df': 0.8, 'vect__ngram_range': (1, 2)}\n",
      "\n",
      "Fitting 2 folds for each of 4 candidates, totalling 8 fits\n",
      "[CV] clf__alpha=1e-06, vect__max_df=0.8, vect__ngram_range=(1, 1) ....\n",
      "[CV] clf__alpha=1e-06, vect__max_df=0.8, vect__ngram_range=(1, 1) ....\n",
      "[CV] clf__alpha=1e-06, vect__max_df=0.8, vect__ngram_range=(1, 2) ....\n",
      "[CV] clf__alpha=1e-06, vect__max_df=0.8, vect__ngram_range=(1, 2) ....\n",
      "[CV]  clf__alpha=1e-06, vect__max_df=0.8, vect__ngram_range=(1, 1), score=0.5483903219356129, total=  12.6s\n",
      "[CV]  clf__alpha=1e-06, vect__max_df=0.8, vect__ngram_range=(1, 1), score=0.5428542854285429, total=  12.7s\n",
      "[CV] clf__alpha=0.0001, vect__max_df=0.8, vect__ngram_range=(1, 1) ...\n",
      "[CV] clf__alpha=0.0001, vect__max_df=0.8, vect__ngram_range=(1, 1) ...\n",
      "[CV]  clf__alpha=0.0001, vect__max_df=0.8, vect__ngram_range=(1, 1), score=0.5581883623275345, total=  12.1s\n",
      "[CV]  clf__alpha=0.0001, vect__max_df=0.8, vect__ngram_range=(1, 1), score=0.560956095609561, total=  11.9s\n",
      "[CV] clf__alpha=0.0001, vect__max_df=0.8, vect__ngram_range=(1, 2) ...\n",
      "[CV]  clf__alpha=1e-06, vect__max_df=0.8, vect__ngram_range=(1, 2), score=0.5687862427514497, total=  26.9s\n"
     ]
    },
    {
     "name": "stderr",
     "output_type": "stream",
     "text": [
      "[Parallel(n_jobs=-1)]: Done   4 out of   8 | elapsed:   37.7s remaining:   37.7s\n"
     ]
    },
    {
     "name": "stdout",
     "output_type": "stream",
     "text": [
      "[CV]  clf__alpha=1e-06, vect__max_df=0.8, vect__ngram_range=(1, 2), score=0.5644564456445644, total=  26.8s\n",
      "[CV] clf__alpha=0.0001, vect__max_df=0.8, vect__ngram_range=(1, 2) ...\n",
      "[CV]  clf__alpha=0.0001, vect__max_df=0.8, vect__ngram_range=(1, 2), score=0.5423915216956608, total=  18.0s\n",
      "[CV]  clf__alpha=0.0001, vect__max_df=0.8, vect__ngram_range=(1, 2), score=0.54005400540054, total=  18.6s\n"
     ]
    },
    {
     "name": "stderr",
     "output_type": "stream",
     "text": [
      "[Parallel(n_jobs=-1)]: Done   8 out of   8 | elapsed:  1.0min finished\n"
     ]
    },
    {
     "name": "stdout",
     "output_type": "stream",
     "text": [
      "Best parameters set found on development set:\n",
      "\n",
      "Pipeline(memory=None,\n",
      "     steps=[('vect', TfidfVectorizer(analyzer='word', binary=False, decode_error='strict',\n",
      "        dtype=<class 'numpy.int64'>, encoding='utf-8', input='content',\n",
      "        lowercase=True, max_df=0.8, max_features=None, min_df=1,\n",
      "        ngram_range=(1, 2), norm='l2', preprocessor=None, smooth_idf=True,\n",
      "  ...='l2', power_t=0.5, random_state=None,\n",
      "       shuffle=True, tol=None, verbose=0, warm_start=False))])\n",
      "\n",
      "Grid scores on development set:\n",
      "\n",
      "0.546 (+/-0.001) for {'clf__alpha': 1e-06, 'vect__max_df': 0.8, 'vect__ngram_range': (1, 1)}\n",
      "0.567 (+/-0.001) for {'clf__alpha': 1e-06, 'vect__max_df': 0.8, 'vect__ngram_range': (1, 2)}\n",
      "0.560 (+/-0.001) for {'clf__alpha': 0.0001, 'vect__max_df': 0.8, 'vect__ngram_range': (1, 1)}\n",
      "0.541 (+/-0.001) for {'clf__alpha': 0.0001, 'vect__max_df': 0.8, 'vect__ngram_range': (1, 2)}\n",
      "\n",
      "Fitting 2 folds for each of 4 candidates, totalling 8 fits\n",
      "[CV] clf__alpha=1e-06, vect__max_df=0.8, vect__ngram_range=(1, 1) ....\n",
      "[CV] clf__alpha=1e-06, vect__max_df=0.8, vect__ngram_range=(1, 1) ....\n",
      "[CV] clf__alpha=1e-06, vect__max_df=0.8, vect__ngram_range=(1, 2) ....\n",
      "[CV] clf__alpha=1e-06, vect__max_df=0.8, vect__ngram_range=(1, 2) ....\n",
      "[CV]  clf__alpha=1e-06, vect__max_df=0.8, vect__ngram_range=(1, 1), score=0.5453269153630165, total=  11.7s\n",
      "[CV] clf__alpha=0.0001, vect__max_df=0.8, vect__ngram_range=(1, 1) ...\n",
      "[CV]  clf__alpha=1e-06, vect__max_df=0.8, vect__ngram_range=(1, 1), score=0.5401203610832498, total=  12.0s\n",
      "[CV] clf__alpha=0.0001, vect__max_df=0.8, vect__ngram_range=(1, 1) ...\n",
      "[CV]  clf__alpha=0.0001, vect__max_df=0.8, vect__ngram_range=(1, 1), score=0.5573606097071802, total=  14.0s\n",
      "[CV] clf__alpha=0.0001, vect__max_df=0.8, vect__ngram_range=(1, 2) ...\n",
      "[CV]  clf__alpha=1e-06, vect__max_df=0.8, vect__ngram_range=(1, 2), score=0.5673886883273165, total=  27.8s\n"
     ]
    },
    {
     "name": "stderr",
     "output_type": "stream",
     "text": [
      "[Parallel(n_jobs=-1)]: Done   4 out of   8 | elapsed:   40.2s remaining:   40.2s\n"
     ]
    },
    {
     "name": "stdout",
     "output_type": "stream",
     "text": [
      "[CV]  clf__alpha=0.0001, vect__max_df=0.8, vect__ngram_range=(1, 1), score=0.5569709127382146, total=  14.4s\n",
      "[CV] clf__alpha=0.0001, vect__max_df=0.8, vect__ngram_range=(1, 2) ...\n",
      "[CV]  clf__alpha=1e-06, vect__max_df=0.8, vect__ngram_range=(1, 2), score=0.560481444332999, total=  28.8s\n",
      "[CV]  clf__alpha=0.0001, vect__max_df=0.8, vect__ngram_range=(1, 2), score=0.5413156839149619, total=  21.9s\n",
      "[CV]  clf__alpha=0.0001, vect__max_df=0.8, vect__ngram_range=(1, 2), score=0.5404212637913741, total=  19.9s\n"
     ]
    },
    {
     "name": "stderr",
     "output_type": "stream",
     "text": [
      "[Parallel(n_jobs=-1)]: Done   8 out of   8 | elapsed:  1.1min finished\n"
     ]
    },
    {
     "name": "stdout",
     "output_type": "stream",
     "text": [
      "Best parameters set found on development set:\n",
      "\n",
      "Pipeline(memory=None,\n",
      "     steps=[('vect', TfidfVectorizer(analyzer='word', binary=False, decode_error='strict',\n",
      "        dtype=<class 'numpy.int64'>, encoding='utf-8', input='content',\n",
      "        lowercase=True, max_df=0.8, max_features=None, min_df=1,\n",
      "        ngram_range=(1, 2), norm='l2', preprocessor=None, smooth_idf=True,\n",
      "  ...='l2', power_t=0.5, random_state=None,\n",
      "       shuffle=True, tol=None, verbose=0, warm_start=False))])\n",
      "\n",
      "Grid scores on development set:\n",
      "\n",
      "0.543 (+/-0.001) for {'clf__alpha': 1e-06, 'vect__max_df': 0.8, 'vect__ngram_range': (1, 1)}\n",
      "0.564 (+/-0.002) for {'clf__alpha': 1e-06, 'vect__max_df': 0.8, 'vect__ngram_range': (1, 2)}\n",
      "0.557 (+/-0.000) for {'clf__alpha': 0.0001, 'vect__max_df': 0.8, 'vect__ngram_range': (1, 1)}\n",
      "0.541 (+/-0.000) for {'clf__alpha': 0.0001, 'vect__max_df': 0.8, 'vect__ngram_range': (1, 2)}\n",
      "\n",
      "Fitting 2 folds for each of 4 candidates, totalling 8 fits\n",
      "[CV] clf__alpha=1e-06, vect__max_df=0.8, vect__ngram_range=(1, 1) ....\n",
      "[CV] clf__alpha=1e-06, vect__max_df=0.8, vect__ngram_range=(1, 1) ....\n",
      "[CV] clf__alpha=1e-06, vect__max_df=0.8, vect__ngram_range=(1, 2) ....\n",
      "[CV] clf__alpha=1e-06, vect__max_df=0.8, vect__ngram_range=(1, 2) ....\n",
      "[CV]  clf__alpha=1e-06, vect__max_df=0.8, vect__ngram_range=(1, 1), score=0.5513140801438993, total=  13.2s\n",
      "[CV]  clf__alpha=1e-06, vect__max_df=0.8, vect__ngram_range=(1, 1), score=0.5422746352188687, total=  13.1s\n",
      "[CV] clf__alpha=0.0001, vect__max_df=0.8, vect__ngram_range=(1, 1) ...\n",
      "[CV] clf__alpha=0.0001, vect__max_df=0.8, vect__ngram_range=(1, 1) ...\n",
      "[CV]  clf__alpha=0.0001, vect__max_df=0.8, vect__ngram_range=(1, 1), score=0.5580093934246028, total=  14.0s\n",
      "[CV] clf__alpha=0.0001, vect__max_df=0.8, vect__ngram_range=(1, 2) ...\n",
      "[CV]  clf__alpha=0.0001, vect__max_df=0.8, vect__ngram_range=(1, 1), score=0.5612632420547672, total=  13.9s\n",
      "[CV]  clf__alpha=1e-06, vect__max_df=0.8, vect__ngram_range=(1, 2), score=0.5634056160687518, total=  29.5s\n"
     ]
    },
    {
     "name": "stderr",
     "output_type": "stream",
     "text": [
      "[Parallel(n_jobs=-1)]: Done   4 out of   8 | elapsed:   41.6s remaining:   41.6s\n"
     ]
    },
    {
     "name": "stdout",
     "output_type": "stream",
     "text": [
      "[CV] clf__alpha=0.0001, vect__max_df=0.8, vect__ngram_range=(1, 2) ...\n",
      "[CV]  clf__alpha=1e-06, vect__max_df=0.8, vect__ngram_range=(1, 2), score=0.5569658205076954, total=  29.4s\n",
      "[CV]  clf__alpha=0.0001, vect__max_df=0.8, vect__ngram_range=(1, 2), score=0.5395223343659439, total=  21.6s\n",
      "[CV]  clf__alpha=0.0001, vect__max_df=0.8, vect__ngram_range=(1, 2), score=0.5363781730961423, total=  21.7s\n"
     ]
    },
    {
     "name": "stderr",
     "output_type": "stream",
     "text": [
      "[Parallel(n_jobs=-1)]: Done   8 out of   8 | elapsed:  1.2min finished\n"
     ]
    },
    {
     "name": "stdout",
     "output_type": "stream",
     "text": [
      "Best parameters set found on development set:\n",
      "\n",
      "Pipeline(memory=None,\n",
      "     steps=[('vect', TfidfVectorizer(analyzer='word', binary=False, decode_error='strict',\n",
      "        dtype=<class 'numpy.int64'>, encoding='utf-8', input='content',\n",
      "        lowercase=True, max_df=0.8, max_features=None, min_df=1,\n",
      "        ngram_range=(1, 2), norm='l2', preprocessor=None, smooth_idf=True,\n",
      "  ...='l2', power_t=0.5, random_state=None,\n",
      "       shuffle=True, tol=None, verbose=0, warm_start=False))])\n",
      "\n",
      "Grid scores on development set:\n",
      "\n",
      "0.547 (+/-0.002) for {'clf__alpha': 1e-06, 'vect__max_df': 0.8, 'vect__ngram_range': (1, 1)}\n",
      "0.560 (+/-0.002) for {'clf__alpha': 1e-06, 'vect__max_df': 0.8, 'vect__ngram_range': (1, 2)}\n",
      "0.560 (+/-0.001) for {'clf__alpha': 0.0001, 'vect__max_df': 0.8, 'vect__ngram_range': (1, 1)}\n",
      "0.538 (+/-0.001) for {'clf__alpha': 0.0001, 'vect__max_df': 0.8, 'vect__ngram_range': (1, 2)}\n",
      "\n",
      "Fitting 2 folds for each of 4 candidates, totalling 8 fits\n",
      "[CV] clf__alpha=1e-06, vect__max_df=0.8, vect__ngram_range=(1, 1) ....\n",
      "[CV] clf__alpha=1e-06, vect__max_df=0.8, vect__ngram_range=(1, 1) ....\n",
      "[CV] clf__alpha=1e-06, vect__max_df=0.8, vect__ngram_range=(1, 2) ....\n",
      "[CV] clf__alpha=1e-06, vect__max_df=0.8, vect__ngram_range=(1, 2) ....\n",
      "[CV]  clf__alpha=1e-06, vect__max_df=0.8, vect__ngram_range=(1, 1), score=0.5412412412412413, total=  17.0s\n",
      "[CV] clf__alpha=0.0001, vect__max_df=0.8, vect__ngram_range=(1, 1) ...\n",
      "[CV]  clf__alpha=1e-06, vect__max_df=0.8, vect__ngram_range=(1, 1), score=0.5435065585260839, total=  17.2s\n",
      "[CV] clf__alpha=0.0001, vect__max_df=0.8, vect__ngram_range=(1, 1) ...\n",
      "[CV]  clf__alpha=0.0001, vect__max_df=0.8, vect__ngram_range=(1, 1), score=0.5570570570570571, total=  13.3s\n",
      "[CV] clf__alpha=0.0001, vect__max_df=0.8, vect__ngram_range=(1, 2) ...\n",
      "[CV]  clf__alpha=1e-06, vect__max_df=0.8, vect__ngram_range=(1, 2), score=0.565065065065065, total=  33.2s\n"
     ]
    },
    {
     "name": "stderr",
     "output_type": "stream",
     "text": [
      "[Parallel(n_jobs=-1)]: Done   4 out of   8 | elapsed:   45.8s remaining:   45.8s\n"
     ]
    },
    {
     "name": "stdout",
     "output_type": "stream",
     "text": [
      "[CV]  clf__alpha=0.0001, vect__max_df=0.8, vect__ngram_range=(1, 1), score=0.5599279062781616, total=  13.1s\n",
      "[CV]  clf__alpha=1e-06, vect__max_df=0.8, vect__ngram_range=(1, 2), score=0.5630319415239812, total=  33.3s\n",
      "[CV] clf__alpha=0.0001, vect__max_df=0.8, vect__ngram_range=(1, 2) ...\n",
      "[CV]  clf__alpha=0.0001, vect__max_df=0.8, vect__ngram_range=(1, 2), score=0.5408408408408408, total=  20.1s\n",
      "[CV]  clf__alpha=0.0001, vect__max_df=0.8, vect__ngram_range=(1, 2), score=0.5416040853109042, total=  19.1s\n"
     ]
    },
    {
     "name": "stderr",
     "output_type": "stream",
     "text": [
      "[Parallel(n_jobs=-1)]: Done   8 out of   8 | elapsed:  1.2min finished\n"
     ]
    },
    {
     "name": "stdout",
     "output_type": "stream",
     "text": [
      "Best parameters set found on development set:\n",
      "\n",
      "Pipeline(memory=None,\n",
      "     steps=[('vect', TfidfVectorizer(analyzer='word', binary=False, decode_error='strict',\n",
      "        dtype=<class 'numpy.int64'>, encoding='utf-8', input='content',\n",
      "        lowercase=True, max_df=0.8, max_features=None, min_df=1,\n",
      "        ngram_range=(1, 2), norm='l2', preprocessor=None, smooth_idf=True,\n",
      "  ...='l2', power_t=0.5, random_state=None,\n",
      "       shuffle=True, tol=None, verbose=0, warm_start=False))])\n",
      "\n",
      "Grid scores on development set:\n",
      "\n",
      "0.542 (+/-0.001) for {'clf__alpha': 1e-06, 'vect__max_df': 0.8, 'vect__ngram_range': (1, 1)}\n",
      "0.564 (+/-0.001) for {'clf__alpha': 1e-06, 'vect__max_df': 0.8, 'vect__ngram_range': (1, 2)}\n",
      "0.558 (+/-0.001) for {'clf__alpha': 0.0001, 'vect__max_df': 0.8, 'vect__ngram_range': (1, 1)}\n",
      "0.541 (+/-0.000) for {'clf__alpha': 0.0001, 'vect__max_df': 0.8, 'vect__ngram_range': (1, 2)}\n",
      "\n",
      "Fitting 2 folds for each of 4 candidates, totalling 8 fits\n",
      "[CV] clf__alpha=1e-06, vect__max_df=0.8, vect__ngram_range=(1, 1) ....\n",
      "[CV] clf__alpha=1e-06, vect__max_df=0.8, vect__ngram_range=(1, 1) ....\n",
      "[CV] clf__alpha=1e-06, vect__max_df=0.8, vect__ngram_range=(1, 2) ....\n",
      "[CV] clf__alpha=1e-06, vect__max_df=0.8, vect__ngram_range=(1, 2) ....\n",
      "[CV]  clf__alpha=1e-06, vect__max_df=0.8, vect__ngram_range=(1, 1), score=0.5518896220755849, total=  12.3s\n",
      "[CV]  clf__alpha=1e-06, vect__max_df=0.8, vect__ngram_range=(1, 1), score=0.5403459654034597, total=  12.5s\n",
      "[CV] clf__alpha=0.0001, vect__max_df=0.8, vect__ngram_range=(1, 1) ...\n",
      "[CV] clf__alpha=0.0001, vect__max_df=0.8, vect__ngram_range=(1, 1) ...\n",
      "[CV]  clf__alpha=1e-06, vect__max_df=0.8, vect__ngram_range=(1, 2), score=0.5639872025594881, total=  27.9s\n",
      "[CV]  clf__alpha=0.0001, vect__max_df=0.8, vect__ngram_range=(1, 1), score=0.5575884823035393, total=  13.2s\n"
     ]
    },
    {
     "name": "stderr",
     "output_type": "stream",
     "text": [
      "[Parallel(n_jobs=-1)]: Done   4 out of   8 | elapsed:   38.9s remaining:   38.9s\n"
     ]
    },
    {
     "name": "stdout",
     "output_type": "stream",
     "text": [
      "[CV]  clf__alpha=0.0001, vect__max_df=0.8, vect__ngram_range=(1, 1), score=0.5621437856214379, total=  12.4s\n",
      "[CV]  clf__alpha=1e-06, vect__max_df=0.8, vect__ngram_range=(1, 2), score=0.5596440355964404, total=  28.0s\n",
      "[CV] clf__alpha=0.0001, vect__max_df=0.8, vect__ngram_range=(1, 2) ...\n",
      "[CV] clf__alpha=0.0001, vect__max_df=0.8, vect__ngram_range=(1, 2) ...\n",
      "[CV]  clf__alpha=0.0001, vect__max_df=0.8, vect__ngram_range=(1, 2), score=0.5407918416316737, total=  19.1s\n",
      "[CV]  clf__alpha=0.0001, vect__max_df=0.8, vect__ngram_range=(1, 2), score=0.5418458154184581, total=  19.4s\n"
     ]
    },
    {
     "name": "stderr",
     "output_type": "stream",
     "text": [
      "[Parallel(n_jobs=-1)]: Done   8 out of   8 | elapsed:  1.1min finished\n"
     ]
    },
    {
     "name": "stdout",
     "output_type": "stream",
     "text": [
      "Best parameters set found on development set:\n",
      "\n",
      "Pipeline(memory=None,\n",
      "     steps=[('vect', TfidfVectorizer(analyzer='word', binary=False, decode_error='strict',\n",
      "        dtype=<class 'numpy.int64'>, encoding='utf-8', input='content',\n",
      "        lowercase=True, max_df=0.8, max_features=None, min_df=1,\n",
      "        ngram_range=(1, 2), norm='l2', preprocessor=None, smooth_idf=True,\n",
      "  ...='l2', power_t=0.5, random_state=None,\n",
      "       shuffle=True, tol=None, verbose=0, warm_start=False))])\n",
      "\n",
      "Grid scores on development set:\n",
      "\n",
      "0.546 (+/-0.003) for {'clf__alpha': 1e-06, 'vect__max_df': 0.8, 'vect__ngram_range': (1, 1)}\n",
      "0.562 (+/-0.001) for {'clf__alpha': 1e-06, 'vect__max_df': 0.8, 'vect__ngram_range': (1, 2)}\n",
      "0.560 (+/-0.001) for {'clf__alpha': 0.0001, 'vect__max_df': 0.8, 'vect__ngram_range': (1, 1)}\n",
      "0.541 (+/-0.000) for {'clf__alpha': 0.0001, 'vect__max_df': 0.8, 'vect__ngram_range': (1, 2)}\n",
      "\n",
      "Fitting 2 folds for each of 4 candidates, totalling 8 fits\n",
      "[CV] clf__alpha=1e-06, vect__max_df=0.8, vect__ngram_range=(1, 1) ....\n",
      "[CV] clf__alpha=1e-06, vect__max_df=0.8, vect__ngram_range=(1, 1) ....\n",
      "[CV] clf__alpha=1e-06, vect__max_df=0.8, vect__ngram_range=(1, 2) ....\n",
      "[CV] clf__alpha=1e-06, vect__max_df=0.8, vect__ngram_range=(1, 2) ....\n",
      "[CV]  clf__alpha=1e-06, vect__max_df=0.8, vect__ngram_range=(1, 1), score=0.5532553255325533, total=  13.6s\n",
      "[CV]  clf__alpha=1e-06, vect__max_df=0.8, vect__ngram_range=(1, 1), score=0.5463639091727518, total=  13.6s\n",
      "[CV] clf__alpha=0.0001, vect__max_df=0.8, vect__ngram_range=(1, 1) ...\n",
      "[CV] clf__alpha=0.0001, vect__max_df=0.8, vect__ngram_range=(1, 1) ...\n",
      "[CV]  clf__alpha=0.0001, vect__max_df=0.8, vect__ngram_range=(1, 1), score=0.5584558455845584, total=  12.9s\n",
      "[CV] clf__alpha=0.0001, vect__max_df=0.8, vect__ngram_range=(1, 2) ...\n",
      "[CV]  clf__alpha=0.0001, vect__max_df=0.8, vect__ngram_range=(1, 1), score=0.5595678703611083, total=  13.2s\n"
     ]
    },
    {
     "name": "stderr",
     "output_type": "stream",
     "text": [
      "[Parallel(n_jobs=-1)]: Done   4 out of   8 | elapsed:   40.6s remaining:   40.6s\n"
     ]
    },
    {
     "name": "stdout",
     "output_type": "stream",
     "text": [
      "[CV]  clf__alpha=1e-06, vect__max_df=0.8, vect__ngram_range=(1, 2), score=0.5681568156815682, total=  29.2s\n",
      "[CV] clf__alpha=0.0001, vect__max_df=0.8, vect__ngram_range=(1, 2) ...\n",
      "[CV]  clf__alpha=1e-06, vect__max_df=0.8, vect__ngram_range=(1, 2), score=0.5662698809642893, total=  29.2s\n",
      "[CV]  clf__alpha=0.0001, vect__max_df=0.8, vect__ngram_range=(1, 2), score=0.5386538653865387, total=  20.3s\n",
      "[CV]  clf__alpha=0.0001, vect__max_df=0.8, vect__ngram_range=(1, 2), score=0.5393618085425628, total=  19.9s\n"
     ]
    },
    {
     "name": "stderr",
     "output_type": "stream",
     "text": [
      "[Parallel(n_jobs=-1)]: Done   8 out of   8 | elapsed:  1.1min finished\n"
     ]
    },
    {
     "name": "stdout",
     "output_type": "stream",
     "text": [
      "Best parameters set found on development set:\n",
      "\n",
      "Pipeline(memory=None,\n",
      "     steps=[('vect', TfidfVectorizer(analyzer='word', binary=False, decode_error='strict',\n",
      "        dtype=<class 'numpy.int64'>, encoding='utf-8', input='content',\n",
      "        lowercase=True, max_df=0.8, max_features=None, min_df=1,\n",
      "        ngram_range=(1, 2), norm='l2', preprocessor=None, smooth_idf=True,\n",
      "  ...='l2', power_t=0.5, random_state=None,\n",
      "       shuffle=True, tol=None, verbose=0, warm_start=False))])\n",
      "\n",
      "Grid scores on development set:\n",
      "\n",
      "0.550 (+/-0.002) for {'clf__alpha': 1e-06, 'vect__max_df': 0.8, 'vect__ngram_range': (1, 1)}\n",
      "0.567 (+/-0.000) for {'clf__alpha': 1e-06, 'vect__max_df': 0.8, 'vect__ngram_range': (1, 2)}\n",
      "0.559 (+/-0.000) for {'clf__alpha': 0.0001, 'vect__max_df': 0.8, 'vect__ngram_range': (1, 1)}\n",
      "0.539 (+/-0.000) for {'clf__alpha': 0.0001, 'vect__max_df': 0.8, 'vect__ngram_range': (1, 2)}\n",
      "\n",
      "Fitting 2 folds for each of 4 candidates, totalling 8 fits\n",
      "[CV] clf__alpha=1e-06, vect__max_df=0.8, vect__ngram_range=(1, 1) ....\n",
      "[CV] clf__alpha=1e-06, vect__max_df=0.8, vect__ngram_range=(1, 1) ....\n",
      "[CV] clf__alpha=1e-06, vect__max_df=0.8, vect__ngram_range=(1, 2) ....\n",
      "[CV] clf__alpha=1e-06, vect__max_df=0.8, vect__ngram_range=(1, 2) ....\n",
      "[CV]  clf__alpha=1e-06, vect__max_df=0.8, vect__ngram_range=(1, 1), score=0.5486389111289032, total=  12.1s\n",
      "[CV] clf__alpha=0.0001, vect__max_df=0.8, vect__ngram_range=(1, 1) ...\n",
      "[CV]  clf__alpha=1e-06, vect__max_df=0.8, vect__ngram_range=(1, 1), score=0.5416416416416416, total=  12.2s\n",
      "[CV] clf__alpha=0.0001, vect__max_df=0.8, vect__ngram_range=(1, 1) ...\n",
      "[CV]  clf__alpha=0.0001, vect__max_df=0.8, vect__ngram_range=(1, 1), score=0.5575460368294636, total=  12.7s\n",
      "[CV] clf__alpha=0.0001, vect__max_df=0.8, vect__ngram_range=(1, 2) ...\n",
      "[CV]  clf__alpha=0.0001, vect__max_df=0.8, vect__ngram_range=(1, 1), score=0.5602602602602602, total=  12.9s\n"
     ]
    },
    {
     "name": "stderr",
     "output_type": "stream",
     "text": [
      "[Parallel(n_jobs=-1)]: Done   4 out of   8 | elapsed:   39.2s remaining:   39.2s\n"
     ]
    },
    {
     "name": "stdout",
     "output_type": "stream",
     "text": [
      "[CV]  clf__alpha=1e-06, vect__max_df=0.8, vect__ngram_range=(1, 2), score=0.5654523618895116, total=  28.0s\n",
      "[CV] clf__alpha=0.0001, vect__max_df=0.8, vect__ngram_range=(1, 2) ...\n",
      "[CV]  clf__alpha=1e-06, vect__max_df=0.8, vect__ngram_range=(1, 2), score=0.5666666666666667, total=  27.7s\n",
      "[CV]  clf__alpha=0.0001, vect__max_df=0.8, vect__ngram_range=(1, 2), score=0.5414331465172137, total=  21.3s\n",
      "[CV]  clf__alpha=0.0001, vect__max_df=0.8, vect__ngram_range=(1, 2), score=0.5428428428428428, total=  20.2s\n"
     ]
    },
    {
     "name": "stderr",
     "output_type": "stream",
     "text": [
      "[Parallel(n_jobs=-1)]: Done   8 out of   8 | elapsed:  1.1min finished\n"
     ]
    },
    {
     "name": "stdout",
     "output_type": "stream",
     "text": [
      "Best parameters set found on development set:\n",
      "\n",
      "Pipeline(memory=None,\n",
      "     steps=[('vect', TfidfVectorizer(analyzer='word', binary=False, decode_error='strict',\n",
      "        dtype=<class 'numpy.int64'>, encoding='utf-8', input='content',\n",
      "        lowercase=True, max_df=0.8, max_features=None, min_df=1,\n",
      "        ngram_range=(1, 2), norm='l2', preprocessor=None, smooth_idf=True,\n",
      "  ...='l2', power_t=0.5, random_state=None,\n",
      "       shuffle=True, tol=None, verbose=0, warm_start=False))])\n",
      "\n",
      "Grid scores on development set:\n",
      "\n",
      "0.545 (+/-0.002) for {'clf__alpha': 1e-06, 'vect__max_df': 0.8, 'vect__ngram_range': (1, 1)}\n",
      "0.566 (+/-0.000) for {'clf__alpha': 1e-06, 'vect__max_df': 0.8, 'vect__ngram_range': (1, 2)}\n",
      "0.559 (+/-0.001) for {'clf__alpha': 0.0001, 'vect__max_df': 0.8, 'vect__ngram_range': (1, 1)}\n",
      "0.542 (+/-0.000) for {'clf__alpha': 0.0001, 'vect__max_df': 0.8, 'vect__ngram_range': (1, 2)}\n",
      "\n",
      "Fitting 2 folds for each of 4 candidates, totalling 8 fits\n",
      "[CV] clf__alpha=1e-06, vect__max_df=0.8, vect__ngram_range=(1, 1) ....\n",
      "[CV] clf__alpha=1e-06, vect__max_df=0.8, vect__ngram_range=(1, 1) ....\n",
      "[CV] clf__alpha=1e-06, vect__max_df=0.8, vect__ngram_range=(1, 2) ....\n",
      "[CV] clf__alpha=1e-06, vect__max_df=0.8, vect__ngram_range=(1, 2) ....\n",
      "[CV]  clf__alpha=1e-06, vect__max_df=0.8, vect__ngram_range=(1, 1), score=0.5509796081567373, total=  12.4s\n",
      "[CV] clf__alpha=0.0001, vect__max_df=0.8, vect__ngram_range=(1, 1) ...\n",
      "[CV]  clf__alpha=1e-06, vect__max_df=0.8, vect__ngram_range=(1, 1), score=0.5398920215956808, total=  13.1s\n",
      "[CV] clf__alpha=0.0001, vect__max_df=0.8, vect__ngram_range=(1, 1) ...\n",
      "[CV]  clf__alpha=0.0001, vect__max_df=0.8, vect__ngram_range=(1, 1), score=0.5571771291483406, total=  12.6s\n",
      "[CV] clf__alpha=0.0001, vect__max_df=0.8, vect__ngram_range=(1, 2) ...\n",
      "[CV]  clf__alpha=1e-06, vect__max_df=0.8, vect__ngram_range=(1, 2), score=0.5667732906837265, total=  27.9s\n"
     ]
    },
    {
     "name": "stderr",
     "output_type": "stream",
     "text": [
      "[Parallel(n_jobs=-1)]: Done   4 out of   8 | elapsed:   39.3s remaining:   39.3s\n"
     ]
    },
    {
     "name": "stdout",
     "output_type": "stream",
     "text": [
      "[CV]  clf__alpha=0.0001, vect__max_df=0.8, vect__ngram_range=(1, 1), score=0.5594881023795241, total=  13.0s\n",
      "[CV]  clf__alpha=1e-06, vect__max_df=0.8, vect__ngram_range=(1, 2), score=0.5600879824035193, total=  27.9s\n",
      "[CV] clf__alpha=0.0001, vect__max_df=0.8, vect__ngram_range=(1, 2) ...\n",
      "[CV]  clf__alpha=0.0001, vect__max_df=0.8, vect__ngram_range=(1, 2), score=0.5416833266693323, total=  20.6s\n",
      "[CV]  clf__alpha=0.0001, vect__max_df=0.8, vect__ngram_range=(1, 2), score=0.5413917216556688, total=  19.3s\n"
     ]
    },
    {
     "name": "stderr",
     "output_type": "stream",
     "text": [
      "[Parallel(n_jobs=-1)]: Done   8 out of   8 | elapsed:  1.1min finished\n"
     ]
    },
    {
     "name": "stdout",
     "output_type": "stream",
     "text": [
      "Best parameters set found on development set:\n",
      "\n",
      "Pipeline(memory=None,\n",
      "     steps=[('vect', TfidfVectorizer(analyzer='word', binary=False, decode_error='strict',\n",
      "        dtype=<class 'numpy.int64'>, encoding='utf-8', input='content',\n",
      "        lowercase=True, max_df=0.8, max_features=None, min_df=1,\n",
      "        ngram_range=(1, 2), norm='l2', preprocessor=None, smooth_idf=True,\n",
      "  ...='l2', power_t=0.5, random_state=None,\n",
      "       shuffle=True, tol=None, verbose=0, warm_start=False))])\n",
      "\n",
      "Grid scores on development set:\n",
      "\n",
      "0.545 (+/-0.003) for {'clf__alpha': 1e-06, 'vect__max_df': 0.8, 'vect__ngram_range': (1, 1)}\n",
      "0.563 (+/-0.002) for {'clf__alpha': 1e-06, 'vect__max_df': 0.8, 'vect__ngram_range': (1, 2)}\n",
      "0.558 (+/-0.001) for {'clf__alpha': 0.0001, 'vect__max_df': 0.8, 'vect__ngram_range': (1, 1)}\n",
      "0.542 (+/-0.000) for {'clf__alpha': 0.0001, 'vect__max_df': 0.8, 'vect__ngram_range': (1, 2)}\n",
      "\n",
      "Fitting 2 folds for each of 4 candidates, totalling 8 fits\n",
      "[CV] clf__alpha=1e-06, vect__max_df=0.8, vect__ngram_range=(1, 1) ....\n",
      "[CV] clf__alpha=1e-06, vect__max_df=0.8, vect__ngram_range=(1, 1) ....\n",
      "[CV] clf__alpha=1e-06, vect__max_df=0.8, vect__ngram_range=(1, 2) ....\n",
      "[CV] clf__alpha=1e-06, vect__max_df=0.8, vect__ngram_range=(1, 2) ....\n",
      "[CV]  clf__alpha=1e-06, vect__max_df=0.8, vect__ngram_range=(1, 1), score=0.5504596322941646, total=  12.7s\n",
      "[CV]  clf__alpha=1e-06, vect__max_df=0.8, vect__ngram_range=(1, 1), score=0.543074155506696, total=  12.6s\n",
      "[CV] clf__alpha=0.0001, vect__max_df=0.8, vect__ngram_range=(1, 1) ...\n",
      "[CV] clf__alpha=0.0001, vect__max_df=0.8, vect__ngram_range=(1, 1) ...\n",
      "[CV]  clf__alpha=1e-06, vect__max_df=0.8, vect__ngram_range=(1, 2), score=0.5627498001598721, total=  26.9s\n",
      "[CV]  clf__alpha=0.0001, vect__max_df=0.8, vect__ngram_range=(1, 1), score=0.5597521982414069, total=  12.1s\n"
     ]
    },
    {
     "name": "stderr",
     "output_type": "stream",
     "text": [
      "[Parallel(n_jobs=-1)]: Done   4 out of   8 | elapsed:   37.4s remaining:   37.4s\n"
     ]
    },
    {
     "name": "stdout",
     "output_type": "stream",
     "text": [
      "[CV]  clf__alpha=0.0001, vect__max_df=0.8, vect__ngram_range=(1, 1), score=0.5578652808315011, total=  11.9s\n",
      "[CV] clf__alpha=0.0001, vect__max_df=0.8, vect__ngram_range=(1, 2) ...\n",
      "[CV]  clf__alpha=1e-06, vect__max_df=0.8, vect__ngram_range=(1, 2), score=0.5651609034579252, total=  27.2s\n",
      "[CV] clf__alpha=0.0001, vect__max_df=0.8, vect__ngram_range=(1, 2) ...\n",
      "[CV]  clf__alpha=0.0001, vect__max_df=0.8, vect__ngram_range=(1, 2), score=0.5402677857713829, total=  19.3s\n",
      "[CV]  clf__alpha=0.0001, vect__max_df=0.8, vect__ngram_range=(1, 2), score=0.536777933240056, total=  19.3s\n"
     ]
    },
    {
     "name": "stderr",
     "output_type": "stream",
     "text": [
      "[Parallel(n_jobs=-1)]: Done   8 out of   8 | elapsed:  1.1min finished\n"
     ]
    },
    {
     "name": "stdout",
     "output_type": "stream",
     "text": [
      "Best parameters set found on development set:\n",
      "\n",
      "Pipeline(memory=None,\n",
      "     steps=[('vect', TfidfVectorizer(analyzer='word', binary=False, decode_error='strict',\n",
      "        dtype=<class 'numpy.int64'>, encoding='utf-8', input='content',\n",
      "        lowercase=True, max_df=0.8, max_features=None, min_df=1,\n",
      "        ngram_range=(1, 2), norm='l2', preprocessor=None, smooth_idf=True,\n",
      "  ...='l2', power_t=0.5, random_state=None,\n",
      "       shuffle=True, tol=None, verbose=0, warm_start=False))])\n",
      "\n",
      "Grid scores on development set:\n",
      "\n",
      "0.547 (+/-0.002) for {'clf__alpha': 1e-06, 'vect__max_df': 0.8, 'vect__ngram_range': (1, 1)}\n",
      "0.564 (+/-0.001) for {'clf__alpha': 1e-06, 'vect__max_df': 0.8, 'vect__ngram_range': (1, 2)}\n",
      "0.559 (+/-0.000) for {'clf__alpha': 0.0001, 'vect__max_df': 0.8, 'vect__ngram_range': (1, 1)}\n",
      "0.539 (+/-0.001) for {'clf__alpha': 0.0001, 'vect__max_df': 0.8, 'vect__ngram_range': (1, 2)}\n",
      "\n",
      "Fitting 2 folds for each of 4 candidates, totalling 8 fits\n",
      "[CV] clf__alpha=1e-06, vect__max_df=0.8, vect__ngram_range=(1, 1) ....\n",
      "[CV] clf__alpha=1e-06, vect__max_df=0.8, vect__ngram_range=(1, 1) ....\n",
      "[CV] clf__alpha=1e-06, vect__max_df=0.8, vect__ngram_range=(1, 2) ....\n",
      "[CV] clf__alpha=1e-06, vect__max_df=0.8, vect__ngram_range=(1, 2) ....\n",
      "[CV]  clf__alpha=1e-06, vect__max_df=0.8, vect__ngram_range=(1, 1), score=0.5489353194041787, total=  12.4s\n",
      "[CV] clf__alpha=0.0001, vect__max_df=0.8, vect__ngram_range=(1, 1) ...\n",
      "[CV]  clf__alpha=1e-06, vect__max_df=0.8, vect__ngram_range=(1, 1), score=0.5399, total=  12.6s\n",
      "[CV] clf__alpha=0.0001, vect__max_df=0.8, vect__ngram_range=(1, 1) ...\n",
      "[CV]  clf__alpha=0.0001, vect__max_df=0.8, vect__ngram_range=(1, 1), score=0.5575327401779466, total=  12.7s\n",
      "[CV] clf__alpha=0.0001, vect__max_df=0.8, vect__ngram_range=(1, 2) ...\n",
      "[CV]  clf__alpha=1e-06, vect__max_df=0.8, vect__ngram_range=(1, 2), score=0.5639308207537739, total=  27.7s\n"
     ]
    },
    {
     "name": "stderr",
     "output_type": "stream",
     "text": [
      "[Parallel(n_jobs=-1)]: Done   4 out of   8 | elapsed:   39.2s remaining:   39.2s\n"
     ]
    },
    {
     "name": "stdout",
     "output_type": "stream",
     "text": [
      "[CV]  clf__alpha=0.0001, vect__max_df=0.8, vect__ngram_range=(1, 1), score=0.5608, total=  13.0s\n",
      "[CV]  clf__alpha=1e-06, vect__max_df=0.8, vect__ngram_range=(1, 2), score=0.5653, total=  27.8s\n",
      "[CV] clf__alpha=0.0001, vect__max_df=0.8, vect__ngram_range=(1, 2) ...\n",
      "[CV]  clf__alpha=0.0001, vect__max_df=0.8, vect__ngram_range=(1, 2), score=0.537738678396481, total=  20.0s\n",
      "[CV]  clf__alpha=0.0001, vect__max_df=0.8, vect__ngram_range=(1, 2), score=0.5387, total=  18.9s\n"
     ]
    },
    {
     "name": "stderr",
     "output_type": "stream",
     "text": [
      "[Parallel(n_jobs=-1)]: Done   8 out of   8 | elapsed:  1.1min finished\n"
     ]
    },
    {
     "name": "stdout",
     "output_type": "stream",
     "text": [
      "Best parameters set found on development set:\n",
      "\n",
      "Pipeline(memory=None,\n",
      "     steps=[('vect', TfidfVectorizer(analyzer='word', binary=False, decode_error='strict',\n",
      "        dtype=<class 'numpy.int64'>, encoding='utf-8', input='content',\n",
      "        lowercase=True, max_df=0.8, max_features=None, min_df=1,\n",
      "        ngram_range=(1, 2), norm='l2', preprocessor=None, smooth_idf=True,\n",
      "  ...='l2', power_t=0.5, random_state=None,\n",
      "       shuffle=True, tol=None, verbose=0, warm_start=False))])\n",
      "\n",
      "Grid scores on development set:\n",
      "\n",
      "0.544 (+/-0.002) for {'clf__alpha': 1e-06, 'vect__max_df': 0.8, 'vect__ngram_range': (1, 1)}\n",
      "0.565 (+/-0.000) for {'clf__alpha': 1e-06, 'vect__max_df': 0.8, 'vect__ngram_range': (1, 2)}\n",
      "0.559 (+/-0.001) for {'clf__alpha': 0.0001, 'vect__max_df': 0.8, 'vect__ngram_range': (1, 1)}\n",
      "0.538 (+/-0.000) for {'clf__alpha': 0.0001, 'vect__max_df': 0.8, 'vect__ngram_range': (1, 2)}\n",
      "\n",
      "Fitting 2 folds for each of 4 candidates, totalling 8 fits\n",
      "[CV] clf__alpha=1e-06, vect__max_df=0.8, vect__ngram_range=(1, 1) ....\n",
      "[CV] clf__alpha=1e-06, vect__max_df=0.8, vect__ngram_range=(1, 1) ....\n",
      "[CV] clf__alpha=1e-06, vect__max_df=0.8, vect__ngram_range=(1, 2) ....\n",
      "[CV] clf__alpha=1e-06, vect__max_df=0.8, vect__ngram_range=(1, 2) ....\n",
      "[CV]  clf__alpha=1e-06, vect__max_df=0.8, vect__ngram_range=(1, 1), score=0.5452625226312613, total=  13.5s\n",
      "[CV]  clf__alpha=1e-06, vect__max_df=0.8, vect__ngram_range=(1, 1), score=0.545774647887324, total=  13.3s\n",
      "[CV] clf__alpha=0.0001, vect__max_df=0.8, vect__ngram_range=(1, 1) ...\n",
      "[CV] clf__alpha=0.0001, vect__max_df=0.8, vect__ngram_range=(1, 1) ...\n",
      "[CV]  clf__alpha=0.0001, vect__max_df=0.8, vect__ngram_range=(1, 1), score=0.5582377791188896, total=  12.7s\n",
      "[CV]  clf__alpha=0.0001, vect__max_df=0.8, vect__ngram_range=(1, 1), score=0.5629778672032193, total=  12.5s\n"
     ]
    },
    {
     "name": "stderr",
     "output_type": "stream",
     "text": [
      "[Parallel(n_jobs=-1)]: Done   4 out of   8 | elapsed:   39.7s remaining:   39.7s\n"
     ]
    },
    {
     "name": "stdout",
     "output_type": "stream",
     "text": [
      "[CV] clf__alpha=0.0001, vect__max_df=0.8, vect__ngram_range=(1, 2) ...\n",
      "[CV]  clf__alpha=1e-06, vect__max_df=0.8, vect__ngram_range=(1, 2), score=0.5650774492053913, total=  28.3s\n",
      "[CV] clf__alpha=0.0001, vect__max_df=0.8, vect__ngram_range=(1, 2) ...\n",
      "[CV]  clf__alpha=1e-06, vect__max_df=0.8, vect__ngram_range=(1, 2), score=0.5694164989939637, total=  28.7s\n",
      "[CV]  clf__alpha=0.0001, vect__max_df=0.8, vect__ngram_range=(1, 2), score=0.5409456740442656, total=  19.5s\n",
      "[CV]  clf__alpha=0.0001, vect__max_df=0.8, vect__ngram_range=(1, 2), score=0.5424461878897606, total=  19.8s\n"
     ]
    },
    {
     "name": "stderr",
     "output_type": "stream",
     "text": [
      "[Parallel(n_jobs=-1)]: Done   8 out of   8 | elapsed:  1.1min finished\n"
     ]
    },
    {
     "name": "stdout",
     "output_type": "stream",
     "text": [
      "Best parameters set found on development set:\n",
      "\n",
      "Pipeline(memory=None,\n",
      "     steps=[('vect', TfidfVectorizer(analyzer='word', binary=False, decode_error='strict',\n",
      "        dtype=<class 'numpy.int64'>, encoding='utf-8', input='content',\n",
      "        lowercase=True, max_df=0.8, max_features=None, min_df=1,\n",
      "        ngram_range=(1, 2), norm='l2', preprocessor=None, smooth_idf=True,\n",
      "  ...='l2', power_t=0.5, random_state=None,\n",
      "       shuffle=True, tol=None, verbose=0, warm_start=False))])\n",
      "\n",
      "Grid scores on development set:\n",
      "\n",
      "0.546 (+/-0.000) for {'clf__alpha': 1e-06, 'vect__max_df': 0.8, 'vect__ngram_range': (1, 1)}\n",
      "0.567 (+/-0.001) for {'clf__alpha': 1e-06, 'vect__max_df': 0.8, 'vect__ngram_range': (1, 2)}\n",
      "0.561 (+/-0.001) for {'clf__alpha': 0.0001, 'vect__max_df': 0.8, 'vect__ngram_range': (1, 1)}\n",
      "0.542 (+/-0.000) for {'clf__alpha': 0.0001, 'vect__max_df': 0.8, 'vect__ngram_range': (1, 2)}\n",
      "\n",
      "Fitting 2 folds for each of 4 candidates, totalling 8 fits\n",
      "[CV] clf__alpha=1e-06, vect__max_df=0.8, vect__ngram_range=(1, 1) ....\n",
      "[CV] clf__alpha=1e-06, vect__max_df=0.8, vect__ngram_range=(1, 1) ....\n",
      "[CV] clf__alpha=1e-06, vect__max_df=0.8, vect__ngram_range=(1, 2) ....\n",
      "[CV] clf__alpha=1e-06, vect__max_df=0.8, vect__ngram_range=(1, 2) ....\n",
      "[CV]  clf__alpha=1e-06, vect__max_df=0.8, vect__ngram_range=(1, 1), score=0.5441014883628009, total=  12.4s\n",
      "[CV] clf__alpha=0.0001, vect__max_df=0.8, vect__ngram_range=(1, 1) ...\n",
      "[CV]  clf__alpha=1e-06, vect__max_df=0.8, vect__ngram_range=(1, 1), score=0.5396143470876211, total=  12.6s\n",
      "[CV] clf__alpha=0.0001, vect__max_df=0.8, vect__ngram_range=(1, 1) ...\n",
      "[CV]  clf__alpha=0.0001, vect__max_df=0.8, vect__ngram_range=(1, 1), score=0.5552891818999101, total=  12.1s\n",
      "[CV]  clf__alpha=1e-06, vect__max_df=0.8, vect__ngram_range=(1, 2), score=0.567975227250025, total=  27.7s\n",
      "[CV] clf__alpha=0.0001, vect__max_df=0.8, vect__ngram_range=(1, 2) ...\n"
     ]
    },
    {
     "name": "stderr",
     "output_type": "stream",
     "text": [
      "[Parallel(n_jobs=-1)]: Done   4 out of   8 | elapsed:   38.5s remaining:   38.5s\n"
     ]
    },
    {
     "name": "stdout",
     "output_type": "stream",
     "text": [
      "[CV]  clf__alpha=0.0001, vect__max_df=0.8, vect__ngram_range=(1, 1), score=0.5602957338395445, total=  12.0s\n",
      "[CV]  clf__alpha=1e-06, vect__max_df=0.8, vect__ngram_range=(1, 2), score=0.5645918673194126, total=  27.7s\n",
      "[CV] clf__alpha=0.0001, vect__max_df=0.8, vect__ngram_range=(1, 2) ...\n",
      "[CV]  clf__alpha=0.0001, vect__max_df=0.8, vect__ngram_range=(1, 2), score=0.5397063230446509, total=  19.9s\n",
      "[CV]  clf__alpha=0.0001, vect__max_df=0.8, vect__ngram_range=(1, 2), score=0.5380157857927865, total=  19.8s\n"
     ]
    },
    {
     "name": "stderr",
     "output_type": "stream",
     "text": [
      "[Parallel(n_jobs=-1)]: Done   8 out of   8 | elapsed:  1.1min finished\n"
     ]
    },
    {
     "name": "stdout",
     "output_type": "stream",
     "text": [
      "Best parameters set found on development set:\n",
      "\n",
      "Pipeline(memory=None,\n",
      "     steps=[('vect', TfidfVectorizer(analyzer='word', binary=False, decode_error='strict',\n",
      "        dtype=<class 'numpy.int64'>, encoding='utf-8', input='content',\n",
      "        lowercase=True, max_df=0.8, max_features=None, min_df=1,\n",
      "        ngram_range=(1, 2), norm='l2', preprocessor=None, smooth_idf=True,\n",
      "  ...='l2', power_t=0.5, random_state=None,\n",
      "       shuffle=True, tol=None, verbose=0, warm_start=False))])\n",
      "\n",
      "Grid scores on development set:\n",
      "\n",
      "0.542 (+/-0.001) for {'clf__alpha': 1e-06, 'vect__max_df': 0.8, 'vect__ngram_range': (1, 1)}\n",
      "0.566 (+/-0.001) for {'clf__alpha': 1e-06, 'vect__max_df': 0.8, 'vect__ngram_range': (1, 2)}\n",
      "0.558 (+/-0.001) for {'clf__alpha': 0.0001, 'vect__max_df': 0.8, 'vect__ngram_range': (1, 1)}\n",
      "0.539 (+/-0.000) for {'clf__alpha': 0.0001, 'vect__max_df': 0.8, 'vect__ngram_range': (1, 2)}\n",
      "\n",
      "Fitting 2 folds for each of 4 candidates, totalling 8 fits\n",
      "[CV] clf__alpha=1e-06, vect__max_df=0.8, vect__ngram_range=(1, 1) ....\n",
      "[CV] clf__alpha=1e-06, vect__max_df=0.8, vect__ngram_range=(1, 1) ....\n",
      "[CV] clf__alpha=1e-06, vect__max_df=0.8, vect__ngram_range=(1, 2) ....\n",
      "[CV] clf__alpha=1e-06, vect__max_df=0.8, vect__ngram_range=(1, 2) ....\n",
      "[CV]  clf__alpha=1e-06, vect__max_df=0.8, vect__ngram_range=(1, 1), score=0.5525, total=  12.5s\n",
      "[CV]  clf__alpha=1e-06, vect__max_df=0.8, vect__ngram_range=(1, 1), score=0.54250850170034, total=  12.7s\n",
      "[CV] clf__alpha=0.0001, vect__max_df=0.8, vect__ngram_range=(1, 1) ...\n",
      "[CV] clf__alpha=0.0001, vect__max_df=0.8, vect__ngram_range=(1, 1) ...\n",
      "[CV]  clf__alpha=0.0001, vect__max_df=0.8, vect__ngram_range=(1, 1), score=0.5593, total=  13.2s\n",
      "[CV] clf__alpha=0.0001, vect__max_df=0.8, vect__ngram_range=(1, 2) ...\n",
      "[CV]  clf__alpha=1e-06, vect__max_df=0.8, vect__ngram_range=(1, 2), score=0.566, total=  27.9s\n",
      "[CV]  clf__alpha=0.0001, vect__max_df=0.8, vect__ngram_range=(1, 1), score=0.5589117823564713, total=  13.4s\n"
     ]
    },
    {
     "name": "stderr",
     "output_type": "stream",
     "text": [
      "[Parallel(n_jobs=-1)]: Done   4 out of   8 | elapsed:   40.0s remaining:   40.0s\n"
     ]
    },
    {
     "name": "stdout",
     "output_type": "stream",
     "text": [
      "[CV]  clf__alpha=1e-06, vect__max_df=0.8, vect__ngram_range=(1, 2), score=0.5626125225045009, total=  28.0s\n",
      "[CV] clf__alpha=0.0001, vect__max_df=0.8, vect__ngram_range=(1, 2) ...\n",
      "[CV]  clf__alpha=0.0001, vect__max_df=0.8, vect__ngram_range=(1, 2), score=0.5331, total=  19.9s\n",
      "[CV]  clf__alpha=0.0001, vect__max_df=0.8, vect__ngram_range=(1, 2), score=0.5417083416683337, total=  19.3s\n"
     ]
    },
    {
     "name": "stderr",
     "output_type": "stream",
     "text": [
      "[Parallel(n_jobs=-1)]: Done   8 out of   8 | elapsed:  1.1min finished\n"
     ]
    },
    {
     "name": "stdout",
     "output_type": "stream",
     "text": [
      "Best parameters set found on development set:\n",
      "\n",
      "Pipeline(memory=None,\n",
      "     steps=[('vect', TfidfVectorizer(analyzer='word', binary=False, decode_error='strict',\n",
      "        dtype=<class 'numpy.int64'>, encoding='utf-8', input='content',\n",
      "        lowercase=True, max_df=0.8, max_features=None, min_df=1,\n",
      "        ngram_range=(1, 2), norm='l2', preprocessor=None, smooth_idf=True,\n",
      "  ...='l2', power_t=0.5, random_state=None,\n",
      "       shuffle=True, tol=None, verbose=0, warm_start=False))])\n",
      "\n",
      "Grid scores on development set:\n",
      "\n",
      "0.548 (+/-0.002) for {'clf__alpha': 1e-06, 'vect__max_df': 0.8, 'vect__ngram_range': (1, 1)}\n",
      "0.564 (+/-0.001) for {'clf__alpha': 1e-06, 'vect__max_df': 0.8, 'vect__ngram_range': (1, 2)}\n",
      "0.559 (+/-0.000) for {'clf__alpha': 0.0001, 'vect__max_df': 0.8, 'vect__ngram_range': (1, 1)}\n",
      "0.537 (+/-0.002) for {'clf__alpha': 0.0001, 'vect__max_df': 0.8, 'vect__ngram_range': (1, 2)}\n",
      "\n",
      "Fitting 2 folds for each of 4 candidates, totalling 8 fits\n",
      "[CV] clf__alpha=1e-06, vect__max_df=0.8, vect__ngram_range=(1, 1) ....\n",
      "[CV] clf__alpha=1e-06, vect__max_df=0.8, vect__ngram_range=(1, 1) ....\n",
      "[CV] clf__alpha=1e-06, vect__max_df=0.8, vect__ngram_range=(1, 2) ....\n",
      "[CV] clf__alpha=1e-06, vect__max_df=0.8, vect__ngram_range=(1, 2) ....\n",
      "[CV]  clf__alpha=1e-06, vect__max_df=0.8, vect__ngram_range=(1, 1), score=0.5471716969818109, total=  12.4s\n",
      "[CV] clf__alpha=0.0001, vect__max_df=0.8, vect__ngram_range=(1, 1) ...\n",
      "[CV]  clf__alpha=1e-06, vect__max_df=0.8, vect__ngram_range=(1, 1), score=0.544036788963311, total=  12.6s\n",
      "[CV] clf__alpha=0.0001, vect__max_df=0.8, vect__ngram_range=(1, 1) ...\n",
      "[CV]  clf__alpha=0.0001, vect__max_df=0.8, vect__ngram_range=(1, 1), score=0.5574655206875875, total=  12.3s\n",
      "[CV]  clf__alpha=0.0001, vect__max_df=0.8, vect__ngram_range=(1, 1), score=0.5604318704388683, total=  12.0s\n"
     ]
    },
    {
     "name": "stderr",
     "output_type": "stream",
     "text": [
      "[Parallel(n_jobs=-1)]: Done   4 out of   8 | elapsed:   38.5s remaining:   38.5s\n"
     ]
    },
    {
     "name": "stdout",
     "output_type": "stream",
     "text": [
      "[CV] clf__alpha=0.0001, vect__max_df=0.8, vect__ngram_range=(1, 2) ...\n",
      "[CV]  clf__alpha=1e-06, vect__max_df=0.8, vect__ngram_range=(1, 2), score=0.5663601838896662, total=  28.0s\n",
      "[CV] clf__alpha=0.0001, vect__max_df=0.8, vect__ngram_range=(1, 2) ...\n",
      "[CV]  clf__alpha=1e-06, vect__max_df=0.8, vect__ngram_range=(1, 2), score=0.56333100069979, total=  27.5s\n",
      "[CV]  clf__alpha=0.0001, vect__max_df=0.8, vect__ngram_range=(1, 2), score=0.5445732560463722, total=  18.6s\n",
      "[CV]  clf__alpha=0.0001, vect__max_df=0.8, vect__ngram_range=(1, 2), score=0.5442367289813056, total=  19.1s\n"
     ]
    },
    {
     "name": "stderr",
     "output_type": "stream",
     "text": [
      "[Parallel(n_jobs=-1)]: Done   8 out of   8 | elapsed:  1.1min finished\n"
     ]
    },
    {
     "name": "stdout",
     "output_type": "stream",
     "text": [
      "Best parameters set found on development set:\n",
      "\n",
      "Pipeline(memory=None,\n",
      "     steps=[('vect', TfidfVectorizer(analyzer='word', binary=False, decode_error='strict',\n",
      "        dtype=<class 'numpy.int64'>, encoding='utf-8', input='content',\n",
      "        lowercase=True, max_df=0.8, max_features=None, min_df=1,\n",
      "        ngram_range=(1, 2), norm='l2', preprocessor=None, smooth_idf=True,\n",
      "  ...='l2', power_t=0.5, random_state=None,\n",
      "       shuffle=True, tol=None, verbose=0, warm_start=False))])\n",
      "\n",
      "Grid scores on development set:\n",
      "\n",
      "0.546 (+/-0.001) for {'clf__alpha': 1e-06, 'vect__max_df': 0.8, 'vect__ngram_range': (1, 1)}\n",
      "0.565 (+/-0.001) for {'clf__alpha': 1e-06, 'vect__max_df': 0.8, 'vect__ngram_range': (1, 2)}\n",
      "0.559 (+/-0.001) for {'clf__alpha': 0.0001, 'vect__max_df': 0.8, 'vect__ngram_range': (1, 1)}\n",
      "0.544 (+/-0.000) for {'clf__alpha': 0.0001, 'vect__max_df': 0.8, 'vect__ngram_range': (1, 2)}\n",
      "\n",
      "Fitting 2 folds for each of 4 candidates, totalling 8 fits\n",
      "[CV] clf__alpha=1e-06, vect__max_df=0.8, vect__ngram_range=(1, 1) ....\n",
      "[CV] clf__alpha=1e-06, vect__max_df=0.8, vect__ngram_range=(1, 1) ....\n",
      "[CV] clf__alpha=1e-06, vect__max_df=0.8, vect__ngram_range=(1, 2) ....\n",
      "[CV] clf__alpha=1e-06, vect__max_df=0.8, vect__ngram_range=(1, 2) ....\n",
      "[CV]  clf__alpha=1e-06, vect__max_df=0.8, vect__ngram_range=(1, 1), score=0.5448910217956409, total=  11.7s\n",
      "[CV]  clf__alpha=1e-06, vect__max_df=0.8, vect__ngram_range=(1, 1), score=0.5445, total=  11.9s\n",
      "[CV] clf__alpha=0.0001, vect__max_df=0.8, vect__ngram_range=(1, 1) ...\n",
      "[CV] clf__alpha=0.0001, vect__max_df=0.8, vect__ngram_range=(1, 1) ...\n",
      "[CV]  clf__alpha=0.0001, vect__max_df=0.8, vect__ngram_range=(1, 1), score=0.5571885622875425, total=  11.7s\n",
      "[CV] clf__alpha=0.0001, vect__max_df=0.8, vect__ngram_range=(1, 2) ...\n",
      "[CV]  clf__alpha=1e-06, vect__max_df=0.8, vect__ngram_range=(1, 2), score=0.5704859028194361, total=  26.1s\n"
     ]
    },
    {
     "name": "stderr",
     "output_type": "stream",
     "text": [
      "[Parallel(n_jobs=-1)]: Done   4 out of   8 | elapsed:   36.9s remaining:   36.9s\n"
     ]
    },
    {
     "name": "stdout",
     "output_type": "stream",
     "text": [
      "[CV]  clf__alpha=0.0001, vect__max_df=0.8, vect__ngram_range=(1, 1), score=0.559, total=  11.9s\n",
      "[CV]  clf__alpha=1e-06, vect__max_df=0.8, vect__ngram_range=(1, 2), score=0.5596, total=  26.1s\n",
      "[CV] clf__alpha=0.0001, vect__max_df=0.8, vect__ngram_range=(1, 2) ...\n",
      "[CV]  clf__alpha=0.0001, vect__max_df=0.8, vect__ngram_range=(1, 2), score=0.5407918416316737, total=  17.5s\n",
      "[CV]  clf__alpha=0.0001, vect__max_df=0.8, vect__ngram_range=(1, 2), score=0.5377, total=  18.6s\n"
     ]
    },
    {
     "name": "stderr",
     "output_type": "stream",
     "text": [
      "[Parallel(n_jobs=-1)]: Done   8 out of   8 | elapsed:  1.1min finished\n"
     ]
    },
    {
     "name": "stdout",
     "output_type": "stream",
     "text": [
      "Best parameters set found on development set:\n",
      "\n",
      "Pipeline(memory=None,\n",
      "     steps=[('vect', TfidfVectorizer(analyzer='word', binary=False, decode_error='strict',\n",
      "        dtype=<class 'numpy.int64'>, encoding='utf-8', input='content',\n",
      "        lowercase=True, max_df=0.8, max_features=None, min_df=1,\n",
      "        ngram_range=(1, 2), norm='l2', preprocessor=None, smooth_idf=True,\n",
      "  ...='l2', power_t=0.5, random_state=None,\n",
      "       shuffle=True, tol=None, verbose=0, warm_start=False))])\n",
      "\n",
      "Grid scores on development set:\n",
      "\n",
      "0.545 (+/-0.000) for {'clf__alpha': 1e-06, 'vect__max_df': 0.8, 'vect__ngram_range': (1, 1)}\n",
      "0.565 (+/-0.003) for {'clf__alpha': 1e-06, 'vect__max_df': 0.8, 'vect__ngram_range': (1, 2)}\n",
      "0.558 (+/-0.000) for {'clf__alpha': 0.0001, 'vect__max_df': 0.8, 'vect__ngram_range': (1, 1)}\n",
      "0.539 (+/-0.001) for {'clf__alpha': 0.0001, 'vect__max_df': 0.8, 'vect__ngram_range': (1, 2)}\n",
      "\n",
      "Fitting 2 folds for each of 4 candidates, totalling 8 fits\n",
      "[CV] clf__alpha=1e-06, vect__max_df=0.8, vect__ngram_range=(1, 1) ....\n",
      "[CV] clf__alpha=1e-06, vect__max_df=0.8, vect__ngram_range=(1, 1) ....\n",
      "[CV] clf__alpha=1e-06, vect__max_df=0.8, vect__ngram_range=(1, 2) ....\n",
      "[CV] clf__alpha=1e-06, vect__max_df=0.8, vect__ngram_range=(1, 2) ....\n",
      "[CV]  clf__alpha=1e-06, vect__max_df=0.8, vect__ngram_range=(1, 1), score=0.5483903219356129, total=  12.7s\n",
      "[CV]  clf__alpha=1e-06, vect__max_df=0.8, vect__ngram_range=(1, 1), score=0.5442, total=  12.6s\n",
      "[CV] clf__alpha=0.0001, vect__max_df=0.8, vect__ngram_range=(1, 1) ...\n",
      "[CV] clf__alpha=0.0001, vect__max_df=0.8, vect__ngram_range=(1, 1) ...\n",
      "[CV]  clf__alpha=0.0001, vect__max_df=0.8, vect__ngram_range=(1, 1), score=0.5581883623275345, total=  12.2s\n",
      "[CV]  clf__alpha=1e-06, vect__max_df=0.8, vect__ngram_range=(1, 2), score=0.5657868426314737, total=  27.0s\n",
      "[CV]  clf__alpha=0.0001, vect__max_df=0.8, vect__ngram_range=(1, 1), score=0.5616, total=  12.1s\n"
     ]
    },
    {
     "name": "stderr",
     "output_type": "stream",
     "text": [
      "[Parallel(n_jobs=-1)]: Done   4 out of   8 | elapsed:   38.1s remaining:   38.1s\n"
     ]
    },
    {
     "name": "stdout",
     "output_type": "stream",
     "text": [
      "[CV] clf__alpha=0.0001, vect__max_df=0.8, vect__ngram_range=(1, 2) ...\n",
      "[CV]  clf__alpha=1e-06, vect__max_df=0.8, vect__ngram_range=(1, 2), score=0.5639, total=  26.7s\n",
      "[CV] clf__alpha=0.0001, vect__max_df=0.8, vect__ngram_range=(1, 2) ...\n",
      "[CV]  clf__alpha=0.0001, vect__max_df=0.8, vect__ngram_range=(1, 2), score=0.543, total=  17.2s\n",
      "[CV]  clf__alpha=0.0001, vect__max_df=0.8, vect__ngram_range=(1, 2), score=0.5415916816636672, total=  19.0s\n"
     ]
    },
    {
     "name": "stderr",
     "output_type": "stream",
     "text": [
      "[Parallel(n_jobs=-1)]: Done   8 out of   8 | elapsed:  1.1min finished\n"
     ]
    },
    {
     "name": "stdout",
     "output_type": "stream",
     "text": [
      "Best parameters set found on development set:\n",
      "\n",
      "Pipeline(memory=None,\n",
      "     steps=[('vect', TfidfVectorizer(analyzer='word', binary=False, decode_error='strict',\n",
      "        dtype=<class 'numpy.int64'>, encoding='utf-8', input='content',\n",
      "        lowercase=True, max_df=0.8, max_features=None, min_df=1,\n",
      "        ngram_range=(1, 2), norm='l2', preprocessor=None, smooth_idf=True,\n",
      "  ...='l2', power_t=0.5, random_state=None,\n",
      "       shuffle=True, tol=None, verbose=0, warm_start=False))])\n",
      "\n",
      "Grid scores on development set:\n",
      "\n",
      "0.546 (+/-0.001) for {'clf__alpha': 1e-06, 'vect__max_df': 0.8, 'vect__ngram_range': (1, 1)}\n",
      "0.565 (+/-0.000) for {'clf__alpha': 1e-06, 'vect__max_df': 0.8, 'vect__ngram_range': (1, 2)}\n",
      "0.560 (+/-0.001) for {'clf__alpha': 0.0001, 'vect__max_df': 0.8, 'vect__ngram_range': (1, 1)}\n",
      "0.542 (+/-0.000) for {'clf__alpha': 0.0001, 'vect__max_df': 0.8, 'vect__ngram_range': (1, 2)}\n",
      "\n",
      "Fitting 2 folds for each of 4 candidates, totalling 8 fits\n",
      "[CV] clf__alpha=1e-06, vect__max_df=0.8, vect__ngram_range=(1, 1) ....\n",
      "[CV] clf__alpha=1e-06, vect__max_df=0.8, vect__ngram_range=(1, 1) ....\n",
      "[CV] clf__alpha=1e-06, vect__max_df=0.8, vect__ngram_range=(1, 2) ....\n",
      "[CV] clf__alpha=1e-06, vect__max_df=0.8, vect__ngram_range=(1, 2) ....\n",
      "[CV]  clf__alpha=1e-06, vect__max_df=0.8, vect__ngram_range=(1, 1), score=0.5475784618469869, total=  12.5s\n",
      "[CV]  clf__alpha=1e-06, vect__max_df=0.8, vect__ngram_range=(1, 1), score=0.5442326980942829, total=  12.7s\n",
      "[CV] clf__alpha=0.0001, vect__max_df=0.8, vect__ngram_range=(1, 1) ...\n",
      "[CV] clf__alpha=0.0001, vect__max_df=0.8, vect__ngram_range=(1, 1) ...\n",
      "[CV]  clf__alpha=0.0001, vect__max_df=0.8, vect__ngram_range=(1, 1), score=0.5589090544470069, total=  11.9s\n",
      "[CV]  clf__alpha=0.0001, vect__max_df=0.8, vect__ngram_range=(1, 1), score=0.5586760280842528, total=  11.7s\n",
      "[CV] clf__alpha=0.0001, vect__max_df=0.8, vect__ngram_range=(1, 2) ...\n"
     ]
    },
    {
     "name": "stderr",
     "output_type": "stream",
     "text": [
      "[Parallel(n_jobs=-1)]: Done   4 out of   8 | elapsed:   37.9s remaining:   37.9s\n"
     ]
    },
    {
     "name": "stdout",
     "output_type": "stream",
     "text": [
      "[CV]  clf__alpha=1e-06, vect__max_df=0.8, vect__ngram_range=(1, 2), score=0.5663290885390555, total=  27.4s\n",
      "[CV] clf__alpha=0.0001, vect__max_df=0.8, vect__ngram_range=(1, 2) ...\n",
      "[CV]  clf__alpha=1e-06, vect__max_df=0.8, vect__ngram_range=(1, 2), score=0.5602808425275827, total=  27.2s\n",
      "[CV]  clf__alpha=0.0001, vect__max_df=0.8, vect__ngram_range=(1, 2), score=0.5369107321965898, total=  19.1s\n",
      "[CV]  clf__alpha=0.0001, vect__max_df=0.8, vect__ngram_range=(1, 2), score=0.5360473277850195, total=  18.7s\n"
     ]
    },
    {
     "name": "stderr",
     "output_type": "stream",
     "text": [
      "[Parallel(n_jobs=-1)]: Done   8 out of   8 | elapsed:  1.0min finished\n"
     ]
    },
    {
     "name": "stdout",
     "output_type": "stream",
     "text": [
      "Best parameters set found on development set:\n",
      "\n",
      "Pipeline(memory=None,\n",
      "     steps=[('vect', TfidfVectorizer(analyzer='word', binary=False, decode_error='strict',\n",
      "        dtype=<class 'numpy.int64'>, encoding='utf-8', input='content',\n",
      "        lowercase=True, max_df=0.8, max_features=None, min_df=1,\n",
      "        ngram_range=(1, 2), norm='l2', preprocessor=None, smooth_idf=True,\n",
      "  ...='l2', power_t=0.5, random_state=None,\n",
      "       shuffle=True, tol=None, verbose=0, warm_start=False))])\n",
      "\n",
      "Grid scores on development set:\n",
      "\n",
      "0.546 (+/-0.001) for {'clf__alpha': 1e-06, 'vect__max_df': 0.8, 'vect__ngram_range': (1, 1)}\n",
      "0.563 (+/-0.002) for {'clf__alpha': 1e-06, 'vect__max_df': 0.8, 'vect__ngram_range': (1, 2)}\n",
      "0.559 (+/-0.000) for {'clf__alpha': 0.0001, 'vect__max_df': 0.8, 'vect__ngram_range': (1, 1)}\n",
      "0.536 (+/-0.000) for {'clf__alpha': 0.0001, 'vect__max_df': 0.8, 'vect__ngram_range': (1, 2)}\n",
      "\n",
      "Fitting 2 folds for each of 4 candidates, totalling 8 fits\n",
      "[CV] clf__alpha=1e-06, vect__max_df=0.8, vect__ngram_range=(1, 1) ....\n",
      "[CV] clf__alpha=1e-06, vect__max_df=0.8, vect__ngram_range=(1, 1) ....\n",
      "[CV] clf__alpha=1e-06, vect__max_df=0.8, vect__ngram_range=(1, 2) ....\n",
      "[CV] clf__alpha=1e-06, vect__max_df=0.8, vect__ngram_range=(1, 2) ....\n"
     ]
    }
   ],
   "source": [
    "import matplotlib\n",
    "matplotlib.style.use('ggplot')\n",
    "\n",
    "for sprecher in alle_sprecher:\n",
    "\n",
    "    traindf = df[(df['sprecher']!=sprecher) & (df['wahlperiode']==18)]\n",
    "    testdf = df[(df['sprecher']==sprecher) & (df['wahlperiode']==18)].sort_values(['sitzung'])\n",
    "    \n",
    "    if (len(traindf) > 10) and (len(testdf) > 10):\n",
    "\n",
    "        tmpclf = train(traindf.text, traindf.partei)\n",
    "        predictions = tmpclf.predict_proba(testdf.text)\n",
    "        cla()\n",
    "        for partei_idx in range(predictions.shape[-1]):\n",
    "            partei = clf.classes_[partei_idx]\n",
    "            color = partei_farben[partei]\n",
    "            plot(testdf.sitzung, predictions[:, partei_idx],\"o\",color=color)\n",
    "            title(\"{} - ({})\".format(sprecher,partei))\n",
    "            savefig(sprecher + \".pdf\")\n"
   ]
  }
 ],
 "metadata": {
  "celltoolbar": "Raw Cell Format",
  "kernelspec": {
   "display_name": "Python 3",
   "language": "python",
   "name": "python3"
  },
  "language_info": {
   "codemirror_mode": {
    "name": "ipython",
    "version": 3
   },
   "file_extension": ".py",
   "mimetype": "text/x-python",
   "name": "python",
   "nbconvert_exporter": "python",
   "pygments_lexer": "ipython3",
   "version": "3.6.2"
  }
 },
 "nbformat": 4,
 "nbformat_minor": 1
}
